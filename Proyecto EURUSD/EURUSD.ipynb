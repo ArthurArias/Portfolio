{
  "nbformat": 4,
  "nbformat_minor": 0,
  "metadata": {
    "colab": {
      "private_outputs": true,
      "provenance": [],
      "collapsed_sections": [],
      "toc_visible": true,
      "mount_file_id": "1wyERP5hmRxxM0lNmVgqL7QtEeTMvkTSz",
      "authorship_tag": "ABX9TyN4UjYMoRot3cXnEqjyvIyb",
      "include_colab_link": true
    },
    "kernelspec": {
      "name": "python3",
      "display_name": "Python 3"
    }
  },
  "cells": [
    {
      "cell_type": "markdown",
      "metadata": {
        "id": "view-in-github",
        "colab_type": "text"
      },
      "source": [
        "<a href=\"https://colab.research.google.com/github/ArthurArias/Portfolio/blob/main/Proyecto%20EURUSD/EURUSD.ipynb\" target=\"_parent\"><img src=\"https://colab.research.google.com/assets/colab-badge.svg\" alt=\"Open In Colab\"/></a>"
      ]
    },
    {
      "cell_type": "markdown",
      "metadata": {
        "id": "2nqSUj_Auf8N"
      },
      "source": [
        "#Analisis de Datos de la divisa EURUSD\n",
        "\n",
        "Autor: Arturo Arias Zamudio, Ingeniero en Telecomunicaciones y Analista de Datos Junior<Br>\n",
        "Email: arturo.arias.zamudio@gmail.com<Br>\n",
        "Origen de datos:  base de datos de Metatrader 4<Br> \n",
        "Contenido de los datos: fecha, hora, apertura, máximo, mínimo, cierre, volumen de divisa EURUSD<Br> \n",
        "Rango de Fechas del archivo: 2010/02/17-2021/02/12<Br>\n",
        "Lenguaje del análisis: Python<Br>\n",
        "Librerías: Pandas, Numpy, Seaborn, Matplotlib, Datetime, Statiscs<Br>\n",
        "IDE: Google Colab <Br>\n",
        "Nombre del archivo: eurusd60<Br>\n",
        "Formato: CSV<Br>\n",
        "Tamaño del archivo: 3.40MB<Br>\n",
        "Numero de filas: 65023<Br>\n",
        "Numero de columnas: 7<Br>\n"
      ]
    },
    {
      "cell_type": "markdown",
      "metadata": {
        "id": "Iv8w3G8mv-z8"
      },
      "source": [
        "##Introducción:\n",
        "\n",
        "El objetivo de este análisis es encontrar una viabilidad económica en la inversión de la divisa EURUSD con CFDs, centrado en un enfoque alcista, analizando los puntos más adecuados para entrar al mercado y obtener ganancias mayores a 100€, 200€ y 300€ por hora, dependiendo del volumen con que se entre al mercado, ya sea de 0.5, 1, 2. Los datos analizados se han centrado en el año 2020.<br>\n",
        "Lo que se verá en este documento es la implementación a  nivel de software realizada en Python utilizando las librerías Pandas, Numpy, Seaborn, Matplotlib, Datetime y Statistics para para la obtención de resultados para su posterior análisis, aplicando mis conocimientos de matematicas, estadistica, análisis de dotos, programación y de la bolsa.\n",
        "\n",
        "\n"
      ]
    },
    {
      "cell_type": "markdown",
      "metadata": {
        "id": "xpAtmFAVvIeI"
      },
      "source": [
        "##Importación de  datos y librerías:"
      ]
    },
    {
      "cell_type": "code",
      "metadata": {
        "id": "z_iyu2oW3Cus"
      },
      "source": [
        "#Tablas dinamicas\n",
        "%load_ext google.colab.data_table"
      ],
      "execution_count": null,
      "outputs": []
    },
    {
      "cell_type": "code",
      "metadata": {
        "id": "p_FVT5A21eBt"
      },
      "source": [
        "\n",
        "import pandas as pd\n",
        "import numpy as np\n",
        "import seaborn as sns\n",
        "import matplotlib\n",
        "import matplotlib.pyplot as plt\n",
        "import datetime\n",
        "from statistics import mode\n",
        "\n",
        "#configuración de la visualización de datos\n",
        "pd.set_option('max_rows', 350)\n",
        "pd.set_option('max_columns', 30)\n",
        "\n",
        "df=pd.read_csv('/content/drive/MyDrive/Colab Notebooks/Pandas/Bolsa/EURUSD/EURUSD60.csv')\n",
        "df=pd.DataFrame(df)"
      ],
      "execution_count": null,
      "outputs": []
    },
    {
      "cell_type": "code",
      "metadata": {
        "id": "hqKPjCAPmQfQ"
      },
      "source": [
        "#Previsualización de la Documentación:\n",
        "df"
      ],
      "execution_count": null,
      "outputs": []
    },
    {
      "cell_type": "markdown",
      "metadata": {
        "id": "pgRf-95EpFoo"
      },
      "source": [
        "#Analisis Exploratorio:\n"
      ]
    },
    {
      "cell_type": "markdown",
      "metadata": {
        "id": "PL-6jsh-wNTi"
      },
      "source": [
        "Modificación de los datos para su correcta visualización."
      ]
    },
    {
      "cell_type": "code",
      "metadata": {
        "id": "bK-cAnCPpFXY"
      },
      "source": [
        "#Implementación de columnas\n",
        "\n",
        "lista=['fecha', 'hora','apertura', 'maximo', 'minimo', 'cierre', 'volumen']\n",
        "df.columns=lista\n",
        "df.tail()"
      ],
      "execution_count": null,
      "outputs": []
    },
    {
      "cell_type": "code",
      "metadata": {
        "id": "iYcqdTJ7_fLZ"
      },
      "source": [
        "\"\"\"\n",
        "Análisis Gráfico:Limpieza de datos\n",
        "La existencia de lineas blancas, denotan la presencia de datos falatantes\n",
        "\"\"\"\n",
        "\n",
        "plt.figure(figsize=(5,5))\n",
        "sns.heatmap(df.isnull(),yticklabels=False,cbar=False)"
      ],
      "execution_count": null,
      "outputs": []
    },
    {
      "cell_type": "code",
      "metadata": {
        "id": "wPAnMeaxpJUR"
      },
      "source": [
        "\"\"\"\n",
        "Análisis Cuantitativo:\n",
        "===============================================================================\n",
        "El análisis corrobora el análisis gráfico, si los datos demuestran la no existencia de datos faltantes.\n",
        "no se deberá de hacer ninguna modificación.\n",
        "\"\"\"\n",
        "\n",
        "df.isna().sum().sort_values(ascending= False)"
      ],
      "execution_count": null,
      "outputs": []
    },
    {
      "cell_type": "code",
      "metadata": {
        "id": "F5lAxV73r1KF"
      },
      "source": [
        "\"\"\"\n",
        "Análisis Superficial:\n",
        "==========================================================\n",
        "Este análisis nos permite comprobar:\n",
        "   - El estado de los datos\n",
        "   - Su formato y comprobar que todas\n",
        "   - Que las columnas tienen la misma cantidad de valores\n",
        "\"\"\"\n",
        "\n",
        "df.info()"
      ],
      "execution_count": null,
      "outputs": []
    },
    {
      "cell_type": "code",
      "metadata": {
        "id": "u97qyPkzPxd3"
      },
      "source": [
        "\"\"\"\n",
        "Modificación del Formato y comprobación:\n",
        "=========================================\n",
        "La columna fecha y hora son de formato “object”, por lo que se procederá a modificar su formato\n",
        "a datetime para trabajarlos mejor.Se realiza este cambio para poder extraer la mayor cantidad\n",
        "de datos posibles y mejorar el análisis cuantitativo.\n",
        "Una vez hecho se volverá a realizar otro análisis superficial para comprobar su correcta modificación.\n",
        "\"\"\"\n",
        "df['fecha']=pd.to_datetime(df['fecha'])\n",
        "df['hora']=pd.to_datetime(df['hora'])\n",
        "#Previsualización:\n",
        "df.head()"
      ],
      "execution_count": null,
      "outputs": []
    },
    {
      "cell_type": "code",
      "metadata": {
        "id": "N5-kCGgVw_cs"
      },
      "source": [
        "#Análisis Superficial 2\n",
        "df.info()"
      ],
      "execution_count": null,
      "outputs": []
    },
    {
      "cell_type": "code",
      "metadata": {
        "id": "u8hV0TUdN5z2"
      },
      "source": [
        "\"\"\"\n",
        "Modificación de Datos:\n",
        "================================\n",
        "A partir de los datos iniciales, se definen nuevos parametros, esto permite una mejor abstracción \n",
        "de la información de la información\n",
        "\"\"\"\n",
        "\n",
        "dia={0:'Lunes',\n",
        "     1:'Martes',\n",
        "     2:'Miercoles',\n",
        "     3:'Jueves',\n",
        "     4: 'Viernes'}\n",
        "\n",
        "mes={1:'Enero',\n",
        "     2: 'Febrero',\n",
        "     3:'Marzo',\n",
        "     4: 'Abril',\n",
        "     5: 'Maayo',\n",
        "     6: 'Junio',\n",
        "     7: 'Julio',\n",
        "     8: 'Agosto',\n",
        "     9: 'Septiembre',\n",
        "     10: 'Octubre',\n",
        "     11: 'Noviembre',\n",
        "     12: 'Diciembre'}\n",
        "\n",
        "tendencia={1:'Alcista',-1:'Bajista',0:'Nula'}\n",
        "\n",
        "# df['mes_nombre']=df.fecha.dt.month_name()#EnglisVersion\n",
        "# df['dia_nombre']=df.fecha.dt.day_name()#EnglisVersion\n",
        "df['dayofweek']=df.fecha.dt.dayofweek\n",
        "df['dia_nombre']=df.dayofweek.map(dia)\n",
        "\n",
        "\n",
        "df[\"dia_semana\"]=df.fecha.dt.day\n",
        "df[\"semana_numero\"]=df.fecha.dt.weekofyear\n",
        "df[\"hora\"]=df.hora.dt.hour\n",
        "df['año']=df.fecha.dt.year\n",
        "df['mes']=df.fecha.dt.month\n",
        "df['mes_nombre']=df.dayofweek.map(mes)\n",
        "df['vol_1']=0.826\n",
        "df['vol_2']=df['vol_1']*2\n",
        "df['vol_0.5']=df['vol_1']*0.5\n",
        "df['vol_0.1']=df['vol_1']*0.1\n",
        "df['pip']=(df.maximo-df.minimo)*100000\n",
        "\n",
        "def funcion(x):\n",
        "  if x>0:\n",
        "    return -1\n",
        "  elif  x<0:\n",
        "    return 1\n",
        "  else:\n",
        "    return 0\n",
        "\n",
        "df['diferencia']=df.maximo-df.minimo\n",
        "df['estado']=df.apertura-df.cierre\n",
        "df['estado_up_down']=df['estado'].apply(lambda x: funcion(x))\n",
        "df['Tendencia']=df.estado_up_down.map(tendencia)"
      ],
      "execution_count": null,
      "outputs": []
    },
    {
      "cell_type": "code",
      "metadata": {
        "id": "YCtgpU0-rMxQ"
      },
      "source": [
        "# Previsualización\n",
        "df.head()"
      ],
      "execution_count": null,
      "outputs": []
    },
    {
      "cell_type": "code",
      "metadata": {
        "id": "EleJaC0ew8ZD"
      },
      "source": [
        "\"\"\"\n",
        "Filtrado de Datos:Obtención de datos del año 2020\n",
        "==================================================\n",
        "Creación de listas, que almacenan los df de cada mes del año\n",
        "Contiene ambas tendencias,alcista y bajista\n",
        "\"\"\"\n",
        "\n",
        "lista=list(range(1,13))\n",
        "lista\n",
        "year20=[0]\n",
        "year21=[0]\n",
        "for i in lista:\n",
        "\n",
        "  year20.append(i)\n",
        "  year20[i]=df[(df.mes==i)&(df.año==2020)]\n",
        "  year20[i]=year20[i].reset_index()\n",
        "  year20[i].drop( ['index'] , axis=1, inplace=True)\n",
        "  year21.append(i)\n",
        "  year21[i]=df[(df.mes==i)&(df.año==2021)]\n",
        "  year21[i]=year21[i].reset_index()\n",
        "  year21[i].drop( ['index'] , axis=1, inplace=True)\n",
        "\n",
        "#Previsualización de resultado\n",
        "year20[1].head(5)"
      ],
      "execution_count": null,
      "outputs": []
    },
    {
      "cell_type": "markdown",
      "metadata": {
        "id": "pRVVdnn9D3D_"
      },
      "source": [
        "##Gráficas de Circulares "
      ]
    },
    {
      "cell_type": "code",
      "metadata": {
        "id": "j4Cbd3robp_6"
      },
      "source": [
        "\"\"\"\n",
        "Implementación de las Graficas de circular Anual y Mensual:\n",
        "\n",
        "Análisis  Porcentual (Frecuencia Relativa) de las Tendencias del año 2020\n",
        "==========================================================================\n",
        "\n",
        "Esta gráfica nos enseña el comportamiento de las tendencias  alcista, bajista o\n",
        "nula que hubo durante el 2020.\n",
        "\"\"\"\n",
        "#Implementación de las Graficas de circular Anual\n",
        "labels= 'Alcista', 'Bajista','Nula'\n",
        "colors=['g','r','y']\n",
        "plt.pie(df[df.año==2020]['estado_up_down'].value_counts(), labels=labels,colors=colors,autopct='%1.1f%%', shadow=1, startangle=90)\n",
        "plt.title('Analisis del Año 2020')"
      ],
      "execution_count": null,
      "outputs": []
    },
    {
      "cell_type": "code",
      "metadata": {
        "id": "zcCCytUz_kwT"
      },
      "source": [
        "#Implementación de las Graficas de circular mensual\n",
        "\n",
        "fig=plt.figure(figsize=(20,15))\n",
        "fig.tight_layout(w_pad =1,h_pad=1)\n",
        "meses=['Enero', 'Febrero', 'Marzo', 'Abril', 'Mayo', 'Junio', 'Julio', 'Agosto', ' Septiembre', 'Octubre', 'Noviembre', 'Diciembre']\n",
        "for i in range(1,13):\n",
        "\n",
        "    try:\n",
        "      valor_nulo=list(year20[i]['estado_up_down'].isin([0]).value_counts())\n",
        "      valor_nulo[1]\n",
        "      ax=plt.subplot(3,4,i)\n",
        "      labels= 'Alcista', 'Bajista', 'Nula'\n",
        "      colors=['g','r','y']\n",
        "      plt.pie(year20[i]['estado_up_down'].value_counts(), labels=labels,colors=colors,autopct='%1.1f%%', shadow=1, startangle=90)\n",
        "      plt.title('Analisis mes de Enero')\n",
        "      ax.set_title('Mes de '+ meses[i-1]+\" del 2020\")\n",
        "      \n",
        "    except:\n",
        "      ax=plt.subplot(3,4,i)\n",
        "      labels= 'Alcista', 'Bajista'\n",
        "      colors=['g','r','y']\n",
        "      plt.pie(year20[i]['estado_up_down'].value_counts(), labels=labels,colors=colors,autopct='%1.1f%%', shadow=1, startangle=90)\n",
        "      plt.title('Analisis mes de Enero')\n",
        "      ax.set_title('Mes  de '+meses[i-1]+\" del 2020\")"
      ],
      "execution_count": null,
      "outputs": []
    },
    {
      "cell_type": "code",
      "metadata": {
        "id": "vPJyKpvExolY"
      },
      "source": [
        "\"\"\"\n",
        "Implementación de las Graficas de barra anual y mensual:\n",
        "==============================================\n",
        "La gráfica nos indica, la cantidades de veces en el año, en que hubo una\n",
        "tendencia determinada en el mercado ya sea alcista o bajista\n",
        "\"\"\"\n",
        "df[df.año==2020]# filtro para datos del 2020\n",
        "\n",
        "# Graficas de barra anual\n",
        "plt.figure(figsize=(4,6))\n",
        "sns.set_theme(style=\"whitegrid\")\n",
        "colors=['r','g','y']\n",
        "sns.countplot('Tendencia',  data=df[df.año==2020],palette=colors)\n",
        "plt.title('Analiis del Año 2020')"
      ],
      "execution_count": null,
      "outputs": []
    },
    {
      "cell_type": "code",
      "metadata": {
        "id": "Cr3Xt3uBaLjw"
      },
      "source": [
        "# Graficas de barra anual\n",
        "\n",
        "plt.figure(figsize=(20,25))\n",
        "fig.tight_layout()\n",
        "meses=['Enero', 'Febrero', 'Marzo', 'Abril', 'Mayo', 'Junio', 'Julio', 'Agosto', ' Septiembre', 'Octubre', 'Noviembre', 'Diciembre']\n",
        "for i in range(1,13):\n",
        "  \n",
        "   \n",
        "    ax=plt.subplot(3,4,i)\n",
        "    # labels= 'Alcista', 'Bajista'\n",
        "    # colors=['g','r','y]\n",
        "    colors=['skyblue']\n",
        "    sns.countplot('Tendencia',  data=year20[i], palette=colors)\n",
        "    plt.title('Analiis mes de Enero')\n",
        "    ax.set_title('Mes  de '+meses[i-1]+\" del 2020\")\n",
        " \n",
        "\n"
      ],
      "execution_count": null,
      "outputs": []
    },
    {
      "cell_type": "markdown",
      "metadata": {
        "id": "7TakSbw9irKo"
      },
      "source": [
        "##Análisis de Puntos:Rentabilidad de Inversión\n",
        "\n"
      ]
    },
    {
      "cell_type": "code",
      "metadata": {
        "id": "ETj5mZcHbZiq"
      },
      "source": [
        "# Rentabilidad producida en el 2020\n",
        "x=df[(df.estado_up_down==-1)&(df.año==2020)]['pip'].sum()\n",
        "y=df[(df.estado_up_down==1)&(df.año==2020)]['pip'].sum()\n",
        "a1=(y-x)*0.826*2\n",
        "a2=(y-x)*0.826\n",
        "a3=(y-x)*0.826*0.5\n",
        "print('Rentabilidad esperada trabajando con un volumen de 2: ', f\"{a1:.2f}\",'€')\n",
        "print('Rentabilidad esperada trabajando con un volumen de 1: ',f\"{a2:.2f}\" ,'€')\n",
        "print('Rentabilidad esperada trabajando con un volumen de 0.5: ',f\"{a3:.2f}\" ,'€','\\n')\n",
        "\n"
      ],
      "execution_count": null,
      "outputs": []
    },
    {
      "cell_type": "markdown",
      "metadata": {
        "id": "MMAbX226Zbqn"
      },
      "source": [
        "##Análisis Estadístico para el Desarrollo de Operaciones\n",
        "\n",
        "\n",
        "\n"
      ]
    },
    {
      "cell_type": "code",
      "metadata": {
        "id": "WNG80FGLmybO"
      },
      "source": [
        "\"\"\"\n",
        "Recomendación para realización de operaciones en el trading según la tendencia\n",
        "\n",
        "\"\"\"\n",
        "#Tendencias Alcista\n",
        "media=df[(df.estado_up_down==1)&(df.año==2020)]['pip'].mean()\n",
        "desv=df[(df.estado_up_down==1)&(df.año==2020)]['pip'].std()\n",
        "q1=np.quantile(df[(df.estado_up_down==1)&(df.año==2020)]['pip'],0.25)\n",
        "q3=np.quantile(df[(df.estado_up_down==1)&(df.año==2020)]['pip'],0.75)\n",
        "x=mode(df[(df.estado_up_down==-1)&(df.año==2020)]['pip'])\n",
        "y=mode(df[(df.estado_up_down==1)&(df.año==2020)]['pip'])\n",
        "\n",
        "print('Análisis Estadístico  del Mercado Alcista\\n',df[(df.estado_up_down==1)&(df.año==2020)]['pip'].describe() )\n",
        "print('Rango Intercuartílico: ',f\"{q3-q1:.2f}\",'puntos','\\n' )\n",
        "\n",
        "#Recomendaciones TEndencia alcista:\n",
        "\n",
        "print(\"Trailing Stop recomendado:\", f\"{media:.0f}\")\n",
        "print(\"Stop Loss recomendado:\", f'{desv:.0f}' , \"puntos\")\n",
        "print(\"Take Profit recomendado:\", f'{desv+media:.0f}' , \"puntos\")\n",
        "print(\"Puntos distribuidos entre el (25%:\", f\"{q1:.0f}\",\"puntos) y el (75%:\", f\"{q3:.0f}\",\"puntos)\")\n",
        "print(\"Rango de dispersión\", f\"{q3-q1:.0f}\",  \"puntos.\")\n",
        "print('Volumen más repetido en el mercados de 1 hora',f\"{y:.2f}\",'\\n')\n",
        "\n",
        "#Tendencias Bajista\n",
        "\n",
        "media=df[(df.estado_up_down==-1)&(df.año==2020)]['pip'].mean()\n",
        "desv=df[(df.estado_up_down==-1)&(df.año==2020)]['pip'].std()\n",
        "q1=np.quantile(df[(df.estado_up_down==-1)&(df.año==2020)]['pip'],0.25)\n",
        "q3=np.quantile(df[(df.estado_up_down==-1)&(df.año==2020)]['pip'],0.75)\n",
        "print('Análisis Estadístico  del Mercado Bajista\\n',df[(df.estado_up_down==-1)&(df.año==2020)]['pip'].describe() )\n",
        "print('Rango Intercuartílico: ',f\"{q3-q1:.2f}\",'puntos','\\n' )\n",
        "\n",
        "#Recomendaciones TEndencia alcista:\n",
        "\n",
        "print(\"Trailing Stop Recomendado:\", f\"{media:.0f}\")\n",
        "print(\"Stop Loss Recomendado:\", f'{desv:.0f}' , \"puntos\")\n",
        "print(\"Take Profit Recomendado:\", f'{desv+media:.0f}' , \"puntos\")\n",
        "print(\"Puntos Distribuidos entre el (25%:\", f\"{q1:.0f}\",\"puntos) y el (75%:\", f\"{q3:.0f}\",\"puntos)\")\n",
        "print(\"Rango de Dispersión\", f\"{q3-q1:.0f}\",  \"puntos.\")\n",
        "print('Volumen más Repetido en  el Mercado de 1 hora',f\"{x:.2f}\",'\\n')"
      ],
      "execution_count": null,
      "outputs": []
    },
    {
      "cell_type": "markdown",
      "metadata": {
        "id": "kx8SMVGfbY_j"
      },
      "source": [
        "##Graficas de Caja Anual  Mensual de los Puntos Acumulados del 2020\n"
      ]
    },
    {
      "cell_type": "code",
      "metadata": {
        "id": "kQYKyGpEdrXp"
      },
      "source": [
        "#BoxPlots tendencia Alcista y Bajista\n",
        "\n",
        "plt.figure(figsize=(10,7))\n",
        "ax=plt.subplot(1,2,1)\n",
        "# plt.figure()\n",
        "plt.boxplot(df[(df.estado_up_down==1)&(df.año==2020)]['pip'])\n",
        "plt.ylabel('Rating')\n",
        "plt.title('Representación Alcista')\n",
        "plt.grid(True)\n",
        "ax=plt.subplot(1,2,2)\n",
        "# plt.figure()\n",
        "plt.boxplot(df[(df.estado_up_down==-1)&(df.año==2020)]['pip'])\n",
        "plt.ylabel('Rating')\n",
        "plt.title('Representación bajista')\n",
        "plt.grid(True)"
      ],
      "execution_count": null,
      "outputs": []
    },
    {
      "cell_type": "code",
      "metadata": {
        "id": "EmY8VSGktjzV"
      },
      "source": [
        "# Tabla de Outliers\n",
        "q4=np.quantile(df[(df.estado_up_down==1)&(df.año==2020)]['pip'],0.9)\n",
        "outliers=df[(df.estado_up_down==1)&(df.año==2020)&(df.pip>q4)]\n",
        "outliers=pd.pivot_table(outliers ,index=['mes','dia_semana','dia_nombre','hora'], values= ['pip'],aggfunc=['count' ,max    ], margins=True)\n",
        "df_outliers=pd.DataFrame(outliers)\n",
        "df_outliers.reset_index(inplace=True)\n",
        "print('Outliers (Mes/dia/hora)\\n',outliers,'\\n' )"
      ],
      "execution_count": null,
      "outputs": []
    },
    {
      "cell_type": "code",
      "metadata": {
        "id": "Mn1e6ypIt9dH"
      },
      "source": [
        "#Datos relevantes de tabla Outliers\n",
        "print('Mes de  Mayor Tendencia Alcista del Año:',list(df_outliers.iloc[:,0].mode()))\n",
        "print('Dia del Año  de  Mayor Tendencia Alcista del Año:',list(df_outliers.iloc[:,1].mode()))\n",
        "print('Dia de la Semana de Mayor Tendencia Alcista del Año:',list(df_outliers.iloc[:,2].mode()))\n",
        "print('Hora del Año de Mayor Tendencia Alcista:',list(df_outliers.iloc[:,3].mode()) ) "
      ],
      "execution_count": null,
      "outputs": []
    },
    {
      "cell_type": "code",
      "metadata": {
        "id": "Ixd4Fa1hY6zW"
      },
      "source": [
        "#BoxpPlot de Puntos acumulados de Tendencia Alcista Mensual\n",
        "\n",
        "plt.figure(figsize=(15,15))\n",
        "fig.tight_layout()\n",
        "meses=['Enero', 'Febrero', 'Marzo', 'Abril', 'Mayo', 'Junio', 'Julio', 'Agosto', ' Septiembre', 'Octubre', 'Noviembre', 'Diciembre']\n",
        "for i in range(1,13):\n",
        " \n",
        "    ax=plt.subplot(3,4,i)\n",
        "    # labels= 'Alcista', 'Bajista'\n",
        "    plt.boxplot(year20[i]['pip'])\n",
        "    plt.title('Análisis   mes de Enero')\n",
        "   \n",
        "    ax.set_title('Mes de '+meses[i-1]+\" del 2020\")"
      ],
      "execution_count": null,
      "outputs": []
    },
    {
      "cell_type": "markdown",
      "metadata": {
        "id": "04gZIFCiiDku"
      },
      "source": [
        "## Gráfica de Distribución Normal \n"
      ]
    },
    {
      "cell_type": "code",
      "metadata": {
        "id": "H41PVDcYg91a"
      },
      "source": [
        "plt.figure(figsize=(5,5))\n",
        "sns.distplot(df[(df.estado_up_down==-1)&(df.año==2020)]['pip'], hist=1, rug=True, color='r')\n",
        "sns.distplot(df[(df.estado_up_down==1)&(df.año==2020)]['pip'], hist=1, rug=True, color='g')"
      ],
      "execution_count": null,
      "outputs": []
    },
    {
      "cell_type": "markdown",
      "metadata": {
        "id": "erWvaZFs_Yhl"
      },
      "source": [
        "##Matriz de Correlación Anual\n"
      ]
    },
    {
      "cell_type": "code",
      "metadata": {
        "id": "iGooLZQ2_S2Z"
      },
      "source": [
        "ax= plt.subplots(figsize=(8,8))\n",
        "corr=df.loc[:,['semana_numero', 'hora',  'pip']].corr()\n",
        "sns.heatmap(corr,cmap='Greens', annot=True, fmt='.2f', linewidths=1, linecolor='black')"
      ],
      "execution_count": null,
      "outputs": []
    },
    {
      "cell_type": "markdown",
      "metadata": {
        "id": "4L2dIEZGeX68"
      },
      "source": [
        "##Análisis  Mensual del año  2020\n",
        "El análisis de cada uno de los meses, se centrará en puntos acumulados superiores a 120 puntos, para  buscar una ganancia superior a 100€ por hora."
      ]
    },
    {
      "cell_type": "code",
      "metadata": {
        "id": "AhObMcKWMBib"
      },
      "source": [
        "\"\"\"\n",
        "Filtrado de los Datos (Tendencia Alcista) 2020:\n",
        "================================================\n",
        "Este filtrado se hace para utilizar solamente la información relevante para la\n",
        "obtención de los resultados\n",
        "\"\"\"\n",
        "#Filtro Tendencia Alcista\n",
        "df=df[(df.año==2020)].drop(['fecha','apertura', 'maximo','minimo', 'cierre', 'volumen', 'diferencia', 'estado'] ,axis=1)\n",
        "df=df[['año','mes','mes_nombre', 'dia_semana', 'dia_nombre','semana_numero','hora','estado_up_down', 'pip','vol_1',\t'vol_2'\t,'vol_0.5','vol_0.1']]\n",
        "df=df[(df.estado_up_down==1)&(df.pip>=120)]\n",
        "\n",
        "#Creación de listas, que almacenan los df de cada mes del año\n",
        "lista=list(range(1,13))\n",
        "lista\n",
        "year20p=[0]\n",
        "year21p=[0]\n",
        "for i in lista:\n",
        "\n",
        "  year20p.append(i)\n",
        "  year20p[i]=df[(df.mes==i)&(df.año==2020)]\n",
        "  year20p[i]=year20p[i].reset_index()\n",
        "  year20p[i].drop( ['index'] , axis=1, inplace=True)\n",
        "  year21p.append(i)\n",
        "  year21p[i]=df[(df.mes==i)&(df.año==2021)]\n",
        "  year21p[i]=year21p[i].reset_index()\n",
        "  year21p[i].drop( ['index'] , axis=1, inplace=True)\n",
        "\n",
        "year20p[1]"
      ],
      "execution_count": null,
      "outputs": []
    },
    {
      "cell_type": "markdown",
      "metadata": {
        "id": "iGu2wtRCxQvP"
      },
      "source": [
        "\n",
        "\n",
        "\n",
        "\n",
        "#Enero del 2020"
      ]
    },
    {
      "cell_type": "code",
      "metadata": {
        "id": "xOXuTAgMczE_"
      },
      "source": [
        "##Matriz de Correlación del Mes\n",
        "n=1# numero mes\n",
        "ax= plt.subplots(figsize=(6,5))\n",
        "corr=year20p[n].loc[:,['semana_numero', 'hora',  'pip']].corr()\n",
        "sns.heatmap(corr,cmap='Greens', annot=True, fmt='.2f', linewidths=1, linecolor='black')"
      ],
      "execution_count": null,
      "outputs": []
    },
    {
      "cell_type": "markdown",
      "metadata": {
        "id": "E7siMdCHT2cU"
      },
      "source": [
        " ##Análisis del Mes: Semanal, diario, por horas\n",
        " \n"
      ]
    },
    {
      "cell_type": "code",
      "metadata": {
        "id": "S3S6kVMtieAQ"
      },
      "source": [
        "# Gráfica de dispersión: Semanas del Mes\n",
        "plt.figure(figsize=(5,5))\n",
        "n=1\n",
        "x=year20p[n]['semana_numero']\n",
        "y=year20p[n]['pip']\n",
        "\n",
        "plt.scatter(x,y, c='g')\n",
        "plt.xticks(range(6))"
      ],
      "execution_count": null,
      "outputs": []
    },
    {
      "cell_type": "code",
      "metadata": {
        "id": "nWkUWMaHXW9O"
      },
      "source": [
        "#Máximos Puntos Acumulados del Mes\n",
        "# obtención de la máxima cantidad de puntos acumulados en 1 hora.\n",
        "\n",
        "TablaResumen_En=pd.pivot_table(year20p[1] ,index=['semana_numero'], values= ['pip',\"dia_nombre\",'hora'],aggfunc=['count' ,max,  np.mean  ], margins=True)\n",
        "TablaResumen_sm_En=pd.pivot_table(year20p[1] ,index=['semana_numero'], values= ['pip',\"dia_nombre\",'hora'],aggfunc=['count' ,max,  np.mean  ])\n",
        "df_TablaResumen_En=pd.DataFrame(TablaResumen_En)\n",
        "df_TablaResumen_sm_En=pd.DataFrame(TablaResumen_En)#sin margenes\n",
        "num_horas_dest_En=list(df_TablaResumen_sm_En.iloc[:,4].mode().value_counts().value_counts())\n",
        "horas_dest_En=list(df_TablaResumen_sm_En.iloc[:,4].mode())\n",
        "print(TablaResumen_En,'\\n')\n",
        "#Resumen de tabla:\n",
        "print('Numero Total de horas destacables del mes:',df_TablaResumen_En.iloc[-1,1] )\n",
        "print('Dia más  destacables del mes:',mode(df_TablaResumen_En.iloc[:,3]) )\n",
        "print('Numero de horas  destacables del mes:',num_horas_dest_En[0] ) \n",
        "print('Hora(s)  destacables del mes:',horas_dest_En ) "
      ],
      "execution_count": null,
      "outputs": []
    },
    {
      "cell_type": "code",
      "metadata": {
        "id": "j76063mlTvrR"
      },
      "source": [
        "#Gráfica de dispersión de los días de la semana\n",
        "plt.figure(figsize=(15,8))\n",
        "x=year20p[n]['dia_semana']\n",
        "y=year20p[n]['pip']\n",
        "plt.scatter(x,y ,)\n",
        "plt.xticks(range(32))"
      ],
      "execution_count": null,
      "outputs": []
    },
    {
      "cell_type": "code",
      "metadata": {
        "id": "Evuv3VRvZ-El"
      },
      "source": [
        "#Gráfica de dispersión de las horas de la semana\n",
        "\n",
        "plt.figure(figsize=(15,8))\n",
        "x=year20p[1]['hora']\n",
        "y=year20p[1]['pip']\n",
        "plt.scatter(x,y)\n",
        "plt.xticks(range(24))"
      ],
      "execution_count": null,
      "outputs": []
    },
    {
      "cell_type": "markdown",
      "metadata": {
        "id": "4TLl7d0waomf"
      },
      "source": [
        "###Resumen del Comportamiento de la Tendencia alcista del mes\n"
      ]
    },
    {
      "cell_type": "code",
      "metadata": {
        "id": "fXuIRS9IaklC"
      },
      "source": [
        "\"\"\"\"\n",
        "Tabla:\n",
        "Comportamiento del mercado durante todos los días  del mes que tuvieron una\n",
        "tendencia alcista superior a 120 puntos  con sus horas referenciadas.\n",
        "\"\"\"\n",
        "\n",
        "TablaResumen_En_m=pd.pivot_table(year20p[1] ,index=['dia_semana','dia_nombre','hora'], values= ['pip'],aggfunc=['count' ,max ,sum   ], margins=True)\n",
        "TablaResumen_sm_En_m=pd.pivot_table(year20p[1] ,index=['dia_semana','dia_nombre','hora'], values= ['pip'],aggfunc=['count' ,max  ])\n",
        "df_TablaResumen_En_m=pd.DataFrame(TablaResumen_En_m)\n",
        "df_TablaResumen_sm_En_m=pd.DataFrame(TablaResumen_En_m)#sin margenes\n",
        "print(df_TablaResumen_En_m,'\\n')#Tabla pivote\n",
        "df_TablaResumen_En_m.reset_index(inplace=True)\n",
        "df_TablaResumen_En_m_d=pd.DataFrame(df_TablaResumen_En_m.loc[:,[('dia_nombre',    '')]].mode())\n",
        "df_TablaResumen_En_m_h_c=list(df_TablaResumen_En_m.loc[:,[(      'hora',    '')]].mode().count())\n",
        "df_TablaResumen_En_m_h=df_TablaResumen_En_m.loc[:,[(      'hora',    '')]].mode()\n",
        "#Resumen de Tabla\n",
        "print('Dia más  destacables del mes:',list(df_TablaResumen_En_m_d['dia_nombre'])[0])\n",
        "print('Numero de horas  destacables del mes:',df_TablaResumen_En_m_h_c[0]) \n",
        "print('Hora(s) destacable(s) del mes:',list(df_TablaResumen_En_m_h['hora'])[:]) "
      ],
      "execution_count": null,
      "outputs": []
    },
    {
      "cell_type": "markdown",
      "metadata": {
        "id": "g7gJ_v9ko-2g"
      },
      "source": [
        "####Análisis por Numero de operaciones por Dia\n"
      ]
    },
    {
      "cell_type": "code",
      "metadata": {
        "id": "qJQlp1VBRc4y"
      },
      "source": [
        "#El objetivo:buscar días potenciales de inversión.\n",
        "#Un día potencial será aquel que haya tenido, más de 2 operaciones\n",
        "dia_operaciones=pd.pivot_table(year20p[n] ,index=['dia_semana','dia_nombre'], values= ['pip'],aggfunc=['count',sum])\n",
        "\n",
        "df_dia_operaciones=pd.DataFrame( dia_operaciones)\n",
        "df_dia_operaciones.reset_index(inplace=True)\n",
        "df_dia_operaciones=df_dia_operaciones[df_dia_operaciones.iloc[:,2]>2]\n",
        "df_dia_operaciones.columns.set_levels(['Horas Potenciales','Beneficio Pip','Nombre',  'Dia del Mes'],level=0,inplace=True)\n",
        "df_dia_operaciones[ 'Total Benef vol(2)']=df_dia_operaciones.iloc[:,3]*0.82*2\n",
        "df_dia_operaciones[ 'Total Benef vol(1)']=df_dia_operaciones.iloc[:,3]*0.82*1\n",
        "df_dia_operaciones[ 'Total Benef vol(0.5)']=df_dia_operaciones.iloc[:,3]*0.82*0.5\n",
        "df_dia_operaciones.columns.set_levels(['',' ' ],level=1,inplace=True)\n",
        "df_dia_operaciones"
      ],
      "execution_count": null,
      "outputs": []
    },
    {
      "cell_type": "markdown",
      "metadata": {
        "id": "D6_rRIceRlRK"
      },
      "source": [
        "\n",
        "##Puntos Acumulados por Lote\n"
      ]
    },
    {
      "cell_type": "code",
      "metadata": {
        "id": "EpIiqAdzUqo6"
      },
      "source": [
        "n=1\n",
        "lote_120_239=year20p[n][(year20p[n]['pip']>=120)&(year20p[n]['pip']<240)]\n",
        "lote_240_359=year20p[n][(year20p[n]['pip']>=240)&(year20p[n]['pip']<360)]\n",
        "lote_360_inf=year20p[n][(year20p[n]['pip']>=360)]\n",
        "\n",
        "TablaResumen_En_d=pd.pivot_table(lote_120_239 ,index=['dia_semana',], values= ['dia_nombre','hora','pip' ],aggfunc=['count' ,max,  sum  ], margins=True)\n",
        "TablaResumen_sm_En_d=pd.pivot_table(lote_120_239 ,index=['dia_semana'], values= ['dia_nombre','hora','pip'],aggfunc=['count' ,max,  sum  ])\n",
        "df_TablaResumen_En_d=pd.DataFrame(TablaResumen_En_d)\n",
        "df_TablaResumen_sm_En_d=pd.DataFrame(TablaResumen_En_d)#sin margenes\n",
        "num_horas_dest_En_d=list(df_TablaResumen_En_d.iloc[:,4].mode().value_counts().value_counts())\n",
        "horas_dest_En_d=list(df_TablaResumen_sm_En_d.iloc[:,4].mode())"
      ],
      "execution_count": null,
      "outputs": []
    },
    {
      "cell_type": "markdown",
      "metadata": {
        "id": "r_4lfyQrQ5np"
      },
      "source": [
        "###Puntos Acumulados entre 120 y 239\n",
        "\n",
        "\n"
      ]
    },
    {
      "cell_type": "code",
      "metadata": {
        "id": "DDgEgeHeQqVg"
      },
      "source": [
        "print(TablaResumen_En_d)"
      ],
      "execution_count": null,
      "outputs": []
    },
    {
      "cell_type": "code",
      "metadata": {
        "id": "vLh-m1kzL9dR"
      },
      "source": [
        "print('Numero Total de Horas Destacables del mes:',df_TablaResumen_En_d.iloc[-1,0] )\n",
        "print('Dia más  Destacables del Mes:',list(df_TablaResumen_En_d.iloc[:,3].mode()) )\n",
        "print('Numero de Horas  Destacables del Mes:',num_horas_dest_En_d[0] ) \n",
        "print('Hora(s)  Destacables del Mes:',horas_dest_En_d ) "
      ],
      "execution_count": null,
      "outputs": []
    },
    {
      "cell_type": "markdown",
      "metadata": {
        "id": "ddFLXru_U2QY"
      },
      "source": [
        "Puntos acumulados entre 240 y 359 \n",
        "\n",
        "\n"
      ]
    },
    {
      "cell_type": "code",
      "metadata": {
        "id": "d4B32xCXUyaS"
      },
      "source": [
        "TablaResumen_En_d=pd.pivot_table(lote_240_359 ,index=['dia_semana',], values= ['dia_nombre','hora','pip' ],aggfunc=['count' ,max,  sum  ], margins=True)\n",
        "TablaResumen_sm_En_d=pd.pivot_table(lote_240_359 ,index=['dia_semana'], values= ['dia_nombre','hora','pip'],aggfunc=['count' ,max,  sum  ])\n",
        "df_TablaResumen_En_d=pd.DataFrame(TablaResumen_En_d)\n",
        "df_TablaResumen_sm_En_d=pd.DataFrame(TablaResumen_En_d)#sin margenes\n",
        "num_horas_dest_En_d=list(df_TablaResumen_En_d.iloc[:,4].mode().value_counts().value_counts())\n",
        "horas_dest_En_d=list(df_TablaResumen_sm_En_d.iloc[:,4].mode())\n",
        "print(TablaResumen_En_d)"
      ],
      "execution_count": null,
      "outputs": []
    },
    {
      "cell_type": "code",
      "metadata": {
        "id": "GG333x_sVLh1"
      },
      "source": [
        "print('Numero Total de horas destacables del mes:',df_TablaResumen_En_d.iloc[-1,0] )\n",
        "print('Dia más  destacables del mes:',list(df_TablaResumen_En_d.iloc[:,3].mode()) )\n",
        "print('Numero de horas  destacables del mes:',num_horas_dest_En_d[0] ) \n",
        "print('Hora(s)  destacables del mes:',horas_dest_En_d ) "
      ],
      "execution_count": null,
      "outputs": []
    },
    {
      "cell_type": "markdown",
      "metadata": {
        "id": "hMtl5wSJVfOR"
      },
      "source": [
        "###Puntos Acumulados entre 360 e infinito"
      ]
    },
    {
      "cell_type": "code",
      "metadata": {
        "id": "ZW-ZXe3dVcko"
      },
      "source": [
        "try:\n",
        "  TablaResumen_En_d=pd.pivot_table(lote_360_inf ,index=['dia_semana',], values= ['dia_nombre','hora','pip' ],aggfunc=['count' ,max,  sum  ], margins=True)\n",
        "  TablaResumen_sm_En_d=pd.pivot_table(lote_360_inf ,index=['dia_semana'], values= ['dia_nombre','hora','pip'],aggfunc=['count' ,max,  sum  ])\n",
        "  df_TablaResumen_En_d=pd.DataFrame(TablaResumen_En_d)\n",
        "  df_TablaResumen_sm_En_d=pd.DataFrame(TablaResumen_sm_En_d)#sin margenes\n",
        "  num_horas_dest_En_d=list(df_TablaResumen_sm_En_d.iloc[:,4].mode().value_counts().value_counts())\n",
        "  horas_dest_En_d=list(df_TablaResumen_sm_En_d.iloc[:,4].mode())\n",
        "  apto_En=1\n",
        "except:\n",
        "  print('Este mes no Supero los 360 Puntos por Hora\\n')\n",
        "  apto_En=0\n",
        "\n",
        "\n",
        "\n",
        "if apto_En==1:\n",
        "  print(TablaResumen_En_d,'\\n')\n",
        "else:\n",
        "  print('Este Mes no Supero los 360 Puntos , No  hay Tabla\\n')\n",
        "\n",
        "\n",
        "if apto_En==1:\n",
        "  print('Numero Total de Horas Destacables del mes:',df_TablaResumen_En_d.iloc[-1,0] )\n",
        "  print('Dia más  Destacables del Mes:',list(df_TablaResumen_sm_En_d.iloc[:,3].mode()) )\n",
        "  print('Numero de Horas  destacables del Mes:',num_horas_dest_En_d[0] ) \n",
        "  print('Hora(s)  Destacables del Mes:',horas_dest_En_d ) \n",
        "else:\n",
        "  print('Este Mes no Supero los 360 puntos , No  hay Resumen')\n"
      ],
      "execution_count": null,
      "outputs": []
    },
    {
      "cell_type": "markdown",
      "metadata": {
        "id": "99TaG0OediLk"
      },
      "source": [
        "#Febrero del 2020"
      ]
    },
    {
      "cell_type": "code",
      "metadata": {
        "id": "8n4sHYBofqkP"
      },
      "source": [
        "##Matriz de Correlación del Mes\n",
        "n=2# numero mes\n",
        "ax= plt.subplots(figsize=(6,5))\n",
        "corr=year20p[n].loc[:,['semana_numero', 'hora',  'pip']].corr()\n",
        "sns.heatmap(corr,cmap='Greens', annot=True, fmt='.2f', linewidths=1, linecolor='black')"
      ],
      "execution_count": null,
      "outputs": []
    },
    {
      "cell_type": "markdown",
      "metadata": {
        "id": "BRxCn7tHgbL9"
      },
      "source": [
        "##Análisis del Mes: Semanal, diario, por horas"
      ]
    },
    {
      "cell_type": "code",
      "metadata": {
        "id": "j40cZUHpginl"
      },
      "source": [
        "# Gráfica de dispersión: Semanas del Mes\n",
        "plt.figure(figsize=(5,5))\n",
        "n=2\n",
        "x=year20p[n]['semana_numero']\n",
        "y=year20p[n]['pip']\n",
        "\n",
        "plt.scatter(x,y, c='g')\n",
        "plt.xticks(range(6,10))"
      ],
      "execution_count": null,
      "outputs": []
    },
    {
      "cell_type": "code",
      "metadata": {
        "id": "yajdzmR7hc1j"
      },
      "source": [
        "# Máximos Puntos Acumulados del Mes\n",
        "# obtención de la máxima cantidad de puntos acumulados en 1 hora.\n",
        "\n",
        "\n",
        "TablaResumen_En=pd.pivot_table(year20p[n] ,index=['semana_numero'], values= ['pip',\"dia_nombre\",'hora'],aggfunc=['count' ,max,  np.mean  ], margins=True)\n",
        "TablaResumen_sm_En=pd.pivot_table(year20p[n] ,index=['semana_numero'], values= ['pip',\"dia_nombre\",'hora'],aggfunc=['count' ,max,  np.mean  ])\n",
        "df_TablaResumen_En=pd.DataFrame(TablaResumen_En)\n",
        "df_TablaResumen_sm_En=pd.DataFrame(TablaResumen_En)#sin margenes\n",
        "num_horas_dest_En=list(df_TablaResumen_sm_En.iloc[:,4].mode().value_counts().value_counts())\n",
        "horas_dest_En=list(df_TablaResumen_sm_En.iloc[:,4].mode())\n",
        "print(TablaResumen_En,'\\n')\n",
        "#Resumen de tabla:\n",
        "print('Numero Total de Horas Destacables del mes:',df_TablaResumen_En.iloc[-1,1] )\n",
        "print('Dia más  Destacables del Mes:',mode(df_TablaResumen_En.iloc[:,3]) )\n",
        "print('Numero de Horas  Destacables del mes:',num_horas_dest_En[0] ) \n",
        "print('Hora(s)  Destacables del Mes:',horas_dest_En ) "
      ],
      "execution_count": null,
      "outputs": []
    },
    {
      "cell_type": "code",
      "metadata": {
        "id": "TKb1aAlNijY2"
      },
      "source": [
        "#Gráfica de dispersión de los días de la semana\n",
        "plt.figure(figsize=(15,8))\n",
        "x=year20p[n]['dia_semana']\n",
        "y=year20p[n]['pip']\n",
        "plt.scatter(x,y ,)\n",
        "# plt.grid(axis='both')\n",
        "plt.xticks(range(29))"
      ],
      "execution_count": null,
      "outputs": []
    },
    {
      "cell_type": "code",
      "metadata": {
        "id": "C4MkzDvEjFPa"
      },
      "source": [
        "#Gráfica de dispersión de las horas de la semana\n",
        "plt.figure(figsize=(15,8))\n",
        "x=year20p[n]['hora']\n",
        "y=year20p[n]['pip']\n",
        "plt.scatter(x,y)\n",
        "# plt.grid()\n",
        "plt.xticks(range(24))"
      ],
      "execution_count": null,
      "outputs": []
    },
    {
      "cell_type": "markdown",
      "metadata": {
        "id": "ix6ELPr6jUVo"
      },
      "source": [
        "###Resumen del Comportamiento de la Tendencia alcista del mes\n"
      ]
    },
    {
      "cell_type": "code",
      "metadata": {
        "id": "ShbKIQW2jgH1"
      },
      "source": [
        "\"\"\"\"\n",
        "Tabla:\n",
        "Comportamiento del mercado durante todos los días  del mes que tuvieron una\n",
        "tendencia alcista superior a 120 puntos  con sus horas referenciadas.\n",
        "\"\"\"\n",
        "TablaResumen_En_m=pd.pivot_table(year20p[n] ,index=['dia_semana','dia_nombre','hora'], values= ['pip'],aggfunc=['count' ,max    ], margins=True)\n",
        "TablaResumen_sm_En_m=pd.pivot_table(year20p[n] ,index=['dia_semana','dia_nombre','hora'], values= ['pip'],aggfunc=['count' ,max  ])\n",
        "df_TablaResumen_En_m=pd.DataFrame(TablaResumen_En_m)\n",
        "df_TablaResumen_sm_En_m=pd.DataFrame(TablaResumen_En_m)#sin margenes\n",
        "print(df_TablaResumen_En_m,'\\n')#Tabla pivote\n",
        "# print(df_TablaResumen_En_m)#Tabla pivote\n",
        "df_TablaResumen_En_m.reset_index(inplace=True)\n",
        "df_TablaResumen_En_m_d=pd.DataFrame(df_TablaResumen_En_m.loc[:,[('dia_nombre',    '')]].mode())\n",
        "df_TablaResumen_En_m_h_c=list(df_TablaResumen_En_m.loc[:,[(      'hora',    '')]].mode().count())\n",
        "df_TablaResumen_En_m_h=df_TablaResumen_En_m.loc[:,[(      'hora',    '')]].mode()\n",
        "#Resumen de Tabla\n",
        "print('Dia más  destacables del mes:',list(df_TablaResumen_En_m_d['dia_nombre'])[0])\n",
        "print('Numero de horas  destacables del mes:',df_TablaResumen_En_m_h_c[0]) \n",
        "print('Hora(s) destacable(s) del mes:',list(df_TablaResumen_En_m_h['hora'])[:]) "
      ],
      "execution_count": null,
      "outputs": []
    },
    {
      "cell_type": "markdown",
      "metadata": {
        "id": "YMGwIDbarpea"
      },
      "source": [
        "####Análisis por Numero de operaciones por Dia\n"
      ]
    },
    {
      "cell_type": "code",
      "metadata": {
        "id": "eqKdfLf9rujN"
      },
      "source": [
        "#El objetivo : buscar días potenciales de inversión.\n",
        "\n",
        "dia_operaciones=pd.pivot_table(year20p[n] ,index=['dia_semana','dia_nombre'], values= ['pip'],aggfunc=['count',sum])\n",
        "\n",
        "df_dia_operaciones=pd.DataFrame( dia_operaciones)\n",
        "df_dia_operaciones.reset_index(inplace=True)\n",
        "df_dia_operaciones=df_dia_operaciones[df_dia_operaciones.iloc[:,2]>2]\n",
        "df_dia_operaciones.columns.set_levels(['Horas Potenciales','Beneficio Pip','Nombre',  'Dia del Mes'],level=0,inplace=True)\n",
        "df_dia_operaciones[ 'Total Benef vol(2)']=df_dia_operaciones.iloc[:,3]*0.82*2\n",
        "df_dia_operaciones[ 'Total Benef vol(1)']=df_dia_operaciones.iloc[:,3]*0.82*1\n",
        "df_dia_operaciones[ 'Total Benef vol(0.5)']=df_dia_operaciones.iloc[:,3]*0.82*0.5\n",
        "df_dia_operaciones.columns.set_levels(['',' ' ],level=1,inplace=True)\n",
        "df_dia_operaciones"
      ],
      "execution_count": null,
      "outputs": []
    },
    {
      "cell_type": "markdown",
      "metadata": {
        "id": "pwKrStvOlKkr"
      },
      "source": [
        "##Puntos Acumulados por Lote\n"
      ]
    },
    {
      "cell_type": "code",
      "metadata": {
        "id": "N8cKf3g-lPvT"
      },
      "source": [
        "lote_120_239=year20p[n][(year20p[n]['pip']>=120)&(year20p[n]['pip']<240)]\n",
        "lote_240_359=year20p[n][(year20p[n]['pip']>=240)&(year20p[n]['pip']<360)]\n",
        "lote_360_inf=year20p[n][(year20p[n]['pip']>=360)]\n",
        "\n",
        "TablaResumen_En_d=pd.pivot_table(lote_120_239 ,index=['dia_semana',], values= ['dia_nombre','hora','pip' ],aggfunc=['count' ,max,  sum  ], margins=True)\n",
        "TablaResumen_sm_En_d=pd.pivot_table(lote_120_239 ,index=['dia_semana'], values= ['dia_nombre','hora','pip'],aggfunc=['count' ,max,  sum  ])\n",
        "df_TablaResumen_En_d=pd.DataFrame(TablaResumen_En_d)\n",
        "df_TablaResumen_sm_En_d=pd.DataFrame(TablaResumen_En_d)#sin margenes\n",
        "num_horas_dest_En_d=list(df_TablaResumen_En_d.iloc[:,4].mode().value_counts().value_counts())\n",
        "horas_dest_En_d=list(df_TablaResumen_sm_En_d.iloc[:,4].mode())"
      ],
      "execution_count": null,
      "outputs": []
    },
    {
      "cell_type": "markdown",
      "metadata": {
        "id": "Yt6hyjXblmyC"
      },
      "source": [
        "###Puntos Acumulados entre 120 y 239"
      ]
    },
    {
      "cell_type": "code",
      "metadata": {
        "id": "9e1c4J-Em0Mv"
      },
      "source": [
        "print(TablaResumen_En_d,'\\n')\n",
        "print('Numero Total de horas destacables del mes:',df_TablaResumen_En_d.iloc[-1,0] )\n",
        "print('Dia más  destacables del mes:',list((df_TablaResumen_En_d.iloc[:,3].mode())))\n",
        "print('Numero de horas  destacables del mes:',num_horas_dest_En_d[0] ) \n",
        "print('Hora(s)  destacables del mes:',horas_dest_En_d ) "
      ],
      "execution_count": null,
      "outputs": []
    },
    {
      "cell_type": "markdown",
      "metadata": {
        "id": "0XwnAY0soilA"
      },
      "source": [
        "###Puntos Acumulados entre 240 y 359 "
      ]
    },
    {
      "cell_type": "code",
      "metadata": {
        "id": "G8Ne0CHrooFe"
      },
      "source": [
        "TablaResumen_En_d=pd.pivot_table(lote_240_359 ,index=['dia_semana',], values= ['dia_nombre','hora','pip' ],aggfunc=['count' ,max,  sum  ], margins=True)\n",
        "TablaResumen_sm_En_d=pd.pivot_table(lote_240_359 ,index=['dia_semana'], values= ['dia_nombre','hora','pip'],aggfunc=['count' ,max,  sum  ])\n",
        "df_TablaResumen_En_d=pd.DataFrame(TablaResumen_En_d)\n",
        "df_TablaResumen_sm_En_d=pd.DataFrame(TablaResumen_En_d)#sin margenes\n",
        "num_horas_dest_En_d=list(df_TablaResumen_En_d.iloc[:,4].mode().value_counts().value_counts())\n",
        "horas_dest_En_d=list(df_TablaResumen_sm_En_d.iloc[:,4].mode())\n",
        "print(TablaResumen_En_d,'\\n')\n",
        "print('Numero Total de Horas Destacables del Mes:',df_TablaResumen_En_d.iloc[-1,0] )\n",
        "print('Dia más  Destacables del Mes:',list(df_TablaResumen_En_d.iloc[:,3].mode()) )\n",
        "print('Numero de Horas  Destacables del Mes:',num_horas_dest_En_d[0] ) \n",
        "print('Hora(s)  Destacables del Mes:',horas_dest_En_d ) "
      ],
      "execution_count": null,
      "outputs": []
    },
    {
      "cell_type": "markdown",
      "metadata": {
        "id": "JlDk5pswqHA8"
      },
      "source": [
        "###Puntos Acumulados entre 360 e infinito"
      ]
    },
    {
      "cell_type": "code",
      "metadata": {
        "id": "FFGaXDARqLP2"
      },
      "source": [
        "try:\n",
        "  TablaResumen_En_d=pd.pivot_table(lote_360_inf ,index=['dia_semana',], values= ['dia_nombre','hora','pip' ],aggfunc=['count' ,max,  sum  ], margins=True)\n",
        "  TablaResumen_sm_En_d=pd.pivot_table(lote_360_inf ,index=['dia_semana'], values= ['dia_nombre','hora','pip'],aggfunc=['count' ,max,  sum  ])\n",
        "  df_TablaResumen_En_d=pd.DataFrame(TablaResumen_En_d)\n",
        "  df_TablaResumen_sm_En_d=pd.DataFrame(TablaResumen_sm_En_d)#sin margenes\n",
        "  num_horas_dest_En_d=list(df_TablaResumen_sm_En_d.iloc[:,4].mode().value_counts().value_counts())\n",
        "  horas_dest_En_d=list(df_TablaResumen_sm_En_d.iloc[:,4].mode())\n",
        "  apto_En=1\n",
        "except:\n",
        "  print('Este mes no Supero los 360 Puntos por Hora\\n')\n",
        "  apto_En=0\n",
        "\n",
        "\n",
        "\n",
        "if apto_En==1:\n",
        "  print(TablaResumen_En_d,'\\n')\n",
        "else:\n",
        "  print('Este Mes no Supero los 360 Puntos , No  hay Tabla\\n')\n",
        "\n",
        "\n",
        "if apto_En==1:\n",
        "  print('Numero Total de Horas Destacables del mes:',df_TablaResumen_En_d.iloc[-1,0] )\n",
        "  print('Dia más  Destacables del Mes:',list(df_TablaResumen_sm_En_d.iloc[:,3].mode()) )\n",
        "  print('Numero de Horas  destacables del Mes:',num_horas_dest_En_d[0] ) \n",
        "  print('Hora(s)  Destacables del Mes:',horas_dest_En_d ) \n",
        "else:\n",
        "  print('Este Mes no Supero los 360 puntos , No  hay Resumen')\n",
        "\n"
      ],
      "execution_count": null,
      "outputs": []
    },
    {
      "cell_type": "markdown",
      "metadata": {
        "id": "7TGsBrExww3A"
      },
      "source": [
        "#Marzo del 2020"
      ]
    },
    {
      "cell_type": "code",
      "metadata": {
        "id": "Smfiqf8gxIZP"
      },
      "source": [
        "##Matriz de Correlación del Mes\n",
        "n=3# numero mes\n",
        "ax= plt.subplots(figsize=(6,5))\n",
        "corr=year20p[n].loc[:,['semana_numero', 'hora',  'pip']].corr()\n",
        "sns.heatmap(corr,cmap='Greens', annot=True, fmt='.2f', linewidths=1, linecolor='black')"
      ],
      "execution_count": null,
      "outputs": []
    },
    {
      "cell_type": "markdown",
      "metadata": {
        "id": "G7IifQQ45GHg"
      },
      "source": [
        "##Análisis del Mes: Semanal, diario, por horas"
      ]
    },
    {
      "cell_type": "code",
      "metadata": {
        "id": "AAwayQFT5Qs8"
      },
      "source": [
        "# Gráfica de dispersión: Semanas del Mes\n",
        "plt.figure(figsize=(5,5))\n",
        "x=year20p[n]['semana_numero']\n",
        "y=year20p[n]['pip']\n",
        "\n",
        "plt.scatter(x,y, c='g')\n",
        "plt.xticks(range(10,15))"
      ],
      "execution_count": null,
      "outputs": []
    },
    {
      "cell_type": "code",
      "metadata": {
        "id": "I2nJR0Rl5ztD"
      },
      "source": [
        "#Máximos Puntos Acumulados del Mes\n",
        "# obtención de la máxima cantidad de puntos acumulados en 1 hora\n",
        "\n",
        "TablaResumen_En=pd.pivot_table(year20p[n] ,index=['semana_numero'], values= ['pip',\"dia_nombre\",'hora'],aggfunc=['count' ,max,  np.mean  ], margins=True)\n",
        "TablaResumen_sm_En=pd.pivot_table(year20p[n] ,index=['semana_numero'], values= ['pip',\"dia_nombre\",'hora'],aggfunc=['count' ,max,  np.mean  ])\n",
        "df_TablaResumen_En=pd.DataFrame(TablaResumen_En)\n",
        "df_TablaResumen_sm_En=pd.DataFrame(TablaResumen_En)#sin margenes\n",
        "num_horas_dest_En=list(df_TablaResumen_sm_En.iloc[:,4].mode().value_counts().value_counts())\n",
        "horas_dest_En=list(df_TablaResumen_sm_En.iloc[:,4].mode())\n",
        "print(TablaResumen_En,'\\n')\n",
        "#Resumen de tabla:\n",
        "print('Numero Total de Horas Destacables del mes:',df_TablaResumen_En.iloc[-1,1] )\n",
        "print('Dia más  Destacables del Mes:',mode(df_TablaResumen_En.iloc[:,3]) )\n",
        "print('Numero de Horas  Destacables del mes:',num_horas_dest_En[0] ) \n",
        "print('Hora(s)  Destacables del Mes:',horas_dest_En ) "
      ],
      "execution_count": null,
      "outputs": []
    },
    {
      "cell_type": "code",
      "metadata": {
        "id": "r83yVL3v6cH5"
      },
      "source": [
        "#Gráfica de dispersión de los días de la semana\n",
        "plt.figure(figsize=(15,8))\n",
        "x=year20p[n]['dia_semana']\n",
        "y=year20p[n]['pip']\n",
        "plt.scatter(x,y ,)\n",
        "# plt.grid(axis='both')\n",
        "plt.xticks(range(32))"
      ],
      "execution_count": null,
      "outputs": []
    },
    {
      "cell_type": "code",
      "metadata": {
        "id": "Zq-LciEb65lI"
      },
      "source": [
        "#Gráfica de dispersión de las horas de la semana\n",
        "plt.figure(figsize=(15,8))\n",
        "x=year20p[n]['hora']\n",
        "y=year20p[n]['pip']\n",
        "plt.scatter(x,y)\n",
        "# plt.grid()\n",
        "plt.xticks(range(24))"
      ],
      "execution_count": null,
      "outputs": []
    },
    {
      "cell_type": "markdown",
      "metadata": {
        "id": "Ac2SYwxT6-bm"
      },
      "source": [
        "###Resumen del Comportamiento de la Tendencia alcista del mes\n"
      ]
    },
    {
      "cell_type": "code",
      "metadata": {
        "id": "EWSnrddJ7CWH"
      },
      "source": [
        "\"\"\"\"\n",
        "Tabla:\n",
        "Comportamiento del mercado durante todos los días  del mes que tuvieron una\n",
        "tendencia alcista superior a 120 puntos  con sus horas referenciadas.\n",
        "\"\"\"\n",
        "\n",
        "TablaResumen_En_m=pd.pivot_table(year20p[n] ,index=['dia_semana','dia_nombre','hora'], values= ['pip'],aggfunc=['count' ,max    ], margins=True)\n",
        "TablaResumen_sm_En_m=pd.pivot_table(year20p[n] ,index=['dia_semana','dia_nombre','hora'], values= ['pip'],aggfunc=['count' ,max  ])\n",
        "df_TablaResumen_En_m=pd.DataFrame(TablaResumen_En_m)\n",
        "df_TablaResumen_sm_En_m=pd.DataFrame(TablaResumen_En_m)#sin margenes\n",
        "print(df_TablaResumen_En_m,'\\n')#Tabla pivote\n",
        "# print(df_TablaResumen_En_m)#Tabla pivote\n",
        "df_TablaResumen_En_m.reset_index(inplace=True)\n",
        "df_TablaResumen_En_m_d=pd.DataFrame(df_TablaResumen_En_m.loc[:,[('dia_nombre',    '')]].mode())\n",
        "df_TablaResumen_En_m_h_c=list(df_TablaResumen_En_m.loc[:,[(      'hora',    '')]].mode().count())\n",
        "df_TablaResumen_En_m_h=df_TablaResumen_En_m.loc[:,[(      'hora',    '')]].mode()\n",
        "#Resumen de Tabla\n",
        "print('Dia más  destacables del mes:',list(df_TablaResumen_En_m_d['dia_nombre'])[0])\n",
        "print('Numero de horas  destacables del mes:',df_TablaResumen_En_m_h_c[0]) \n",
        "print('Hora(s) destacable(s) del mes:',list(df_TablaResumen_En_m_h['hora'])[:]) "
      ],
      "execution_count": null,
      "outputs": []
    },
    {
      "cell_type": "markdown",
      "metadata": {
        "id": "awPAhGQ8r0fm"
      },
      "source": [
        "####Análisis por Numero de operaciones por Dia\n"
      ]
    },
    {
      "cell_type": "code",
      "metadata": {
        "id": "q6KjJkZxsdrj"
      },
      "source": [
        "#El objetivo : buscar días potenciales de inversión.\n",
        "dia_operaciones=pd.pivot_table(year20p[n] ,index=['dia_semana','dia_nombre'], values= ['pip'],aggfunc=['count',sum])\n",
        "\n",
        "df_dia_operaciones=pd.DataFrame( dia_operaciones)\n",
        "df_dia_operaciones.reset_index(inplace=True)\n",
        "df_dia_operaciones=df_dia_operaciones[df_dia_operaciones.iloc[:,2]>2]\n",
        "df_dia_operaciones.columns.set_levels(['Horas Potenciales','Beneficio Pip','Nombre',  'Dia del Mes'],level=0,inplace=True)\n",
        "df_dia_operaciones[ 'Total Benef vol(2)']=df_dia_operaciones.iloc[:,3]*0.82*2\n",
        "df_dia_operaciones[ 'Total Benef vol(1)']=df_dia_operaciones.iloc[:,3]*0.82*1\n",
        "df_dia_operaciones[ 'Total Benef vol(0.5)']=df_dia_operaciones.iloc[:,3]*0.82*0.5\n",
        "df_dia_operaciones.columns.set_levels(['',' ' ],level=1,inplace=True)\n",
        "df_dia_operaciones"
      ],
      "execution_count": null,
      "outputs": []
    },
    {
      "cell_type": "markdown",
      "metadata": {
        "id": "HYFZ4VAD7HcV"
      },
      "source": [
        "##Puntos Acumulados por Lote\n"
      ]
    },
    {
      "cell_type": "code",
      "metadata": {
        "id": "UmEzr_j77YpO"
      },
      "source": [
        "lote_120_239=year20p[n][(year20p[n]['pip']>=120)&(year20p[n]['pip']<240)]\n",
        "lote_240_359=year20p[n][(year20p[n]['pip']>=240)&(year20p[n]['pip']<360)]\n",
        "lote_360_inf=year20p[n][(year20p[n]['pip']>=360)]\n",
        "\n",
        "TablaResumen_En_d=pd.pivot_table(lote_120_239 ,index=['dia_semana',], values= ['dia_nombre','hora','pip' ],aggfunc=['count' ,max,  sum  ], margins=True)\n",
        "TablaResumen_sm_En_d=pd.pivot_table(lote_120_239 ,index=['dia_semana'], values= ['dia_nombre','hora','pip'],aggfunc=['count' ,max,  sum  ])\n",
        "df_TablaResumen_En_d=pd.DataFrame(TablaResumen_En_d)\n",
        "df_TablaResumen_sm_En_d=pd.DataFrame(TablaResumen_En_d)#sin margenes\n",
        "num_horas_dest_En_d=list(df_TablaResumen_En_d.iloc[:,4].mode().value_counts().value_counts())\n",
        "horas_dest_En_d=list(df_TablaResumen_sm_En_d.iloc[:,4].mode())"
      ],
      "execution_count": null,
      "outputs": []
    },
    {
      "cell_type": "markdown",
      "metadata": {
        "id": "Iw8zWbpP7eYK"
      },
      "source": [
        "###Puntos Acumulados entre 120 y 239"
      ]
    },
    {
      "cell_type": "code",
      "metadata": {
        "id": "eUpda_Xw7iGc"
      },
      "source": [
        "print(TablaResumen_En_d,'\\n')\n",
        "print('Numero Total de horas destacables del mes:',df_TablaResumen_En_d.iloc[-1,0] )\n",
        "print('Dia más  destacables del mes:',list((df_TablaResumen_En_d.iloc[:,3].mode())))\n",
        "print('Numero de horas  destacables del mes:',num_horas_dest_En_d[0] ) \n",
        "print('Hora(s)  destacables del mes:',horas_dest_En_d ) "
      ],
      "execution_count": null,
      "outputs": []
    },
    {
      "cell_type": "markdown",
      "metadata": {
        "id": "_A4HKxlX7nF3"
      },
      "source": [
        "###Puntos Acumulados entre 240 y 359 "
      ]
    },
    {
      "cell_type": "code",
      "metadata": {
        "id": "-_Lea8IK7xdZ"
      },
      "source": [
        "TablaResumen_En_d=pd.pivot_table(lote_240_359 ,index=['dia_semana',], values= ['dia_nombre','hora','pip' ],aggfunc=['count' ,max,  sum  ], margins=True)\n",
        "TablaResumen_sm_En_d=pd.pivot_table(lote_240_359 ,index=['dia_semana'], values= ['dia_nombre','hora','pip'],aggfunc=['count' ,max,  sum  ])\n",
        "df_TablaResumen_En_d=pd.DataFrame(TablaResumen_En_d)\n",
        "df_TablaResumen_sm_En_d=pd.DataFrame(TablaResumen_En_d)#sin margenes\n",
        "num_horas_dest_En_d=list(df_TablaResumen_En_d.iloc[:,4].mode().value_counts().value_counts())\n",
        "horas_dest_En_d=list(df_TablaResumen_sm_En_d.iloc[:,4].mode())\n",
        "print(TablaResumen_En_d,'\\n')\n",
        "print('Numero Total de Horas Destacables del Mes:',df_TablaResumen_En_d.iloc[-1,0] )\n",
        "print('Dia más  Destacables del Mes:',list(df_TablaResumen_En_d.iloc[:,3].mode()) )\n",
        "print('Numero de Horas  Destacables del Mes:',num_horas_dest_En_d[0] ) \n",
        "print('Hora(s)  Destacables del Mes:',horas_dest_En_d ) "
      ],
      "execution_count": null,
      "outputs": []
    },
    {
      "cell_type": "markdown",
      "metadata": {
        "id": "ic3hL1H-71gU"
      },
      "source": [
        "###Puntos Acumulados entre 360 e infinito"
      ]
    },
    {
      "cell_type": "code",
      "metadata": {
        "id": "lrEJYMeq754m"
      },
      "source": [
        "try:\n",
        "  TablaResumen_En_d=pd.pivot_table(lote_360_inf ,index=['dia_semana',], values= ['dia_nombre','hora','pip' ],aggfunc=['count' ,max,  sum  ], margins=True)\n",
        "  TablaResumen_sm_En_d=pd.pivot_table(lote_360_inf ,index=['dia_semana'], values= ['dia_nombre','hora','pip'],aggfunc=['count' ,max,  sum  ])\n",
        "  df_TablaResumen_En_d=pd.DataFrame(TablaResumen_En_d)\n",
        "  df_TablaResumen_sm_En_d=pd.DataFrame(TablaResumen_sm_En_d)#sin margenes\n",
        "  num_horas_dest_En_d=list(df_TablaResumen_sm_En_d.iloc[:,4].mode().value_counts().value_counts())\n",
        "  horas_dest_En_d=list(df_TablaResumen_sm_En_d.iloc[:,4].mode())\n",
        "  apto_En=1\n",
        "except:\n",
        "  print('Este mes no Supero los 360 Puntos por Hora\\n')\n",
        "  apto_En=0\n",
        "\n",
        "\n",
        "\n",
        "if apto_En==1:\n",
        "  print(TablaResumen_En_d,'\\n')\n",
        "else:\n",
        "  print('Este Mes no Supero los 360 Puntos , No  hay Tabla\\n')\n",
        "\n",
        "\n",
        "if apto_En==1:\n",
        "  print('Numero Total de Horas Destacables del mes:',df_TablaResumen_En_d.iloc[-1,0] )\n",
        "  print('Dia más  Destacables del Mes:',list(df_TablaResumen_sm_En_d.iloc[:,3].mode()) )\n",
        "  print('Numero de Horas  destacables del Mes:',num_horas_dest_En_d[0] ) \n",
        "  print('Hora(s)  Destacables del Mes:',horas_dest_En_d ) \n",
        "else:\n",
        "  print('Este Mes no Supero los 360 puntos , No  hay Resumen')\n"
      ],
      "execution_count": null,
      "outputs": []
    },
    {
      "cell_type": "markdown",
      "metadata": {
        "id": "akJ3m9hD83oy"
      },
      "source": [
        "#Abril del 2020"
      ]
    },
    {
      "cell_type": "code",
      "metadata": {
        "id": "dGLG924x9Ami"
      },
      "source": [
        "##Matriz de Correlación del Mes\n",
        "n=4# numero mes\n",
        "ax= plt.subplots(figsize=(6,5))\n",
        "corr=year20p[n].loc[:,['semana_numero', 'hora',  'pip']].corr()\n",
        "sns.heatmap(corr,cmap='Greens', annot=True, fmt='.2f', linewidths=1, linecolor='black')"
      ],
      "execution_count": null,
      "outputs": []
    },
    {
      "cell_type": "markdown",
      "metadata": {
        "id": "khbHZiKP9GVK"
      },
      "source": [
        "##Análisis del Mes: Semanal, diario, por horas\n"
      ]
    },
    {
      "cell_type": "code",
      "metadata": {
        "id": "5aAtoAns9NKW"
      },
      "source": [
        "# Gráfica de dispersión: Semanas del Mes\n",
        "plt.figure(figsize=(5,5))\n",
        "x=year20p[n]['semana_numero']\n",
        "y=year20p[n]['pip']\n",
        "\n",
        "plt.scatter(x,y, c='g')\n",
        "plt.xticks(range(14,19))"
      ],
      "execution_count": null,
      "outputs": []
    },
    {
      "cell_type": "code",
      "metadata": {
        "id": "CxKI7yqO9aUC"
      },
      "source": [
        "#Máximos Puntos Acumulados del Mes\n",
        "# obtención de la máxima cantidad de puntos acumulados en 1 hora.\n",
        "\n",
        "TablaResumen_En=pd.pivot_table(year20p[n] ,index=['semana_numero'], values= ['pip',\"dia_nombre\",'hora'],aggfunc=['count' ,max,  np.mean  ], margins=True)\n",
        "TablaResumen_sm_En=pd.pivot_table(year20p[n] ,index=['semana_numero'], values= ['pip',\"dia_nombre\",'hora'],aggfunc=['count' ,max,  np.mean  ])\n",
        "df_TablaResumen_En=pd.DataFrame(TablaResumen_En)\n",
        "df_TablaResumen_sm_En=pd.DataFrame(TablaResumen_En)#sin margenes\n",
        "num_horas_dest_En=list(df_TablaResumen_sm_En.iloc[:,4].mode().value_counts().value_counts())\n",
        "horas_dest_En=list(df_TablaResumen_sm_En.iloc[:,4].mode())\n",
        "print(TablaResumen_En,'\\n')\n",
        "#Resumen de tabla:\n",
        "print('Numero Total de Horas Destacables del mes:',df_TablaResumen_En.iloc[-1,1] )\n",
        "print('Dia más  Destacables del Mes:',mode(df_TablaResumen_En.iloc[:,3]) )\n",
        "print('Numero de Horas  Destacables del mes:',num_horas_dest_En[0] ) \n",
        "print('Hora(s)  Destacables del Mes:',horas_dest_En ) "
      ],
      "execution_count": null,
      "outputs": []
    },
    {
      "cell_type": "code",
      "metadata": {
        "id": "ouvoAKC29hAO"
      },
      "source": [
        "#Gráfica de dispersión de los días de la semana\n",
        "plt.figure(figsize=(15,8))\n",
        "x=year20p[n]['dia_semana']\n",
        "y=year20p[n]['pip']\n",
        "plt.scatter(x,y ,)\n",
        "# plt.grid(axis='both')\n",
        "plt.xticks(range(32))"
      ],
      "execution_count": null,
      "outputs": []
    },
    {
      "cell_type": "code",
      "metadata": {
        "id": "uoVk0xlP9oay"
      },
      "source": [
        "#Gráfica de dispersión de las horas de la semana\n",
        "plt.figure(figsize=(15,8))\n",
        "x=year20p[n]['hora']\n",
        "y=year20p[n]['pip']\n",
        "plt.scatter(x,y)\n",
        "# plt.grid()\n",
        "plt.xticks(range(24))"
      ],
      "execution_count": null,
      "outputs": []
    },
    {
      "cell_type": "markdown",
      "metadata": {
        "id": "yT1pyfgU9tOl"
      },
      "source": [
        "###Resumen del Comportamiento de la Tendencia alcista del mes\n"
      ]
    },
    {
      "cell_type": "code",
      "metadata": {
        "id": "SlXSlC-V9wNH"
      },
      "source": [
        "\"\"\"\"\n",
        "Tabla:\n",
        "Comportamiento del mercado durante todos los días  del mes que tuvieron una\n",
        "tendencia alcista superior a 120 puntos  con sus horas referenciadas.\n",
        "\"\"\"\n",
        "TablaResumen_En_m=pd.pivot_table(year20p[n] ,index=['dia_semana','dia_nombre','hora'], values= ['pip'],aggfunc=['count' ,max    ], margins=True)\n",
        "TablaResumen_sm_En_m=pd.pivot_table(year20p[n] ,index=['dia_semana','dia_nombre','hora'], values= ['pip'],aggfunc=['count' ,max  ])\n",
        "df_TablaResumen_En_m=pd.DataFrame(TablaResumen_En_m)\n",
        "df_TablaResumen_sm_En_m=pd.DataFrame(TablaResumen_En_m)#sin margenes\n",
        "print(df_TablaResumen_En_m,'\\n')#Tabla pivote\n",
        "# print(df_TablaResumen_En_m)#Tabla pivote\n",
        "df_TablaResumen_En_m.reset_index(inplace=True)\n",
        "df_TablaResumen_En_m_d=pd.DataFrame(df_TablaResumen_En_m.loc[:,[('dia_nombre',    '')]].mode())\n",
        "df_TablaResumen_En_m_h_c=list(df_TablaResumen_En_m.loc[:,[(      'hora',    '')]].mode().count())\n",
        "df_TablaResumen_En_m_h=df_TablaResumen_En_m.loc[:,[(      'hora',    '')]].mode()\n",
        "#Resumen de Tabla\n",
        "print('Dia más  destacables del mes:',list(df_TablaResumen_En_m_d['dia_nombre'])[0])\n",
        "print('Numero de horas  destacables del mes:',df_TablaResumen_En_m_h_c[0]) \n",
        "print('Hora(s) destacable(s) del mes:',list(df_TablaResumen_En_m_h['hora'])[:]) "
      ],
      "execution_count": null,
      "outputs": []
    },
    {
      "cell_type": "markdown",
      "metadata": {
        "id": "RNv3CrYjr3op"
      },
      "source": [
        "####Análisis por Numero de operaciones por Dia\n"
      ]
    },
    {
      "cell_type": "code",
      "metadata": {
        "id": "xww_zB0f-8er"
      },
      "source": [
        "#El objetivo : buscar días potenciales de inversión.\n",
        "dia_operaciones=pd.pivot_table(year20p[n] ,index=['dia_semana','dia_nombre'], values= ['pip'],aggfunc=['count',sum])\n",
        "\n",
        "df_dia_operaciones=pd.DataFrame( dia_operaciones)\n",
        "df_dia_operaciones.reset_index(inplace=True)\n",
        "df_dia_operaciones=df_dia_operaciones[df_dia_operaciones.iloc[:,2]>2]\n",
        "df_dia_operaciones.columns.set_levels(['Horas Potenciales','Beneficio Pip','Nombre',  'Dia del Mes'],level=0,inplace=True)\n",
        "df_dia_operaciones[ 'Total Benef vol(2)']=df_dia_operaciones.iloc[:,3]*0.82*2\n",
        "df_dia_operaciones[ 'Total Benef vol(1)']=df_dia_operaciones.iloc[:,3]*0.82*1\n",
        "df_dia_operaciones[ 'Total Benef vol(0.5)']=df_dia_operaciones.iloc[:,3]*0.82*0.5\n",
        "df_dia_operaciones.columns.set_levels(['',' ' ],level=1,inplace=True)\n",
        "df_dia_operaciones"
      ],
      "execution_count": null,
      "outputs": []
    },
    {
      "cell_type": "markdown",
      "metadata": {
        "id": "RQ-ErsjF90Fo"
      },
      "source": [
        "##Puntos Acomulados por Lote\n"
      ]
    },
    {
      "cell_type": "code",
      "metadata": {
        "id": "kf849Rut932S"
      },
      "source": [
        "lote_120_239=year20p[n][(year20p[n]['pip']>=120)&(year20p[n]['pip']<240)]\n",
        "lote_240_359=year20p[n][(year20p[n]['pip']>=240)&(year20p[n]['pip']<360)]\n",
        "lote_360_inf=year20p[n][(year20p[n]['pip']>=360)]\n",
        "\n",
        "TablaResumen_En_d=pd.pivot_table(lote_120_239 ,index=['dia_semana',], values= ['dia_nombre','hora','pip' ],aggfunc=['count' ,max,  sum  ], margins=True)\n",
        "TablaResumen_sm_En_d=pd.pivot_table(lote_120_239 ,index=['dia_semana'], values= ['dia_nombre','hora','pip'],aggfunc=['count' ,max,  sum  ])\n",
        "df_TablaResumen_En_d=pd.DataFrame(TablaResumen_En_d)\n",
        "df_TablaResumen_sm_En_d=pd.DataFrame(TablaResumen_En_d)#sin margenes\n",
        "num_horas_dest_En_d=list(df_TablaResumen_En_d.iloc[:,4].mode().value_counts().value_counts())\n",
        "horas_dest_En_d=list(df_TablaResumen_sm_En_d.iloc[:,4].mode())"
      ],
      "execution_count": null,
      "outputs": []
    },
    {
      "cell_type": "markdown",
      "metadata": {
        "id": "K5ZRtcmi98hM"
      },
      "source": [
        "###Puntos Acumulados entre 120 y 239"
      ]
    },
    {
      "cell_type": "code",
      "metadata": {
        "id": "490NjNZe-Bvm"
      },
      "source": [
        "print(TablaResumen_En_d,'\\n')\n",
        "print('Numero Total de horas destacables del mes:',df_TablaResumen_En_d.iloc[-1,0] )\n",
        "print('Dia más  destacables del mes:',list((df_TablaResumen_En_d.iloc[:,3].mode())))\n",
        "print('Numero de horas  destacables del mes:',num_horas_dest_En_d[0] ) \n",
        "print('Hora(s)  destacables del mes:',horas_dest_En_d ) "
      ],
      "execution_count": null,
      "outputs": []
    },
    {
      "cell_type": "markdown",
      "metadata": {
        "id": "GRPRSC0d-F_w"
      },
      "source": [
        "###Puntos Acumulados entre 240 y 359 "
      ]
    },
    {
      "cell_type": "code",
      "metadata": {
        "id": "ggV-O6JL-KIB"
      },
      "source": [
        "TablaResumen_En_d=pd.pivot_table(lote_240_359 ,index=['dia_semana',], values= ['dia_nombre','hora','pip' ],aggfunc=['count' ,max,  sum  ], margins=True)\n",
        "TablaResumen_sm_En_d=pd.pivot_table(lote_240_359 ,index=['dia_semana'], values= ['dia_nombre','hora','pip'],aggfunc=['count' ,max,  sum  ])\n",
        "df_TablaResumen_En_d=pd.DataFrame(TablaResumen_En_d)\n",
        "df_TablaResumen_sm_En_d=pd.DataFrame(TablaResumen_En_d)#sin margenes\n",
        "num_horas_dest_En_d=list(df_TablaResumen_En_d.iloc[:,4].mode().value_counts().value_counts())\n",
        "horas_dest_En_d=list(df_TablaResumen_sm_En_d.iloc[:,4].mode())\n",
        "print(TablaResumen_En_d,'\\n')\n",
        "print('Numero Total de Horas Destacables del Mes:',df_TablaResumen_En_d.iloc[-1,0] )\n",
        "print('Dia más  Destacables del Mes:',list(df_TablaResumen_En_d.iloc[:,3].mode()) )\n",
        "print('Numero de Horas  Destacables del Mes:',num_horas_dest_En_d[0] ) \n",
        "print('Hora(s)  Destacables del Mes:',horas_dest_En_d ) "
      ],
      "execution_count": null,
      "outputs": []
    },
    {
      "cell_type": "markdown",
      "metadata": {
        "id": "_Yjv53Zf-N4N"
      },
      "source": [
        "###Puntos Acumulados entre 360 e infinito"
      ]
    },
    {
      "cell_type": "code",
      "metadata": {
        "id": "JsJR_yri-R7l"
      },
      "source": [
        "try:\n",
        "  TablaResumen_En_d=pd.pivot_table(lote_360_inf ,index=['dia_semana',], values= ['dia_nombre','hora','pip' ],aggfunc=['count' ,max,  sum  ], margins=True)\n",
        "  TablaResumen_sm_En_d=pd.pivot_table(lote_360_inf ,index=['dia_semana'], values= ['dia_nombre','hora','pip'],aggfunc=['count' ,max,  sum  ])\n",
        "  df_TablaResumen_En_d=pd.DataFrame(TablaResumen_En_d)\n",
        "  df_TablaResumen_sm_En_d=pd.DataFrame(TablaResumen_sm_En_d)#sin margenes\n",
        "  num_horas_dest_En_d=list(df_TablaResumen_sm_En_d.iloc[:,4].mode().value_counts().value_counts())\n",
        "  horas_dest_En_d=list(df_TablaResumen_sm_En_d.iloc[:,4].mode())\n",
        "  apto_En=1\n",
        "except:\n",
        "  print('Este mes no Supero los 360 Puntos por Hora\\n')\n",
        "  apto_En=0\n",
        "\n",
        "\n",
        "\n",
        "if apto_En==1:\n",
        "  print(TablaResumen_En_d,'\\n')\n",
        "else:\n",
        "  print('Este Mes no Supero los 360 Puntos , No  hay Tabla\\n')\n",
        "\n",
        "\n",
        "if apto_En==1:\n",
        "  print('Numero Total de Horas Destacables del mes:',df_TablaResumen_En_d.iloc[-1,0] )\n",
        "  print('Dia más  Destacables del Mes:',list(df_TablaResumen_sm_En_d.iloc[:,3].mode()) )\n",
        "  print('Numero de Horas  destacables del Mes:',num_horas_dest_En_d[0] ) \n",
        "  print('Hora(s)  Destacables del Mes:',horas_dest_En_d ) \n",
        "else:\n",
        "  print('Este Mes no Supero los 360 puntos , No  hay Resumen')\n"
      ],
      "execution_count": null,
      "outputs": []
    },
    {
      "cell_type": "markdown",
      "metadata": {
        "id": "L8V_m5VxAYqw"
      },
      "source": [
        "#Mayo del 2020"
      ]
    },
    {
      "cell_type": "code",
      "metadata": {
        "id": "db52V5deAimR"
      },
      "source": [
        "##Matriz de Correlación del Mes\n",
        "n=5# numero mes\n",
        "ax= plt.subplots(figsize=(6,5))\n",
        "corr=year20p[n].loc[:,['semana_numero', 'hora',  'pip']].corr()\n",
        "sns.heatmap(corr,cmap='Greens', annot=True, fmt='.2f', linewidths=1, linecolor='black')"
      ],
      "execution_count": null,
      "outputs": []
    },
    {
      "cell_type": "markdown",
      "metadata": {
        "id": "H4qM0q4XAmka"
      },
      "source": [
        "##Análisis del Mes: Semanal, diario, por horas"
      ]
    },
    {
      "cell_type": "code",
      "metadata": {
        "id": "D-_qNyeoApqj"
      },
      "source": [
        "# Gráfica de dispersión: Semanas del Mes\n",
        "plt.figure(figsize=(5,5))\n",
        "x=year20p[n]['semana_numero']\n",
        "y=year20p[n]['pip']\n",
        "\n",
        "plt.scatter(x,y, c='g')\n",
        "plt.xticks(range(18,23))"
      ],
      "execution_count": null,
      "outputs": []
    },
    {
      "cell_type": "code",
      "metadata": {
        "id": "W3Tcrp3zAwzU"
      },
      "source": [
        "#Máximos Puntos Acumulados del Mes\n",
        "# obtención de la máxima cantidad de puntos acumulados en 1 hora.\n",
        "\n",
        "\n",
        "TablaResumen_En=pd.pivot_table(year20p[n] ,index=['semana_numero'], values= ['pip',\"dia_nombre\",'hora'],aggfunc=['count' ,max,  np.mean  ], margins=True)\n",
        "TablaResumen_sm_En=pd.pivot_table(year20p[n] ,index=['semana_numero'], values= ['pip',\"dia_nombre\",'hora'],aggfunc=['count' ,max,  np.mean  ])\n",
        "df_TablaResumen_En=pd.DataFrame(TablaResumen_En)\n",
        "df_TablaResumen_sm_En=pd.DataFrame(TablaResumen_En)#sin margenes\n",
        "num_horas_dest_En=list(df_TablaResumen_sm_En.iloc[:,4].mode().value_counts().value_counts())\n",
        "horas_dest_En=list(df_TablaResumen_sm_En.iloc[:,4].mode())\n",
        "print(TablaResumen_En,'\\n')\n",
        "#Resumen de tabla:\n",
        "print('Numero Total de Horas Destacables del mes:',df_TablaResumen_En.iloc[-1,1] )\n",
        "print('Dia más  Destacables del Mes:',mode(df_TablaResumen_En.iloc[:,3]) )\n",
        "print('Numero de Horas  Destacables del mes:',num_horas_dest_En[0] ) \n",
        "print('Hora(s)  Destacables del Mes:',horas_dest_En ) "
      ],
      "execution_count": null,
      "outputs": []
    },
    {
      "cell_type": "code",
      "metadata": {
        "id": "aY7WXKG9A5Vz"
      },
      "source": [
        "#Gráfica de dispersión de los días de la semana\n",
        "plt.figure(figsize=(15,8))\n",
        "x=year20p[n]['dia_semana']\n",
        "y=year20p[n]['pip']\n",
        "plt.scatter(x,y ,)\n",
        "# plt.grid(axis='both')\n",
        "plt.xticks(range(32))"
      ],
      "execution_count": null,
      "outputs": []
    },
    {
      "cell_type": "code",
      "metadata": {
        "id": "ulE1yBCzBAu3"
      },
      "source": [
        "#Gráfica de dispersión de las horas de la semana\n",
        "plt.figure(figsize=(15,8))\n",
        "x=year20p[n]['hora']\n",
        "y=year20p[n]['pip']\n",
        "plt.scatter(x,y)\n",
        "plt.xticks(range(24))"
      ],
      "execution_count": null,
      "outputs": []
    },
    {
      "cell_type": "markdown",
      "metadata": {
        "id": "Q0dFC43kBFh5"
      },
      "source": [
        "###Resumen del Comportamiento de la Tendencia alcista del mes\n"
      ]
    },
    {
      "cell_type": "code",
      "metadata": {
        "id": "7hQGCHwrBJCh"
      },
      "source": [
        "\"\"\"\"\n",
        "Tabla:\n",
        "Comportamiento del mercado durante todos los días  del mes que tuvieron una\n",
        "tendencia alcista superior a 120 puntos  con sus horas referenciadas.\n",
        "\"\"\"\n",
        "TablaResumen_En_m=pd.pivot_table(year20p[n] ,index=['dia_semana','dia_nombre','hora'], values= ['pip'],aggfunc=['count' ,max    ], margins=True)\n",
        "TablaResumen_sm_En_m=pd.pivot_table(year20p[n] ,index=['dia_semana','dia_nombre','hora'], values= ['pip'],aggfunc=['count' ,max  ])\n",
        "df_TablaResumen_En_m=pd.DataFrame(TablaResumen_En_m)\n",
        "df_TablaResumen_sm_En_m=pd.DataFrame(TablaResumen_En_m)#sin margenes\n",
        "print(df_TablaResumen_En_m,'\\n')#Tabla pivote\n",
        "# print(df_TablaResumen_En_m)#Tabla pivote\n",
        "df_TablaResumen_En_m.reset_index(inplace=True)\n",
        "df_TablaResumen_En_m_d=pd.DataFrame(df_TablaResumen_En_m.loc[:,[('dia_nombre',    '')]].mode())\n",
        "df_TablaResumen_En_m_h_c=list(df_TablaResumen_En_m.loc[:,[(      'hora',    '')]].mode().count())\n",
        "df_TablaResumen_En_m_h=df_TablaResumen_En_m.loc[:,[(      'hora',    '')]].mode()\n",
        "#Resumen de Tabla\n",
        "print('Dia más  destacables del mes:',list(df_TablaResumen_En_m_d['dia_nombre'])[0])\n",
        "print('Numero de horas  destacables del mes:',df_TablaResumen_En_m_h_c[0]) \n",
        "print('Hora(s) destacable(s) del mes:',list(df_TablaResumen_En_m_h['hora'])[:]) "
      ],
      "execution_count": null,
      "outputs": []
    },
    {
      "cell_type": "markdown",
      "metadata": {
        "id": "8gSkrw8Tr6GO"
      },
      "source": [
        "####Análisis por Numero de operaciones por Dia\n"
      ]
    },
    {
      "cell_type": "code",
      "metadata": {
        "id": "M-pi2uGyshHa"
      },
      "source": [
        "#El objetivo : buscar días potenciales de inversión.\n",
        "dia_operaciones=pd.pivot_table(year20p[n] ,index=['dia_semana','dia_nombre'], values= ['pip'],aggfunc=['count',sum])\n",
        "\n",
        "df_dia_operaciones=pd.DataFrame( dia_operaciones)\n",
        "df_dia_operaciones.reset_index(inplace=True)\n",
        "df_dia_operaciones=df_dia_operaciones[df_dia_operaciones.iloc[:,2]>2]\n",
        "df_dia_operaciones.columns.set_levels(['Horas Potenciales','Beneficio Pip','Nombre',  'Dia del Mes'],level=0,inplace=True)\n",
        "df_dia_operaciones[ 'Total Benef vol(2)']=df_dia_operaciones.iloc[:,3]*0.82*2\n",
        "df_dia_operaciones[ 'Total Benef vol(1)']=df_dia_operaciones.iloc[:,3]*0.82*1\n",
        "df_dia_operaciones[ 'Total Benef vol(0.5)']=df_dia_operaciones.iloc[:,3]*0.82*0.5\n",
        "df_dia_operaciones.columns.set_levels(['',' ' ],level=1,inplace=True)\n",
        "df_dia_operaciones"
      ],
      "execution_count": null,
      "outputs": []
    },
    {
      "cell_type": "markdown",
      "metadata": {
        "id": "BJx2N5c2BMwe"
      },
      "source": [
        "##Puntos Acumulados por Lote\n"
      ]
    },
    {
      "cell_type": "code",
      "metadata": {
        "id": "Uh2cyaDcBSyG"
      },
      "source": [
        "lote_120_239=year20p[n][(year20p[n]['pip']>=120)&(year20p[n]['pip']<240)]\n",
        "lote_240_359=year20p[n][(year20p[n]['pip']>=240)&(year20p[n]['pip']<360)]\n",
        "lote_360_inf=year20p[n][(year20p[n]['pip']>=360)]\n",
        "\n",
        "TablaResumen_En_d=pd.pivot_table(lote_120_239 ,index=['dia_semana',], values= ['dia_nombre','hora','pip' ],aggfunc=['count' ,max,  sum  ], margins=True)\n",
        "TablaResumen_sm_En_d=pd.pivot_table(lote_120_239 ,index=['dia_semana'], values= ['dia_nombre','hora','pip'],aggfunc=['count' ,max,  sum  ])\n",
        "df_TablaResumen_En_d=pd.DataFrame(TablaResumen_En_d)\n",
        "df_TablaResumen_sm_En_d=pd.DataFrame(TablaResumen_En_d)#sin margenes\n",
        "num_horas_dest_En_d=list(df_TablaResumen_En_d.iloc[:,4].mode().value_counts().value_counts())\n",
        "horas_dest_En_d=list(df_TablaResumen_sm_En_d.iloc[:,4].mode())"
      ],
      "execution_count": null,
      "outputs": []
    },
    {
      "cell_type": "markdown",
      "metadata": {
        "id": "SYPsSC7TBYLp"
      },
      "source": [
        "###Puntos Acumulados entre 120 y 239"
      ]
    },
    {
      "cell_type": "code",
      "metadata": {
        "id": "KpycGhuMBayh"
      },
      "source": [
        "print(TablaResumen_En_d,'\\n')\n",
        "print('Numero Total de horas destacables del mes:',df_TablaResumen_En_d.iloc[-1,0] )\n",
        "print('Dia más  destacables del mes:',list((df_TablaResumen_En_d.iloc[:,3].mode())))\n",
        "print('Numero de horas  destacables del mes:',num_horas_dest_En_d[0] ) \n",
        "print('Hora(s)  destacables del mes:',horas_dest_En_d ) "
      ],
      "execution_count": null,
      "outputs": []
    },
    {
      "cell_type": "markdown",
      "metadata": {
        "id": "nCaJ5CyqBgUg"
      },
      "source": [
        "###Puntos Acumulados entre 240 y 359 \n"
      ]
    },
    {
      "cell_type": "code",
      "metadata": {
        "id": "U1etW3RXBkh3"
      },
      "source": [
        "TablaResumen_En_d=pd.pivot_table(lote_240_359 ,index=['dia_semana',], values= ['dia_nombre','hora','pip' ],aggfunc=['count' ,max,  sum  ], margins=True)\n",
        "TablaResumen_sm_En_d=pd.pivot_table(lote_240_359 ,index=['dia_semana'], values= ['dia_nombre','hora','pip'],aggfunc=['count' ,max,  sum  ])\n",
        "df_TablaResumen_En_d=pd.DataFrame(TablaResumen_En_d)\n",
        "df_TablaResumen_sm_En_d=pd.DataFrame(TablaResumen_En_d)#sin margenes\n",
        "num_horas_dest_En_d=list(df_TablaResumen_En_d.iloc[:,4].mode().value_counts().value_counts())\n",
        "horas_dest_En_d=list(df_TablaResumen_sm_En_d.iloc[:,4].mode())\n",
        "print(TablaResumen_En_d,'\\n')\n",
        "print('Numero Total de Horas Destacables del Mes:',df_TablaResumen_En_d.iloc[-1,0] )\n",
        "print('Dia más  Destacables del Mes:',list(df_TablaResumen_En_d.iloc[:,3].mode()) )\n",
        "print('Numero de Horas  Destacables del Mes:',num_horas_dest_En_d[0] ) \n",
        "print('Hora(s)  Destacables del Mes:',horas_dest_En_d ) "
      ],
      "execution_count": null,
      "outputs": []
    },
    {
      "cell_type": "markdown",
      "metadata": {
        "id": "-Vfv8yr4Bnuj"
      },
      "source": [
        "###Puntos Acumulados entre 360 e infinito"
      ]
    },
    {
      "cell_type": "code",
      "metadata": {
        "id": "VteZM8zCBqZD"
      },
      "source": [
        "try:\n",
        "  TablaResumen_En_d=pd.pivot_table(lote_360_inf ,index=['dia_semana',], values= ['dia_nombre','hora','pip' ],aggfunc=['count' ,max,  sum  ], margins=True)\n",
        "  TablaResumen_sm_En_d=pd.pivot_table(lote_360_inf ,index=['dia_semana'], values= ['dia_nombre','hora','pip'],aggfunc=['count' ,max,  sum  ])\n",
        "  df_TablaResumen_En_d=pd.DataFrame(TablaResumen_En_d)\n",
        "  df_TablaResumen_sm_En_d=pd.DataFrame(TablaResumen_sm_En_d)#sin margenes\n",
        "  num_horas_dest_En_d=list(df_TablaResumen_sm_En_d.iloc[:,4].mode().value_counts().value_counts())\n",
        "  horas_dest_En_d=list(df_TablaResumen_sm_En_d.iloc[:,4].mode())\n",
        "  apto_En=1\n",
        "except:\n",
        "  print('Este mes no Supero los 360 Puntos por Hora\\n')\n",
        "  apto_En=0\n",
        "\n",
        "\n",
        "\n",
        "if apto_En==1:\n",
        "  print(TablaResumen_En_d,'\\n')\n",
        "else:\n",
        "  print('Este Mes no Supero los 360 Puntos , No  hay Tabla\\n')\n",
        "\n",
        "\n",
        "if apto_En==1:\n",
        "  print('Numero Total de Horas Destacables del mes:',df_TablaResumen_En_d.iloc[-1,0] )\n",
        "  print('Dia más  Destacables del Mes:',list(df_TablaResumen_sm_En_d.iloc[:,3].mode()) )\n",
        "  print('Numero de Horas  destacables del Mes:',num_horas_dest_En_d[0] ) \n",
        "  print('Hora(s)  Destacables del Mes:',horas_dest_En_d ) \n",
        "else:\n",
        "  print('Este Mes no Supero los 360 puntos , No  hay Resumen')\n"
      ],
      "execution_count": null,
      "outputs": []
    },
    {
      "cell_type": "markdown",
      "metadata": {
        "id": "4X1mYq8IC8aW"
      },
      "source": [
        "#Junio del 2020"
      ]
    },
    {
      "cell_type": "code",
      "metadata": {
        "id": "_UoOO_8mDEMV"
      },
      "source": [
        "##Matriz de Correlación del Mes\n",
        "n=6# numero mes\n",
        "ax= plt.subplots(figsize=(6,5))\n",
        "corr=year20p[n].loc[:,['semana_numero', 'hora',  'pip']].corr()\n",
        "sns.heatmap(corr,cmap='Greens', annot=True, fmt='.2f', linewidths=1, linecolor='black')"
      ],
      "execution_count": null,
      "outputs": []
    },
    {
      "cell_type": "markdown",
      "metadata": {
        "id": "7H0lrDPMDLhz"
      },
      "source": [
        "##Análisis del Mes: Semanal, diario, por horas"
      ]
    },
    {
      "cell_type": "code",
      "metadata": {
        "id": "3h3eR0GlDRFz"
      },
      "source": [
        "# Gráfica de dispersión: Semanas del Mes\n",
        "plt.figure(figsize=(5,5))\n",
        "x=year20p[n]['semana_numero']\n",
        "y=year20p[n]['pip']\n",
        "\n",
        "plt.scatter(x,y, c='g')\n",
        "plt.xticks(range(23,28))"
      ],
      "execution_count": null,
      "outputs": []
    },
    {
      "cell_type": "code",
      "metadata": {
        "id": "O78dQTLXDjhh"
      },
      "source": [
        "#Máximos Puntos Acumulados del Mes\n",
        "# obtención de la máxima cantidad de puntos acumulados en 1 hora.\n",
        "\n",
        "TablaResumen_En=pd.pivot_table(year20p[n] ,index=['semana_numero'], values= ['pip',\"dia_nombre\",'hora'],aggfunc=['count' ,max,  np.mean  ], margins=True)\n",
        "TablaResumen_sm_En=pd.pivot_table(year20p[n] ,index=['semana_numero'], values= ['pip',\"dia_nombre\",'hora'],aggfunc=['count' ,max,  np.mean  ])\n",
        "df_TablaResumen_En=pd.DataFrame(TablaResumen_En)\n",
        "df_TablaResumen_sm_En=pd.DataFrame(TablaResumen_En)#sin margenes\n",
        "num_horas_dest_En=list(df_TablaResumen_sm_En.iloc[:,4].mode().value_counts().value_counts())\n",
        "horas_dest_En=list(df_TablaResumen_sm_En.iloc[:,4].mode())\n",
        "print(TablaResumen_En,'\\n')\n",
        "#Resumen de tabla:\n",
        "print('Numero Total de Horas Destacables del mes:',df_TablaResumen_En.iloc[-1,1] )\n",
        "print('Dia más  Destacables del Mes:',mode(df_TablaResumen_En.iloc[:,3]) )\n",
        "print('Numero de Horas  Destacables del mes:',num_horas_dest_En[0] ) \n",
        "print('Hora(s)  Destacables del Mes:',horas_dest_En ) "
      ],
      "execution_count": null,
      "outputs": []
    },
    {
      "cell_type": "code",
      "metadata": {
        "id": "tRRdhmTvDsz1"
      },
      "source": [
        "#Gráfica de dispersión de los días de la semana\n",
        "plt.figure(figsize=(15,8))\n",
        "x=year20p[n]['dia_semana']\n",
        "y=year20p[n]['pip']\n",
        "plt.scatter(x,y ,)\n",
        "# plt.grid(axis='both')\n",
        "plt.xticks(range(32))"
      ],
      "execution_count": null,
      "outputs": []
    },
    {
      "cell_type": "code",
      "metadata": {
        "id": "f-_6UKW_D1Lw"
      },
      "source": [
        "#Gráfica de dispersión de las horas de la semana\n",
        "plt.figure(figsize=(15,8))\n",
        "x=year20p[n]['hora']\n",
        "y=year20p[n]['pip']\n",
        "plt.scatter(x,y)\n",
        "# plt.grid()\n",
        "plt.xticks(range(24))"
      ],
      "execution_count": null,
      "outputs": []
    },
    {
      "cell_type": "markdown",
      "metadata": {
        "id": "YYZ78XNZD4qb"
      },
      "source": [
        "###Resumen del Comportamiento de la Tendencia alcista del mes\n"
      ]
    },
    {
      "cell_type": "code",
      "metadata": {
        "id": "EjWBYuugD9L_"
      },
      "source": [
        "\"\"\"\"\n",
        "Tabla:\n",
        "Comportamiento del mercado durante todos los días  del mes que tuvieron una\n",
        "tendencia alcista superior a 120 puntos  con sus horas referenciadas.\n",
        "\"\"\"\n",
        "\n",
        "TablaResumen_En_m=pd.pivot_table(year20p[n] ,index=['dia_semana','dia_nombre','hora'], values= ['pip'],aggfunc=['count' ,max    ], margins=True)\n",
        "TablaResumen_sm_En_m=pd.pivot_table(year20p[n] ,index=['dia_semana','dia_nombre','hora'], values= ['pip'],aggfunc=['count' ,max  ])\n",
        "df_TablaResumen_En_m=pd.DataFrame(TablaResumen_En_m)\n",
        "df_TablaResumen_sm_En_m=pd.DataFrame(TablaResumen_En_m)#sin margenes\n",
        "print(df_TablaResumen_En_m,'\\n')#Tabla pivote\n",
        "# print(df_TablaResumen_En_m)#Tabla pivote\n",
        "df_TablaResumen_En_m.reset_index(inplace=True)\n",
        "df_TablaResumen_En_m_d=pd.DataFrame(df_TablaResumen_En_m.loc[:,[('dia_nombre',    '')]].mode())\n",
        "df_TablaResumen_En_m_h_c=list(df_TablaResumen_En_m.loc[:,[(      'hora',    '')]].mode().count())\n",
        "df_TablaResumen_En_m_h=df_TablaResumen_En_m.loc[:,[(      'hora',    '')]].mode()\n",
        "#Resumen de Tabla\n",
        "print('Dia más  destacables del mes:',list(df_TablaResumen_En_m_d['dia_nombre'])[0])\n",
        "print('Numero de horas  destacables del mes:',df_TablaResumen_En_m_h_c[0]) \n",
        "print('Hora(s) destacable(s) del mes:',list(df_TablaResumen_En_m_h['hora'])[:]) "
      ],
      "execution_count": null,
      "outputs": []
    },
    {
      "cell_type": "markdown",
      "metadata": {
        "id": "bSWCnBUpr8el"
      },
      "source": [
        "####Análisis por Numero de operaciones por Dia\n"
      ]
    },
    {
      "cell_type": "code",
      "metadata": {
        "id": "LBHyMtbBsi48"
      },
      "source": [
        "#El objetivo : buscar días potenciales de inversión.\n",
        "dia_operaciones=pd.pivot_table(year20p[n] ,index=['dia_semana','dia_nombre'], values= ['pip'],aggfunc=['count',sum])\n",
        "\n",
        "df_dia_operaciones=pd.DataFrame( dia_operaciones)\n",
        "df_dia_operaciones.reset_index(inplace=True)\n",
        "df_dia_operaciones=df_dia_operaciones[df_dia_operaciones.iloc[:,2]>2]\n",
        "df_dia_operaciones.columns.set_levels(['Horas Potenciales','Beneficio Pip','Nombre',  'Dia del Mes'],level=0,inplace=True)\n",
        "df_dia_operaciones[ 'Total Benef vol(2)']=df_dia_operaciones.iloc[:,3]*0.82*2\n",
        "df_dia_operaciones[ 'Total Benef vol(1)']=df_dia_operaciones.iloc[:,3]*0.82*1\n",
        "df_dia_operaciones[ 'Total Benef vol(0.5)']=df_dia_operaciones.iloc[:,3]*0.82*0.5\n",
        "df_dia_operaciones.columns.set_levels(['',' ' ],level=1,inplace=True)\n",
        "df_dia_operaciones"
      ],
      "execution_count": null,
      "outputs": []
    },
    {
      "cell_type": "markdown",
      "metadata": {
        "id": "h1VEnaUFEDk7"
      },
      "source": [
        "##Puntos Acumulados por Lote\n"
      ]
    },
    {
      "cell_type": "code",
      "metadata": {
        "id": "9R6WdFoQEHmL"
      },
      "source": [
        "lote_120_239=year20p[n][(year20p[n]['pip']>=120)&(year20p[n]['pip']<240)]\n",
        "lote_240_359=year20p[n][(year20p[n]['pip']>=240)&(year20p[n]['pip']<360)]\n",
        "lote_360_inf=year20p[n][(year20p[n]['pip']>=360)]\n",
        "\n",
        "TablaResumen_En_d=pd.pivot_table(lote_120_239 ,index=['dia_semana',], values= ['dia_nombre','hora','pip' ],aggfunc=['count' ,max,  sum  ], margins=True)\n",
        "TablaResumen_sm_En_d=pd.pivot_table(lote_120_239 ,index=['dia_semana'], values= ['dia_nombre','hora','pip'],aggfunc=['count' ,max,  sum  ])\n",
        "df_TablaResumen_En_d=pd.DataFrame(TablaResumen_En_d)\n",
        "df_TablaResumen_sm_En_d=pd.DataFrame(TablaResumen_En_d)#sin margenes\n",
        "num_horas_dest_En_d=list(df_TablaResumen_En_d.iloc[:,4].mode().value_counts().value_counts())\n",
        "horas_dest_En_d=list(df_TablaResumen_sm_En_d.iloc[:,4].mode())"
      ],
      "execution_count": null,
      "outputs": []
    },
    {
      "cell_type": "markdown",
      "metadata": {
        "id": "4ypjV2v5EKh1"
      },
      "source": [
        "###Puntos Acumulados entre 120 y 239\n",
        "\n",
        "\n",
        "\n"
      ]
    },
    {
      "cell_type": "code",
      "metadata": {
        "id": "bHeFmx9zEOT3"
      },
      "source": [
        "print(TablaResumen_En_d,'\\n')\n",
        "print('Numero Total de horas destacables del mes:',df_TablaResumen_En_d.iloc[-1,0] )\n",
        "print('Dia más  destacables del mes:',list((df_TablaResumen_En_d.iloc[:,3].mode())))\n",
        "print('Numero de horas  destacables del mes:',num_horas_dest_En_d[0] ) \n",
        "print('Hora(s)  destacables del mes:',horas_dest_En_d ) "
      ],
      "execution_count": null,
      "outputs": []
    },
    {
      "cell_type": "markdown",
      "metadata": {
        "id": "6L7FWGfhESVY"
      },
      "source": [
        "###Puntos Acumulados entre 240 y 359 "
      ]
    },
    {
      "cell_type": "code",
      "metadata": {
        "id": "hroMcznHEVEp"
      },
      "source": [
        "TablaResumen_En_d=pd.pivot_table(lote_240_359 ,index=['dia_semana',], values= ['dia_nombre','hora','pip' ],aggfunc=['count' ,max,  sum  ], margins=True)\n",
        "TablaResumen_sm_En_d=pd.pivot_table(lote_240_359 ,index=['dia_semana'], values= ['dia_nombre','hora','pip'],aggfunc=['count' ,max,  sum  ])\n",
        "df_TablaResumen_En_d=pd.DataFrame(TablaResumen_En_d)\n",
        "df_TablaResumen_sm_En_d=pd.DataFrame(TablaResumen_En_d)#sin margenes\n",
        "num_horas_dest_En_d=list(df_TablaResumen_En_d.iloc[:,4].mode().value_counts().value_counts())\n",
        "horas_dest_En_d=list(df_TablaResumen_sm_En_d.iloc[:,4].mode())\n",
        "print(TablaResumen_En_d,'\\n')\n",
        "print('Numero Total de Horas Destacables del Mes:',df_TablaResumen_En_d.iloc[-1,0] )\n",
        "print('Dia más  Destacables del Mes:',list(df_TablaResumen_En_d.iloc[:,3].mode()) )\n",
        "print('Numero de Horas  Destacables del Mes:',num_horas_dest_En_d[0] ) \n",
        "print('Hora(s)  Destacables del Mes:',horas_dest_En_d ) "
      ],
      "execution_count": null,
      "outputs": []
    },
    {
      "cell_type": "markdown",
      "metadata": {
        "id": "hv8xe78NEbQq"
      },
      "source": [
        "###Puntos Acumulados entre 360 e infinito\n"
      ]
    },
    {
      "cell_type": "code",
      "metadata": {
        "id": "-rq3VQtiEd-k"
      },
      "source": [
        "try:\n",
        "  TablaResumen_En_d=pd.pivot_table(lote_360_inf ,index=['dia_semana',], values= ['dia_nombre','hora','pip' ],aggfunc=['count' ,max,  sum  ], margins=True)\n",
        "  TablaResumen_sm_En_d=pd.pivot_table(lote_360_inf ,index=['dia_semana'], values= ['dia_nombre','hora','pip'],aggfunc=['count' ,max,  sum  ])\n",
        "  df_TablaResumen_En_d=pd.DataFrame(TablaResumen_En_d)\n",
        "  df_TablaResumen_sm_En_d=pd.DataFrame(TablaResumen_sm_En_d)#sin margenes\n",
        "  num_horas_dest_En_d=list(df_TablaResumen_sm_En_d.iloc[:,4].mode().value_counts().value_counts())\n",
        "  horas_dest_En_d=list(df_TablaResumen_sm_En_d.iloc[:,4].mode())\n",
        "  apto_En=1\n",
        "except:\n",
        "  print('Este mes no Supero los 360 Puntos por Hora\\n')\n",
        "  apto_En=0\n",
        "\n",
        "\n",
        "\n",
        "if apto_En==1:\n",
        "  print(TablaResumen_En_d,'\\n')\n",
        "else:\n",
        "  print('Este Mes no Supero los 360 Puntos , No  hay Tabla\\n')\n",
        "\n",
        "\n",
        "if apto_En==1:\n",
        "  print('Numero Total de Horas Destacables del mes:',df_TablaResumen_En_d.iloc[-1,0] )\n",
        "  print('Dia más  Destacables del Mes:',list(df_TablaResumen_sm_En_d.iloc[:,3].mode()) )\n",
        "  print('Numero de Horas  destacables del Mes:',num_horas_dest_En_d[0] ) \n",
        "  print('Hora(s)  Destacables del Mes:',horas_dest_En_d ) \n",
        "else:\n",
        "  print('Este Mes no Supero los 360 puntos , No  hay Resumen')"
      ],
      "execution_count": null,
      "outputs": []
    },
    {
      "cell_type": "markdown",
      "metadata": {
        "id": "VCuGBWC1GW_A"
      },
      "source": [
        "#Julio del 2020"
      ]
    },
    {
      "cell_type": "code",
      "metadata": {
        "id": "RMhLLwkDGhVE"
      },
      "source": [
        "##Matriz de Correlación del Mes\n",
        "n=7# numero mes\n",
        "ax= plt.subplots(figsize=(6,5))\n",
        "corr=year20p[n].loc[:,['semana_numero', 'hora',  'pip']].corr()\n",
        "sns.heatmap(corr,cmap='Greens', annot=True, fmt='.2f', linewidths=1, linecolor='black')"
      ],
      "execution_count": null,
      "outputs": []
    },
    {
      "cell_type": "markdown",
      "metadata": {
        "id": "TOrdsu8UGtfp"
      },
      "source": [
        "##Análisis del Mes: Semanal, diario, por horas"
      ]
    },
    {
      "cell_type": "code",
      "metadata": {
        "id": "CvHw1nvpGyOp"
      },
      "source": [
        "# Gráfica de dispersión: Semanas del Mes\n",
        "plt.figure(figsize=(5,5))\n",
        "x=year20p[n]['semana_numero']\n",
        "y=year20p[n]['pip']\n",
        "\n",
        "plt.scatter(x,y, c='g')\n",
        "plt.xticks(range(27,32))"
      ],
      "execution_count": null,
      "outputs": []
    },
    {
      "cell_type": "code",
      "metadata": {
        "id": "EQOHfO0zG6rQ"
      },
      "source": [
        "#Máximos Puntos Acumulados del Mes\n",
        "# obtención de la máxima cantidad de puntos acumulados en 1 hora.\n",
        "\n",
        "TablaResumen_En=pd.pivot_table(year20p[n] ,index=['semana_numero'], values= ['pip',\"dia_nombre\",'hora'],aggfunc=['count' ,max,  np.mean  ], margins=True)\n",
        "TablaResumen_sm_En=pd.pivot_table(year20p[n] ,index=['semana_numero'], values= ['pip',\"dia_nombre\",'hora'],aggfunc=['count' ,max,  np.mean  ])\n",
        "df_TablaResumen_En=pd.DataFrame(TablaResumen_En)\n",
        "df_TablaResumen_sm_En=pd.DataFrame(TablaResumen_En)#sin margenes\n",
        "num_horas_dest_En=list(df_TablaResumen_sm_En.iloc[:,4].mode().value_counts().value_counts())\n",
        "horas_dest_En=list(df_TablaResumen_sm_En.iloc[:,4].mode())\n",
        "print(TablaResumen_En,'\\n')\n",
        "#Resumen de tabla:\n",
        "print('Numero Total de Horas Destacables del mes:',df_TablaResumen_En.iloc[-1,1] )\n",
        "print('Dia más  Destacables del Mes:',mode(df_TablaResumen_En.iloc[:,3]) )\n",
        "print('Numero de Horas  Destacables del mes:',num_horas_dest_En[0] ) \n",
        "print('Hora(s)  Destacables del Mes:',horas_dest_En ) "
      ],
      "execution_count": null,
      "outputs": []
    },
    {
      "cell_type": "code",
      "metadata": {
        "id": "l9kbz0djHE7T"
      },
      "source": [
        "#Gráfica de dispersión de los días de la semana\n",
        "plt.figure(figsize=(15,8))\n",
        "x=year20p[n]['dia_semana']\n",
        "y=year20p[n]['pip']\n",
        "plt.scatter(x,y ,)\n",
        "\n",
        "plt.xticks(range(32))"
      ],
      "execution_count": null,
      "outputs": []
    },
    {
      "cell_type": "code",
      "metadata": {
        "id": "1xV9jnESHLuI"
      },
      "source": [
        "#Gráfica de dispersión de las horas de la semana\n",
        "plt.figure(figsize=(15,8))\n",
        "x=year20p[n]['hora']\n",
        "y=year20p[n]['pip']\n",
        "plt.scatter(x,y)\n",
        "# plt.grid()\n",
        "plt.xticks(range(24))"
      ],
      "execution_count": null,
      "outputs": []
    },
    {
      "cell_type": "markdown",
      "metadata": {
        "id": "g3NhDVRTHOle"
      },
      "source": [
        "###Resumen del Comportamiento de la Tendencia alcista del mes\n"
      ]
    },
    {
      "cell_type": "code",
      "metadata": {
        "id": "J2dlggknHRMp"
      },
      "source": [
        "\"\"\"\"\n",
        "Tabla:\n",
        "Comportamiento del mercado durante todos los días  del mes que tuvieron una\n",
        "tendencia alcista superior a 120 puntos  con sus horas referenciadas.\n",
        "\"\"\"\n",
        "\n",
        "TablaResumen_En_m=pd.pivot_table(year20p[n] ,index=['dia_semana','dia_nombre','hora'], values= ['pip'],aggfunc=['count' ,max    ], margins=True)\n",
        "TablaResumen_sm_En_m=pd.pivot_table(year20p[n] ,index=['dia_semana','dia_nombre','hora'], values= ['pip'],aggfunc=['count' ,max  ])\n",
        "df_TablaResumen_En_m=pd.DataFrame(TablaResumen_En_m)\n",
        "df_TablaResumen_sm_En_m=pd.DataFrame(TablaResumen_En_m)#sin margenes\n",
        "print(df_TablaResumen_En_m,'\\n')#Tabla pivote\n",
        "# print(df_TablaResumen_En_m)#Tabla pivote\n",
        "df_TablaResumen_En_m.reset_index(inplace=True)\n",
        "df_TablaResumen_En_m_d=pd.DataFrame(df_TablaResumen_En_m.loc[:,[('dia_nombre',    '')]].mode())\n",
        "df_TablaResumen_En_m_h_c=list(df_TablaResumen_En_m.loc[:,[(      'hora',    '')]].mode().count())\n",
        "df_TablaResumen_En_m_h=df_TablaResumen_En_m.loc[:,[(      'hora',    '')]].mode()\n",
        "#Resumen de Tabla\n",
        "print('Dia más  destacables del mes:',list(df_TablaResumen_En_m_d['dia_nombre'])[0])\n",
        "print('Numero de horas  destacables del mes:',df_TablaResumen_En_m_h_c[0]) \n",
        "print('Hora(s) destacable(s) del mes:',list(df_TablaResumen_En_m_h['hora'])[:]) "
      ],
      "execution_count": null,
      "outputs": []
    },
    {
      "cell_type": "markdown",
      "metadata": {
        "id": "Usd1lSXEr_U5"
      },
      "source": [
        "####Análisis por Numero de operaciones por Dia\n"
      ]
    },
    {
      "cell_type": "code",
      "metadata": {
        "id": "un7dX_MislZS"
      },
      "source": [
        "#El objetivo : buscar días potenciales de inversión.\n",
        "dia_operaciones=pd.pivot_table(year20p[n] ,index=['dia_semana','dia_nombre'], values= ['pip'],aggfunc=['count',sum])\n",
        "\n",
        "df_dia_operaciones=pd.DataFrame( dia_operaciones)\n",
        "df_dia_operaciones.reset_index(inplace=True)\n",
        "df_dia_operaciones=df_dia_operaciones[df_dia_operaciones.iloc[:,2]>2]\n",
        "df_dia_operaciones.columns.set_levels(['Horas Potenciales','Beneficio Pip','Nombre',  'Dia del Mes'],level=0,inplace=True)\n",
        "df_dia_operaciones[ 'Total Benef vol(2)']=df_dia_operaciones.iloc[:,3]*0.82*2\n",
        "df_dia_operaciones[ 'Total Benef vol(1)']=df_dia_operaciones.iloc[:,3]*0.82*1\n",
        "df_dia_operaciones[ 'Total Benef vol(0.5)']=df_dia_operaciones.iloc[:,3]*0.82*0.5\n",
        "df_dia_operaciones.columns.set_levels(['',' ' ],level=1,inplace=True)\n",
        "df_dia_operaciones"
      ],
      "execution_count": null,
      "outputs": []
    },
    {
      "cell_type": "markdown",
      "metadata": {
        "id": "UNGJeRj-HWW4"
      },
      "source": [
        "##Puntos Acumulados por Lote\n"
      ]
    },
    {
      "cell_type": "code",
      "metadata": {
        "id": "cJ2e33Z9HbJ2"
      },
      "source": [
        "lote_120_239=year20p[n][(year20p[n]['pip']>=120)&(year20p[n]['pip']<240)]\n",
        "lote_240_359=year20p[n][(year20p[n]['pip']>=240)&(year20p[n]['pip']<360)]\n",
        "lote_360_inf=year20p[n][(year20p[n]['pip']>=360)]\n",
        "\n",
        "TablaResumen_En_d=pd.pivot_table(lote_120_239 ,index=['dia_semana',], values= ['dia_nombre','hora','pip' ],aggfunc=['count' ,max,  sum  ], margins=True)\n",
        "TablaResumen_sm_En_d=pd.pivot_table(lote_120_239 ,index=['dia_semana'], values= ['dia_nombre','hora','pip'],aggfunc=['count' ,max,  sum  ])\n",
        "df_TablaResumen_En_d=pd.DataFrame(TablaResumen_En_d)\n",
        "df_TablaResumen_sm_En_d=pd.DataFrame(TablaResumen_En_d)#sin margenes\n",
        "num_horas_dest_En_d=list(df_TablaResumen_En_d.iloc[:,4].mode().value_counts().value_counts())\n",
        "horas_dest_En_d=list(df_TablaResumen_sm_En_d.iloc[:,4].mode())"
      ],
      "execution_count": null,
      "outputs": []
    },
    {
      "cell_type": "markdown",
      "metadata": {
        "id": "KEMJZu2oHhsZ"
      },
      "source": [
        "###Puntos Acumulados entre 120 y 239\n",
        "\n",
        "\n"
      ]
    },
    {
      "cell_type": "code",
      "metadata": {
        "id": "OASTwPDzHojN"
      },
      "source": [
        "print(TablaResumen_En_d,'\\n')\n",
        "print('Numero Total de horas destacables del mes:',df_TablaResumen_En_d.iloc[-1,0] )\n",
        "print('Dia más  destacables del mes:',list((df_TablaResumen_En_d.iloc[:,3].mode())))\n",
        "print('Numero de horas  destacables del mes:',num_horas_dest_En_d[0] ) \n",
        "print('Hora(s)  destacables del mes:',horas_dest_En_d ) "
      ],
      "execution_count": null,
      "outputs": []
    },
    {
      "cell_type": "markdown",
      "metadata": {
        "id": "9DIGUGh0Hsn8"
      },
      "source": [
        "###Puntos Acumulados entre 240 y 359 "
      ]
    },
    {
      "cell_type": "code",
      "metadata": {
        "id": "jo0CVxHwHvmA"
      },
      "source": [
        "TablaResumen_En_d=pd.pivot_table(lote_240_359 ,index=['dia_semana',], values= ['dia_nombre','hora','pip' ],aggfunc=['count' ,max,  sum  ], margins=True)\n",
        "TablaResumen_sm_En_d=pd.pivot_table(lote_240_359 ,index=['dia_semana'], values= ['dia_nombre','hora','pip'],aggfunc=['count' ,max,  sum  ])\n",
        "df_TablaResumen_En_d=pd.DataFrame(TablaResumen_En_d)\n",
        "df_TablaResumen_sm_En_d=pd.DataFrame(TablaResumen_En_d)#sin margenes\n",
        "num_horas_dest_En_d=list(df_TablaResumen_En_d.iloc[:,4].mode().value_counts().value_counts())\n",
        "horas_dest_En_d=list(df_TablaResumen_sm_En_d.iloc[:,4].mode())\n",
        "print(TablaResumen_En_d,'\\n')\n",
        "print('Numero Total de Horas Destacables del Mes:',df_TablaResumen_En_d.iloc[-1,0] )\n",
        "print('Dia más  Destacables del Mes:',list(df_TablaResumen_En_d.iloc[:,3].mode()) )\n",
        "print('Numero de Horas  Destacables del Mes:',num_horas_dest_En_d[0] ) \n",
        "print('Hora(s)  Destacables del Mes:',horas_dest_En_d ) "
      ],
      "execution_count": null,
      "outputs": []
    },
    {
      "cell_type": "markdown",
      "metadata": {
        "id": "pjG3sLuRHyit"
      },
      "source": [
        "###Puntos Acumulados entre 360 e infinito"
      ]
    },
    {
      "cell_type": "code",
      "metadata": {
        "id": "7ZEZEliEH03B"
      },
      "source": [
        "try:\n",
        "  TablaResumen_En_d=pd.pivot_table(lote_360_inf ,index=['dia_semana',], values= ['dia_nombre','hora','pip' ],aggfunc=['count' ,max,  sum  ], margins=True)\n",
        "  TablaResumen_sm_En_d=pd.pivot_table(lote_360_inf ,index=['dia_semana'], values= ['dia_nombre','hora','pip'],aggfunc=['count' ,max,  sum  ])\n",
        "  df_TablaResumen_En_d=pd.DataFrame(TablaResumen_En_d)\n",
        "  df_TablaResumen_sm_En_d=pd.DataFrame(TablaResumen_sm_En_d)#sin margenes\n",
        "  num_horas_dest_En_d=list(df_TablaResumen_sm_En_d.iloc[:,4].mode().value_counts().value_counts())\n",
        "  horas_dest_En_d=list(df_TablaResumen_sm_En_d.iloc[:,4].mode())\n",
        "  apto_En=1\n",
        "except:\n",
        "  print('Este mes no Supero los 360 Puntos por Hora\\n')\n",
        "  apto_En=0\n",
        "\n",
        "\n",
        "\n",
        "if apto_En==1:\n",
        "  print(TablaResumen_En_d,'\\n')\n",
        "else:\n",
        "  print('Este Mes no Supero los 360 Puntos , No  hay Tabla\\n')\n",
        "\n",
        "\n",
        "if apto_En==1:\n",
        "  print('Numero Total de Horas Destacables del mes:',df_TablaResumen_En_d.iloc[-1,0] )\n",
        "  print('Dia más  Destacables del Mes:',list(df_TablaResumen_sm_En_d.iloc[:,3].mode()) )\n",
        "  print('Numero de Horas  destacables del Mes:',num_horas_dest_En_d[0] ) \n",
        "  print('Hora(s)  Destacables del Mes:',horas_dest_En_d ) \n",
        "else:\n",
        "  print('Este Mes no Supero los 360 puntos , No  hay Resumen')"
      ],
      "execution_count": null,
      "outputs": []
    },
    {
      "cell_type": "markdown",
      "metadata": {
        "id": "RjDKEbStONd6"
      },
      "source": [
        "#Agosto del 2020"
      ]
    },
    {
      "cell_type": "code",
      "metadata": {
        "id": "kX9o0Y_VOVCN"
      },
      "source": [
        "##Matriz de Correlación del Mes\n",
        "n=8# numero mes\n",
        "ax= plt.subplots(figsize=(6,5))\n",
        "corr=year20p[n].loc[:,['semana_numero', 'hora',  'pip']].corr()\n",
        "sns.heatmap(corr,cmap='Greens', annot=True, fmt='.2f', linewidths=1, linecolor='black')"
      ],
      "execution_count": null,
      "outputs": []
    },
    {
      "cell_type": "markdown",
      "metadata": {
        "id": "hxdvbaX0OXbG"
      },
      "source": [
        "##Análisis del Mes: Semanal, diario, por horas"
      ]
    },
    {
      "cell_type": "code",
      "metadata": {
        "id": "Zge9IsLcOaK4"
      },
      "source": [
        "# Gráfica de dispersión: Semanas del Mes\n",
        "plt.figure(figsize=(5,5))\n",
        "x=year20p[n]['semana_numero']\n",
        "y=year20p[n]['pip']\n",
        "\n",
        "plt.scatter(x,y, c='g')\n",
        "plt.xticks(range(32,37))"
      ],
      "execution_count": null,
      "outputs": []
    },
    {
      "cell_type": "code",
      "metadata": {
        "id": "6tmhnqkFOhbj"
      },
      "source": [
        "#Máximos Puntos Acumulados del Mes\n",
        "# obtención de la máxima cantidad de puntos acumulados en 1 hora.\n",
        "\n",
        "\n",
        "TablaResumen_En=pd.pivot_table(year20p[n] ,index=['semana_numero'], values= ['pip',\"dia_nombre\",'hora'],aggfunc=['count' ,max,  np.mean  ], margins=True)\n",
        "TablaResumen_sm_En=pd.pivot_table(year20p[n] ,index=['semana_numero'], values= ['pip',\"dia_nombre\",'hora'],aggfunc=['count' ,max,  np.mean  ])\n",
        "df_TablaResumen_En=pd.DataFrame(TablaResumen_En)\n",
        "df_TablaResumen_sm_En=pd.DataFrame(TablaResumen_En)#sin margenes\n",
        "num_horas_dest_En=list(df_TablaResumen_sm_En.iloc[:,4].mode().value_counts().value_counts())\n",
        "horas_dest_En=list(df_TablaResumen_sm_En.iloc[:,4].mode())\n",
        "print(TablaResumen_En,'\\n')\n",
        "#Resumen de tabla:\n",
        "print('Numero Total de Horas Destacables del mes:',df_TablaResumen_En.iloc[-1,1] )\n",
        "print('Dia más  Destacables del Mes:',mode(df_TablaResumen_En.iloc[:,3]) )\n",
        "print('Numero de Horas  Destacables del mes:',num_horas_dest_En[0] ) \n",
        "print('Hora(s)  Destacables del Mes:',horas_dest_En ) "
      ],
      "execution_count": null,
      "outputs": []
    },
    {
      "cell_type": "code",
      "metadata": {
        "id": "sedHofMyOnW-"
      },
      "source": [
        "#Gráfica de dispersión de los días de la semana\n",
        "plt.figure(figsize=(15,8))\n",
        "x=year20p[n]['dia_semana']\n",
        "y=year20p[n]['pip']\n",
        "plt.scatter(x,y ,)\n",
        "# plt.grid(axis='both')\n",
        "plt.xticks(range(32))"
      ],
      "execution_count": null,
      "outputs": []
    },
    {
      "cell_type": "code",
      "metadata": {
        "id": "y9T9tg2COuCx"
      },
      "source": [
        "#Gráfica de dispersión de las horas de la semana\n",
        "plt.figure(figsize=(15,8))\n",
        "x=year20p[n]['hora']\n",
        "y=year20p[n]['pip']\n",
        "plt.scatter(x,y)\n",
        "# plt.grid()\n",
        "plt.xticks(range(24))"
      ],
      "execution_count": null,
      "outputs": []
    },
    {
      "cell_type": "markdown",
      "metadata": {
        "id": "YD_QIkS-OwkD"
      },
      "source": [
        "###Resumen del Comportamiento de la Tendencia alcista del mes\n"
      ]
    },
    {
      "cell_type": "code",
      "metadata": {
        "id": "w1AOFZfZOzaR"
      },
      "source": [
        "\"\"\"\"\n",
        "Tabla:\n",
        "Comportamiento del mercado durante todos los días  del mes que tuvieron una\n",
        "tendencia alcista superior a 120 puntos  con sus horas referenciadas.\n",
        "\"\"\"\n",
        "\n",
        "TablaResumen_En_m=pd.pivot_table(year20p[n] ,index=['dia_semana','dia_nombre','hora'], values= ['pip'],aggfunc=['count' ,max    ], margins=True)\n",
        "TablaResumen_sm_En_m=pd.pivot_table(year20p[n] ,index=['dia_semana','dia_nombre','hora'], values= ['pip'],aggfunc=['count' ,max  ])\n",
        "df_TablaResumen_En_m=pd.DataFrame(TablaResumen_En_m)\n",
        "df_TablaResumen_sm_En_m=pd.DataFrame(TablaResumen_En_m)#sin margenes\n",
        "print(df_TablaResumen_En_m,'\\n')#Tabla pivote\n",
        "# print(df_TablaResumen_En_m)#Tabla pivote\n",
        "df_TablaResumen_En_m.reset_index(inplace=True)\n",
        "df_TablaResumen_En_m_d=pd.DataFrame(df_TablaResumen_En_m.loc[:,[('dia_nombre',    '')]].mode())\n",
        "df_TablaResumen_En_m_h_c=list(df_TablaResumen_En_m.loc[:,[(      'hora',    '')]].mode().count())\n",
        "df_TablaResumen_En_m_h=df_TablaResumen_En_m.loc[:,[(      'hora',    '')]].mode()\n",
        "#Resumen de Tabla\n",
        "print('Dia más  destacables del mes:',list(df_TablaResumen_En_m_d['dia_nombre'])[0])\n",
        "print('Numero de horas  destacables del mes:',df_TablaResumen_En_m_h_c[0]) \n",
        "print('Hora(s) destacable(s) del mes:',list(df_TablaResumen_En_m_h['hora'])[:]) "
      ],
      "execution_count": null,
      "outputs": []
    },
    {
      "cell_type": "markdown",
      "metadata": {
        "id": "9eYiEnq3sBtc"
      },
      "source": [
        "####Análisis por Numero de operaciones por Dia\n"
      ]
    },
    {
      "cell_type": "code",
      "metadata": {
        "id": "vioT0jpDsnIT"
      },
      "source": [
        "#El objetivo : buscar días potenciales de inversión.\n",
        "dia_operaciones=pd.pivot_table(year20p[n] ,index=['dia_semana','dia_nombre'], values= ['pip'],aggfunc=['count',sum])\n",
        "\n",
        "df_dia_operaciones=pd.DataFrame( dia_operaciones)\n",
        "df_dia_operaciones.reset_index(inplace=True)\n",
        "df_dia_operaciones=df_dia_operaciones[df_dia_operaciones.iloc[:,2]>2]\n",
        "df_dia_operaciones.columns.set_levels(['Horas Potenciales','Beneficio Pip','Nombre',  'Dia del Mes'],level=0,inplace=True)\n",
        "df_dia_operaciones[ 'Total Benef vol(2)']=df_dia_operaciones.iloc[:,3]*0.82*2\n",
        "df_dia_operaciones[ 'Total Benef vol(1)']=df_dia_operaciones.iloc[:,3]*0.82*1\n",
        "df_dia_operaciones[ 'Total Benef vol(0.5)']=df_dia_operaciones.iloc[:,3]*0.82*0.5\n",
        "df_dia_operaciones.columns.set_levels(['',' ' ],level=1,inplace=True)\n",
        "df_dia_operaciones"
      ],
      "execution_count": null,
      "outputs": []
    },
    {
      "cell_type": "markdown",
      "metadata": {
        "id": "8Eu3Abp-O2QF"
      },
      "source": [
        "##Puntos Acumulados por Lote\n"
      ]
    },
    {
      "cell_type": "code",
      "metadata": {
        "id": "b5CuueAPO6qF"
      },
      "source": [
        "lote_120_239=year20p[n][(year20p[n]['pip']>=120)&(year20p[n]['pip']<240)]\n",
        "lote_240_359=year20p[n][(year20p[n]['pip']>=240)&(year20p[n]['pip']<360)]\n",
        "lote_360_inf=year20p[n][(year20p[n]['pip']>=360)]\n",
        "\n",
        "TablaResumen_En_d=pd.pivot_table(lote_120_239 ,index=['dia_semana',], values= ['dia_nombre','hora','pip' ],aggfunc=['count' ,max,  sum  ], margins=True)\n",
        "TablaResumen_sm_En_d=pd.pivot_table(lote_120_239 ,index=['dia_semana'], values= ['dia_nombre','hora','pip'],aggfunc=['count' ,max,  sum  ])\n",
        "df_TablaResumen_En_d=pd.DataFrame(TablaResumen_En_d)\n",
        "df_TablaResumen_sm_En_d=pd.DataFrame(TablaResumen_En_d)#sin margenes\n",
        "num_horas_dest_En_d=list(df_TablaResumen_En_d.iloc[:,4].mode().value_counts().value_counts())\n",
        "horas_dest_En_d=list(df_TablaResumen_sm_En_d.iloc[:,4].mode())"
      ],
      "execution_count": null,
      "outputs": []
    },
    {
      "cell_type": "markdown",
      "metadata": {
        "id": "VayQx4PkPAEA"
      },
      "source": [
        "###Puntos Acumulados entre 120 y 239\n",
        "\n",
        "\n"
      ]
    },
    {
      "cell_type": "code",
      "metadata": {
        "id": "Phj6HCzOPEM7"
      },
      "source": [
        "print(TablaResumen_En_d,'\\n')\n",
        "print('Numero Total de horas destacables del mes:',df_TablaResumen_En_d.iloc[-1,0] )\n",
        "print('Dia más  destacables del mes:',list((df_TablaResumen_En_d.iloc[:,3].mode())))\n",
        "print('Numero de horas  destacables del mes:',num_horas_dest_En_d[0] ) \n",
        "print('Hora(s)  destacables del mes:',horas_dest_En_d ) "
      ],
      "execution_count": null,
      "outputs": []
    },
    {
      "cell_type": "markdown",
      "metadata": {
        "id": "w9apoR9uPJvy"
      },
      "source": [
        "###Puntos Acumulados entre 240 y 359 "
      ]
    },
    {
      "cell_type": "code",
      "metadata": {
        "id": "5pB9bpnbPNWr"
      },
      "source": [
        "TablaResumen_En_d=pd.pivot_table(lote_240_359 ,index=['dia_semana',], values= ['dia_nombre','hora','pip' ],aggfunc=['count' ,max,  sum  ], margins=True)\n",
        "TablaResumen_sm_En_d=pd.pivot_table(lote_240_359 ,index=['dia_semana'], values= ['dia_nombre','hora','pip'],aggfunc=['count' ,max,  sum  ])\n",
        "df_TablaResumen_En_d=pd.DataFrame(TablaResumen_En_d)\n",
        "df_TablaResumen_sm_En_d=pd.DataFrame(TablaResumen_En_d)#sin margenes\n",
        "num_horas_dest_En_d=list(df_TablaResumen_En_d.iloc[:,4].mode().value_counts().value_counts())\n",
        "horas_dest_En_d=list(df_TablaResumen_sm_En_d.iloc[:,4].mode())\n",
        "print(TablaResumen_En_d,'\\n')\n",
        "print('Numero Total de Horas Destacables del Mes:',df_TablaResumen_En_d.iloc[-1,0] )\n",
        "print('Dia más  Destacables del Mes:',list(df_TablaResumen_En_d.iloc[:,3].mode()) )\n",
        "print('Numero de Horas  Destacables del Mes:',num_horas_dest_En_d[0] ) \n",
        "print('Hora(s)  Destacables del Mes:',horas_dest_En_d ) "
      ],
      "execution_count": null,
      "outputs": []
    },
    {
      "cell_type": "markdown",
      "metadata": {
        "id": "2aNKfZPqPRYD"
      },
      "source": [
        "###Puntos Acumulados entre 360 e infinito"
      ]
    },
    {
      "cell_type": "code",
      "metadata": {
        "id": "0i3P0qt4PZ8_"
      },
      "source": [
        "try:\n",
        "  TablaResumen_En_d=pd.pivot_table(lote_360_inf ,index=['dia_semana',], values= ['dia_nombre','hora','pip' ],aggfunc=['count' ,max,  sum  ], margins=True)\n",
        "  TablaResumen_sm_En_d=pd.pivot_table(lote_360_inf ,index=['dia_semana'], values= ['dia_nombre','hora','pip'],aggfunc=['count' ,max,  sum  ])\n",
        "  df_TablaResumen_En_d=pd.DataFrame(TablaResumen_En_d)\n",
        "  df_TablaResumen_sm_En_d=pd.DataFrame(TablaResumen_sm_En_d)#sin margenes\n",
        "  num_horas_dest_En_d=list(df_TablaResumen_sm_En_d.iloc[:,4].mode().value_counts().value_counts())\n",
        "  horas_dest_En_d=list(df_TablaResumen_sm_En_d.iloc[:,4].mode())\n",
        "  apto_En=1\n",
        "except:\n",
        "  print('Este mes no Supero los 360 Puntos por Hora\\n')\n",
        "  apto_En=0\n",
        "\n",
        "\n",
        "\n",
        "if apto_En==1:\n",
        "  print(TablaResumen_En_d,'\\n')\n",
        "else:\n",
        "  print('Este Mes no Supero los 360 Puntos , No  hay Tabla\\n')\n",
        "\n",
        "\n",
        "if apto_En==1:\n",
        "  print('Numero Total de Horas Destacables del mes:',df_TablaResumen_En_d.iloc[-1,0] )\n",
        "  print('Dia más  Destacables del Mes:',list(df_TablaResumen_sm_En_d.iloc[:,3].mode()) )\n",
        "  print('Numero de Horas  destacables del Mes:',num_horas_dest_En_d[0] ) \n",
        "  print('Hora(s)  Destacables del Mes:',horas_dest_En_d ) \n",
        "else:\n",
        "  print('Este Mes no Supero los 360 puntos , No  hay Resumen')"
      ],
      "execution_count": null,
      "outputs": []
    },
    {
      "cell_type": "markdown",
      "metadata": {
        "id": "pXY2hDyJQpwF"
      },
      "source": [
        "#Septiembre del 2020"
      ]
    },
    {
      "cell_type": "code",
      "metadata": {
        "id": "h2_Ax1DGR28Q"
      },
      "source": [
        "##Matriz de Correlación del Mes\n",
        "n=9# numero mes\n",
        "ax= plt.subplots(figsize=(6,5))\n",
        "corr=year20p[n].loc[:,['semana_numero', 'hora',  'pip']].corr()\n",
        "sns.heatmap(corr,cmap='Greens', annot=True, fmt='.2f', linewidths=1, linecolor='black')"
      ],
      "execution_count": null,
      "outputs": []
    },
    {
      "cell_type": "markdown",
      "metadata": {
        "id": "vHtRx9ksR_Ms"
      },
      "source": [
        "##Análisis del Mes: Semanal, diario, por horas"
      ]
    },
    {
      "cell_type": "code",
      "metadata": {
        "id": "pwrqk0llSESK"
      },
      "source": [
        "# Gráfica de dispersión: Semanas del Mes\n",
        "plt.figure(figsize=(5,5))\n",
        "x=year20p[n]['semana_numero']\n",
        "y=year20p[n]['pip']\n",
        "\n",
        "plt.scatter(x,y, c='g')\n",
        "plt.xticks(range(37,41))"
      ],
      "execution_count": null,
      "outputs": []
    },
    {
      "cell_type": "code",
      "metadata": {
        "id": "hoG7IKqUSSXC"
      },
      "source": [
        "#Máximos Puntos Acumulados del Mes\n",
        "# obtención de la máxima cantidad de puntos acumulados en 1 hora.\n",
        "\n",
        "TablaResumen_En=pd.pivot_table(year20p[n] ,index=['semana_numero'], values= ['pip',\"dia_nombre\",'hora'],aggfunc=['count' ,max,  np.mean  ], margins=True)\n",
        "TablaResumen_sm_En=pd.pivot_table(year20p[n] ,index=['semana_numero'], values= ['pip',\"dia_nombre\",'hora'],aggfunc=['count' ,max,  np.mean  ])\n",
        "df_TablaResumen_En=pd.DataFrame(TablaResumen_En)\n",
        "df_TablaResumen_sm_En=pd.DataFrame(TablaResumen_En)#sin margenes\n",
        "num_horas_dest_En=list(df_TablaResumen_sm_En.iloc[:,4].mode().value_counts().value_counts())\n",
        "horas_dest_En=list(df_TablaResumen_sm_En.iloc[:,4].mode())\n",
        "print(TablaResumen_En,'\\n')\n",
        "#Resumen de tabla:\n",
        "print('Numero Total de Horas Destacables del mes:',df_TablaResumen_En.iloc[-1,1] )\n",
        "print('Dia más  Destacables del Mes:',mode(df_TablaResumen_En.iloc[:,3]) )\n",
        "print('Numero de Horas  Destacables del mes:',num_horas_dest_En[0] ) \n",
        "print('Hora(s)  Destacables del Mes:',horas_dest_En ) "
      ],
      "execution_count": null,
      "outputs": []
    },
    {
      "cell_type": "code",
      "metadata": {
        "id": "k64e7d2zSbjS"
      },
      "source": [
        "#Gráfica de dispersión de los días \n",
        "plt.figure(figsize=(15,8))\n",
        "x=year20p[n]['dia_semana']\n",
        "y=year20p[n]['pip']\n",
        "plt.scatter(x,y ,)\n",
        "# plt.grid(axis='both')\n",
        "plt.xticks(range(32))"
      ],
      "execution_count": null,
      "outputs": []
    },
    {
      "cell_type": "code",
      "metadata": {
        "id": "i58FlIbDTvNG"
      },
      "source": [
        "#Gráfica de dispersión de las horas de la semana\n",
        "plt.figure(figsize=(15,8))\n",
        "x=year20p[n]['hora']\n",
        "y=year20p[n]['pip']\n",
        "plt.scatter(x,y)\n",
        "\n",
        "plt.xticks(range(24))"
      ],
      "execution_count": null,
      "outputs": []
    },
    {
      "cell_type": "markdown",
      "metadata": {
        "id": "gWvm8WrVSkz9"
      },
      "source": [
        "###Resumen del Comportamiento de la Tendencia alcista del mes\n",
        "."
      ]
    },
    {
      "cell_type": "code",
      "metadata": {
        "id": "jYdJfmoIS8JN"
      },
      "source": [
        "\"\"\"\"\n",
        "Tabla:\n",
        "Comportamiento del mercado durante todos los días  del mes que tuvieron una\n",
        "tendencia alcista superior a 120 puntos  con sus horas referenciadas.\n",
        "\"\"\"\n",
        "\n",
        "TablaResumen_En_m=pd.pivot_table(year20p[n] ,index=['dia_semana','dia_nombre','hora'], values= ['pip'],aggfunc=['count' ,max    ], margins=True)\n",
        "TablaResumen_sm_En_m=pd.pivot_table(year20p[n] ,index=['dia_semana','dia_nombre','hora'], values= ['pip'],aggfunc=['count' ,max  ])\n",
        "df_TablaResumen_En_m=pd.DataFrame(TablaResumen_En_m)\n",
        "df_TablaResumen_sm_En_m=pd.DataFrame(TablaResumen_En_m)#sin margenes\n",
        "print(df_TablaResumen_En_m,'\\n')#Tabla pivote\n",
        "# print(df_TablaResumen_En_m)#Tabla pivote\n",
        "df_TablaResumen_En_m.reset_index(inplace=True)\n",
        "df_TablaResumen_En_m_d=pd.DataFrame(df_TablaResumen_En_m.loc[:,[('dia_nombre',    '')]].mode())\n",
        "df_TablaResumen_En_m_h_c=list(df_TablaResumen_En_m.loc[:,[(      'hora',    '')]].mode().count())\n",
        "df_TablaResumen_En_m_h=df_TablaResumen_En_m.loc[:,[(      'hora',    '')]].mode()\n",
        "#Resumen de Tabla\n",
        "print('Dia más  destacables del mes:',list(df_TablaResumen_En_m_d['dia_nombre'])[0])\n",
        "print('Numero de horas  destacables del mes:',df_TablaResumen_En_m_h_c[0]) \n",
        "print('Hora(s) destacable(s) del mes:',list(df_TablaResumen_En_m_h['hora'])[:]) "
      ],
      "execution_count": null,
      "outputs": []
    },
    {
      "cell_type": "markdown",
      "metadata": {
        "id": "Lxi7rQAosEMT"
      },
      "source": [
        "####Análisis por Numero de operaciones por Dia\n"
      ]
    },
    {
      "cell_type": "code",
      "metadata": {
        "id": "i6QtwTh8sppO"
      },
      "source": [
        "#El objetivo : buscar días potenciales de inversión.\n",
        "dia_operaciones=pd.pivot_table(year20p[n] ,index=['dia_semana','dia_nombre'], values= ['pip'],aggfunc=['count',sum])\n",
        "\n",
        "df_dia_operaciones=pd.DataFrame( dia_operaciones)\n",
        "df_dia_operaciones.reset_index(inplace=True)\n",
        "df_dia_operaciones=df_dia_operaciones[df_dia_operaciones.iloc[:,2]>2]\n",
        "df_dia_operaciones.columns.set_levels(['Horas Potenciales','Beneficio Pip','Nombre',  'Dia del Mes'],level=0,inplace=True)\n",
        "df_dia_operaciones[ 'Total Benef vol(2)']=df_dia_operaciones.iloc[:,3]*0.82*2\n",
        "df_dia_operaciones[ 'Total Benef vol(1)']=df_dia_operaciones.iloc[:,3]*0.82*1\n",
        "df_dia_operaciones[ 'Total Benef vol(0.5)']=df_dia_operaciones.iloc[:,3]*0.82*0.5\n",
        "df_dia_operaciones.columns.set_levels(['',' ' ],level=1,inplace=True)\n",
        "df_dia_operaciones"
      ],
      "execution_count": null,
      "outputs": []
    },
    {
      "cell_type": "markdown",
      "metadata": {
        "id": "eHk1TlpXTClW"
      },
      "source": [
        "##Puntos Acumulados por Lote\n"
      ]
    },
    {
      "cell_type": "code",
      "metadata": {
        "id": "46BRy8wETGJX"
      },
      "source": [
        "lote_120_239=year20p[n][(year20p[n]['pip']>=120)&(year20p[n]['pip']<240)]\n",
        "lote_240_359=year20p[n][(year20p[n]['pip']>=240)&(year20p[n]['pip']<360)]\n",
        "lote_360_inf=year20p[n][(year20p[n]['pip']>=360)]\n",
        "\n",
        "TablaResumen_En_d=pd.pivot_table(lote_120_239 ,index=['dia_semana',], values= ['dia_nombre','hora','pip' ],aggfunc=['count' ,max,  sum  ], margins=True)\n",
        "TablaResumen_sm_En_d=pd.pivot_table(lote_120_239 ,index=['dia_semana'], values= ['dia_nombre','hora','pip'],aggfunc=['count' ,max,  sum  ])\n",
        "df_TablaResumen_En_d=pd.DataFrame(TablaResumen_En_d)\n",
        "df_TablaResumen_sm_En_d=pd.DataFrame(TablaResumen_En_d)#sin margenes\n",
        "num_horas_dest_En_d=list(df_TablaResumen_En_d.iloc[:,4].mode().value_counts().value_counts())\n",
        "horas_dest_En_d=list(df_TablaResumen_sm_En_d.iloc[:,4].mode())"
      ],
      "execution_count": null,
      "outputs": []
    },
    {
      "cell_type": "markdown",
      "metadata": {
        "id": "panuDifRTPp8"
      },
      "source": [
        "###Puntos Acumulados entre 120 y 239\n",
        "\n",
        "\n"
      ]
    },
    {
      "cell_type": "code",
      "metadata": {
        "id": "1d8KfZvhTVCY"
      },
      "source": [
        "print(TablaResumen_En_d,'\\n')\n",
        "print('Numero Total de horas destacables del mes:',df_TablaResumen_En_d.iloc[-1,0] )\n",
        "print('Dia más  destacables del mes:',list((df_TablaResumen_En_d.iloc[:,3].mode())))\n",
        "print('Numero de horas  destacables del mes:',num_horas_dest_En_d[0] ) \n",
        "print('Hora(s)  destacables del mes:',horas_dest_En_d ) "
      ],
      "execution_count": null,
      "outputs": []
    },
    {
      "cell_type": "markdown",
      "metadata": {
        "id": "m2raST4vTbQb"
      },
      "source": [
        "###Puntos Acumulados entre 240 y 359 "
      ]
    },
    {
      "cell_type": "code",
      "metadata": {
        "id": "TIrbrn3QTf9A"
      },
      "source": [
        "TablaResumen_En_d=pd.pivot_table(lote_240_359 ,index=['dia_semana',], values= ['dia_nombre','hora','pip' ],aggfunc=['count' ,max,  sum  ], margins=True)\n",
        "TablaResumen_sm_En_d=pd.pivot_table(lote_240_359 ,index=['dia_semana'], values= ['dia_nombre','hora','pip'],aggfunc=['count' ,max,  sum  ])\n",
        "df_TablaResumen_En_d=pd.DataFrame(TablaResumen_En_d)\n",
        "df_TablaResumen_sm_En_d=pd.DataFrame(TablaResumen_En_d)#sin margenes\n",
        "num_horas_dest_En_d=list(df_TablaResumen_En_d.iloc[:,4].mode().value_counts().value_counts())\n",
        "horas_dest_En_d=list(df_TablaResumen_sm_En_d.iloc[:,4].mode())\n",
        "print(TablaResumen_En_d,'\\n')\n",
        "print('Numero Total de Horas Destacables del Mes:',df_TablaResumen_En_d.iloc[-1,0] )\n",
        "print('Dia más  Destacables del Mes:',list(df_TablaResumen_En_d.iloc[:,3].mode()) )\n",
        "print('Numero de Horas  Destacables del Mes:',num_horas_dest_En_d[0] ) \n",
        "print('Hora(s)  Destacables del Mes:',horas_dest_En_d ) "
      ],
      "execution_count": null,
      "outputs": []
    },
    {
      "cell_type": "markdown",
      "metadata": {
        "id": "eKHSrTQxTjNA"
      },
      "source": [
        "###Puntos Acumulados entre 360 e infinito"
      ]
    },
    {
      "cell_type": "code",
      "metadata": {
        "id": "VL51BSjlTlgt"
      },
      "source": [
        "try:\n",
        "  TablaResumen_En_d=pd.pivot_table(lote_360_inf ,index=['dia_semana',], values= ['dia_nombre','hora','pip' ],aggfunc=['count' ,max,  sum  ], margins=True)\n",
        "  TablaResumen_sm_En_d=pd.pivot_table(lote_360_inf ,index=['dia_semana'], values= ['dia_nombre','hora','pip'],aggfunc=['count' ,max,  sum  ])\n",
        "  df_TablaResumen_En_d=pd.DataFrame(TablaResumen_En_d)\n",
        "  df_TablaResumen_sm_En_d=pd.DataFrame(TablaResumen_sm_En_d)#sin margenes\n",
        "  num_horas_dest_En_d=list(df_TablaResumen_sm_En_d.iloc[:,4].mode().value_counts().value_counts())\n",
        "  horas_dest_En_d=list(df_TablaResumen_sm_En_d.iloc[:,4].mode())\n",
        "  apto_En=1\n",
        "except:\n",
        "  print('Este mes no Supero los 360 Puntos por Hora\\n')\n",
        "  apto_En=0\n",
        "\n",
        "\n",
        "\n",
        "if apto_En==1:\n",
        "  print(TablaResumen_En_d,'\\n')\n",
        "else:\n",
        "  print('Este Mes no Supero los 360 Puntos , No  hay Tabla\\n')\n",
        "\n",
        "\n",
        "if apto_En==1:\n",
        "  print('Numero Total de Horas Destacables del mes:',df_TablaResumen_En_d.iloc[-1,0] )\n",
        "  print('Dia más  Destacables del Mes:',list(df_TablaResumen_sm_En_d.iloc[:,3].mode()) )\n",
        "  print('Numero de Horas  destacables del Mes:',num_horas_dest_En_d[0] ) \n",
        "  print('Hora(s)  Destacables del Mes:',horas_dest_En_d ) \n",
        "else:\n",
        "  print('Este Mes no Supero los 360 puntos , No  hay Resumen')"
      ],
      "execution_count": null,
      "outputs": []
    },
    {
      "cell_type": "markdown",
      "metadata": {
        "id": "94MJqI5UUtfx"
      },
      "source": [
        "#Octubre del 2020"
      ]
    },
    {
      "cell_type": "code",
      "metadata": {
        "id": "pgHwaw5PU-nV"
      },
      "source": [
        "##Matriz de Correlación del Mes\n",
        "n=10# numero mes\n",
        "ax= plt.subplots(figsize=(6,5))\n",
        "corr=year20p[n].loc[:,['semana_numero', 'hora',  'pip']].corr()\n",
        "sns.heatmap(corr,cmap='Greens', annot=True, fmt='.2f', linewidths=1, linecolor='black')"
      ],
      "execution_count": null,
      "outputs": []
    },
    {
      "cell_type": "markdown",
      "metadata": {
        "id": "I3fS0cBRVFxl"
      },
      "source": [
        "##Análisis del Mes: Semanal, diario, por horas"
      ]
    },
    {
      "cell_type": "code",
      "metadata": {
        "id": "dzI4mgMrVIQn"
      },
      "source": [
        "# Gráfica de dispersión: Semanas del Mes\n",
        "plt.figure(figsize=(5,5))\n",
        "x=year20p[n]['semana_numero']\n",
        "y=year20p[n]['pip']\n",
        "\n",
        "plt.scatter(x,y, c='g')\n",
        "plt.xticks(range(40,45))"
      ],
      "execution_count": null,
      "outputs": []
    },
    {
      "cell_type": "code",
      "metadata": {
        "id": "LFB3UkBTVQzM"
      },
      "source": [
        "#Máximos Puntos Acumulados del Mes\n",
        "# obtención de la máxima cantidad de puntos acumulados en 1 hora.\n",
        "\n",
        "\n",
        "TablaResumen_En=pd.pivot_table(year20p[n] ,index=['semana_numero'], values= ['pip',\"dia_nombre\",'hora'],aggfunc=['count' ,max,  np.mean  ], margins=True)\n",
        "TablaResumen_sm_En=pd.pivot_table(year20p[n] ,index=['semana_numero'], values= ['pip',\"dia_nombre\",'hora'],aggfunc=['count' ,max,  np.mean  ])\n",
        "df_TablaResumen_En=pd.DataFrame(TablaResumen_En)\n",
        "df_TablaResumen_sm_En=pd.DataFrame(TablaResumen_En)#sin margenes\n",
        "num_horas_dest_En=list(df_TablaResumen_sm_En.iloc[:,4].mode().value_counts().value_counts())\n",
        "horas_dest_En=list(df_TablaResumen_sm_En.iloc[:,4].mode())\n",
        "print(TablaResumen_En,'\\n')\n",
        "#Resumen de tabla:\n",
        "print('Numero Total de Horas Destacables del mes:',df_TablaResumen_En.iloc[-1,1] )\n",
        "print('Dia más  Destacables del Mes:',mode(df_TablaResumen_En.iloc[:,3]) )\n",
        "print('Numero de Horas  Destacables del mes:',num_horas_dest_En[0] ) \n",
        "print('Hora(s)  Destacables del Mes:',horas_dest_En ) "
      ],
      "execution_count": null,
      "outputs": []
    },
    {
      "cell_type": "code",
      "metadata": {
        "id": "QS61UXOnVXri"
      },
      "source": [
        "#Gráfica de dispersión de los días de la semana\n",
        "plt.figure(figsize=(15,8))\n",
        "x=year20p[n]['dia_semana']\n",
        "y=year20p[n]['pip']\n",
        "plt.scatter(x,y ,)\n",
        "# plt.grid(axis='both')\n",
        "plt.xticks(range(32))"
      ],
      "execution_count": null,
      "outputs": []
    },
    {
      "cell_type": "code",
      "metadata": {
        "id": "GHOJQ8MnVdRO"
      },
      "source": [
        "#Gráfica de dispersión de las horas de la semana\n",
        "plt.figure(figsize=(15,8))\n",
        "x=year20p[n]['hora']\n",
        "y=year20p[n]['pip']\n",
        "plt.scatter(x,y)\n",
        "\n",
        "plt.xticks(range(24))"
      ],
      "execution_count": null,
      "outputs": []
    },
    {
      "cell_type": "markdown",
      "metadata": {
        "id": "RHG7PFiCVhCi"
      },
      "source": [
        "###Resumen del Comportamiento de la Tendencia alcista del mes\n"
      ]
    },
    {
      "cell_type": "code",
      "metadata": {
        "id": "HpxYf7ZuVmpo"
      },
      "source": [
        "\"\"\"\"\n",
        "Tabla:\n",
        "Comportamiento del mercado durante todos los días  del mes que tuvieron una\n",
        "tendencia alcista superior a 120 puntos  con sus horas referenciadas.\n",
        "\"\"\"\n",
        "\n",
        "TablaResumen_En_m=pd.pivot_table(year20p[n] ,index=['dia_semana','dia_nombre','hora'], values= ['pip'],aggfunc=['count' ,max    ], margins=True)\n",
        "TablaResumen_sm_En_m=pd.pivot_table(year20p[n] ,index=['dia_semana','dia_nombre','hora'], values= ['pip'],aggfunc=['count' ,max  ])\n",
        "df_TablaResumen_En_m=pd.DataFrame(TablaResumen_En_m)\n",
        "df_TablaResumen_sm_En_m=pd.DataFrame(TablaResumen_En_m)#sin margenes\n",
        "print(df_TablaResumen_En_m,'\\n')#Tabla pivote\n",
        "# print(df_TablaResumen_En_m)#Tabla pivote\n",
        "df_TablaResumen_En_m.reset_index(inplace=True)\n",
        "df_TablaResumen_En_m_d=pd.DataFrame(df_TablaResumen_En_m.loc[:,[('dia_nombre',    '')]].mode())\n",
        "df_TablaResumen_En_m_h_c=list(df_TablaResumen_En_m.loc[:,[(      'hora',    '')]].mode().count())\n",
        "df_TablaResumen_En_m_h=df_TablaResumen_En_m.loc[:,[(      'hora',    '')]].mode()\n",
        "#Resumen de Tabla\n",
        "print('Dia más  destacables del mes:',list(df_TablaResumen_En_m_d['dia_nombre'])[0])\n",
        "print('Numero de horas  destacables del mes:',df_TablaResumen_En_m_h_c[0]) \n",
        "print('Hora(s) destacable(s) del mes:',list(df_TablaResumen_En_m_h['hora'])[:]) "
      ],
      "execution_count": null,
      "outputs": []
    },
    {
      "cell_type": "markdown",
      "metadata": {
        "id": "uRVmmRVcsGxE"
      },
      "source": [
        "####Análisis por Numero de operaciones por Dia\n"
      ]
    },
    {
      "cell_type": "code",
      "metadata": {
        "id": "_ShRMWAXsrF1"
      },
      "source": [
        "#El objetivo : buscar días potenciales de inversión.\n",
        "dia_operaciones=pd.pivot_table(year20p[n] ,index=['dia_semana','dia_nombre'], values= ['pip'],aggfunc=['count',sum])\n",
        "\n",
        "df_dia_operaciones=pd.DataFrame( dia_operaciones)\n",
        "df_dia_operaciones.reset_index(inplace=True)\n",
        "df_dia_operaciones=df_dia_operaciones[df_dia_operaciones.iloc[:,2]>2]\n",
        "df_dia_operaciones.columns.set_levels(['Horas Potenciales','Beneficio Pip','Nombre',  'Dia del Mes'],level=0,inplace=True)\n",
        "df_dia_operaciones[ 'Total Benef vol(2)']=df_dia_operaciones.iloc[:,3]*0.82*2\n",
        "df_dia_operaciones[ 'Total Benef vol(1)']=df_dia_operaciones.iloc[:,3]*0.82*1\n",
        "df_dia_operaciones[ 'Total Benef vol(0.5)']=df_dia_operaciones.iloc[:,3]*0.82*0.5\n",
        "df_dia_operaciones.columns.set_levels(['',' ' ],level=1,inplace=True)\n",
        "df_dia_operaciones"
      ],
      "execution_count": null,
      "outputs": []
    },
    {
      "cell_type": "markdown",
      "metadata": {
        "id": "_AlY7T47Vsek"
      },
      "source": [
        "##Puntos Acumulados por Lote\n"
      ]
    },
    {
      "cell_type": "code",
      "metadata": {
        "id": "Nxf_9rAhVv5e"
      },
      "source": [
        "lote_120_239=year20p[n][(year20p[n]['pip']>=120)&(year20p[n]['pip']<240)]\n",
        "lote_240_359=year20p[n][(year20p[n]['pip']>=240)&(year20p[n]['pip']<360)]\n",
        "lote_360_inf=year20p[n][(year20p[n]['pip']>=360)]\n",
        "\n",
        "TablaResumen_En_d=pd.pivot_table(lote_120_239 ,index=['dia_semana',], values= ['dia_nombre','hora','pip' ],aggfunc=['count' ,max,  sum  ], margins=True)\n",
        "TablaResumen_sm_En_d=pd.pivot_table(lote_120_239 ,index=['dia_semana'], values= ['dia_nombre','hora','pip'],aggfunc=['count' ,max,  sum  ])\n",
        "df_TablaResumen_En_d=pd.DataFrame(TablaResumen_En_d)\n",
        "df_TablaResumen_sm_En_d=pd.DataFrame(TablaResumen_En_d)#sin margenes\n",
        "num_horas_dest_En_d=list(df_TablaResumen_En_d.iloc[:,4].mode().value_counts().value_counts())\n",
        "horas_dest_En_d=list(df_TablaResumen_sm_En_d.iloc[:,4].mode())"
      ],
      "execution_count": null,
      "outputs": []
    },
    {
      "cell_type": "markdown",
      "metadata": {
        "id": "vAUBWl1HV1tQ"
      },
      "source": [
        "###Puntos Acumulados entre 120 y 239\n",
        "\n",
        "\n"
      ]
    },
    {
      "cell_type": "code",
      "metadata": {
        "id": "tm8ay4zlV40J"
      },
      "source": [
        "print(TablaResumen_En_d,'\\n')\n",
        "print('Numero Total de horas destacables del mes:',df_TablaResumen_En_d.iloc[-1,0] )\n",
        "print('Dia más  destacables del mes:',list((df_TablaResumen_En_d.iloc[:,3].mode())))\n",
        "print('Numero de horas  destacables del mes:',num_horas_dest_En_d[0] ) \n",
        "print('Hora(s)  destacables del mes:',horas_dest_En_d ) "
      ],
      "execution_count": null,
      "outputs": []
    },
    {
      "cell_type": "markdown",
      "metadata": {
        "id": "xfPRfoBcV8q-"
      },
      "source": [
        "###Puntos Acumulados entre 240 y 359 "
      ]
    },
    {
      "cell_type": "code",
      "metadata": {
        "id": "FAGkXpBlWBHk"
      },
      "source": [
        "TablaResumen_En_d=pd.pivot_table(lote_240_359 ,index=['dia_semana',], values= ['dia_nombre','hora','pip' ],aggfunc=['count' ,max,  sum  ], margins=True)\n",
        "TablaResumen_sm_En_d=pd.pivot_table(lote_240_359 ,index=['dia_semana'], values= ['dia_nombre','hora','pip'],aggfunc=['count' ,max,  sum  ])\n",
        "df_TablaResumen_En_d=pd.DataFrame(TablaResumen_En_d)\n",
        "df_TablaResumen_sm_En_d=pd.DataFrame(TablaResumen_En_d)#sin margenes\n",
        "num_horas_dest_En_d=list(df_TablaResumen_En_d.iloc[:,4].mode().value_counts().value_counts())\n",
        "horas_dest_En_d=list(df_TablaResumen_sm_En_d.iloc[:,4].mode())\n",
        "print(TablaResumen_En_d,'\\n')\n",
        "print('Numero Total de Horas Destacables del Mes:',df_TablaResumen_En_d.iloc[-1,0] )\n",
        "print('Dia más  Destacables del Mes:',list(df_TablaResumen_En_d.iloc[:,3].mode()) )\n",
        "print('Numero de Horas  Destacables del Mes:',num_horas_dest_En_d[0] ) \n",
        "print('Hora(s)  Destacables del Mes:',horas_dest_En_d ) "
      ],
      "execution_count": null,
      "outputs": []
    },
    {
      "cell_type": "markdown",
      "metadata": {
        "id": "Pac6JN4MWDcX"
      },
      "source": [
        "###Puntos Acumulados entre 360 e infinito"
      ]
    },
    {
      "cell_type": "code",
      "metadata": {
        "id": "ymD21LmrWF6y"
      },
      "source": [
        "try:\n",
        "  TablaResumen_En_d=pd.pivot_table(lote_360_inf ,index=['dia_semana',], values= ['dia_nombre','hora','pip' ],aggfunc=['count' ,max,  sum  ], margins=True)\n",
        "  TablaResumen_sm_En_d=pd.pivot_table(lote_360_inf ,index=['dia_semana'], values= ['dia_nombre','hora','pip'],aggfunc=['count' ,max,  sum  ])\n",
        "  df_TablaResumen_En_d=pd.DataFrame(TablaResumen_En_d)\n",
        "  df_TablaResumen_sm_En_d=pd.DataFrame(TablaResumen_sm_En_d)#sin margenes\n",
        "  num_horas_dest_En_d=list(df_TablaResumen_sm_En_d.iloc[:,4].mode().value_counts().value_counts())\n",
        "  horas_dest_En_d=list(df_TablaResumen_sm_En_d.iloc[:,4].mode())\n",
        "  apto_En=1\n",
        "except:\n",
        "  print('Este mes no Supero los 360 Puntos por Hora\\n')\n",
        "  apto_En=0\n",
        "\n",
        "\n",
        "\n",
        "if apto_En==1:\n",
        "  print(TablaResumen_En_d,'\\n')\n",
        "else:\n",
        "  print('Este Mes no Supero los 360 Puntos , No  hay Tabla\\n')\n",
        "\n",
        "\n",
        "if apto_En==1:\n",
        "  print('Numero Total de Horas Destacables del mes:',df_TablaResumen_En_d.iloc[-1,0] )\n",
        "  print('Dia más  Destacables del Mes:',list(df_TablaResumen_sm_En_d.iloc[:,3].mode()) )\n",
        "  print('Numero de Horas  destacables del Mes:',num_horas_dest_En_d[0] ) \n",
        "  print('Hora(s)  Destacables del Mes:',horas_dest_En_d ) \n",
        "else:\n",
        "  print('Este Mes no Supero los 360 puntos , No  hay Resumen')"
      ],
      "execution_count": null,
      "outputs": []
    },
    {
      "cell_type": "markdown",
      "metadata": {
        "id": "703ZRlPqXFqv"
      },
      "source": [
        "#Noviembre del 2020"
      ]
    },
    {
      "cell_type": "code",
      "metadata": {
        "id": "NMEPmoMBXYWw"
      },
      "source": [
        "##Matriz de Correlación del Mes\n",
        "n=11# numero mes\n",
        "ax= plt.subplots(figsize=(6,5))\n",
        "corr=year20p[n].loc[:,['semana_numero', 'hora',  'pip']].corr()\n",
        "sns.heatmap(corr,cmap='Greens', annot=True, fmt='.2f', linewidths=1, linecolor='black')"
      ],
      "execution_count": null,
      "outputs": []
    },
    {
      "cell_type": "markdown",
      "metadata": {
        "id": "5QgrLsg0Xb9n"
      },
      "source": [
        "##Análisis del Mes: Semanal, diario, por horas"
      ]
    },
    {
      "cell_type": "code",
      "metadata": {
        "id": "XqOn1kb5XfKS"
      },
      "source": [
        "# Gráfica de dispersión: Semanas del Mes\n",
        "plt.figure(figsize=(5,5))\n",
        "x=year20p[n]['semana_numero']\n",
        "y=year20p[n]['pip']\n",
        "\n",
        "plt.scatter(x,y, c='g')\n",
        "plt.xticks(range(45,50))"
      ],
      "execution_count": null,
      "outputs": []
    },
    {
      "cell_type": "code",
      "metadata": {
        "id": "KyGRkFtSXq2M"
      },
      "source": [
        "#Máximos Puntos Acumulados del Mes\n",
        "# obtención de la máxima cantidad de puntos acumulados en 1 hora.\n",
        "\n",
        "TablaResumen_En=pd.pivot_table(year20p[n] ,index=['semana_numero'], values= ['pip',\"dia_nombre\",'hora'],aggfunc=['count' ,max,  np.mean  ], margins=True)\n",
        "TablaResumen_sm_En=pd.pivot_table(year20p[n] ,index=['semana_numero'], values= ['pip',\"dia_nombre\",'hora'],aggfunc=['count' ,max,  np.mean  ])\n",
        "df_TablaResumen_En=pd.DataFrame(TablaResumen_En)\n",
        "df_TablaResumen_sm_En=pd.DataFrame(TablaResumen_En)#sin margenes\n",
        "num_horas_dest_En=list(df_TablaResumen_sm_En.iloc[:,4].mode().value_counts().value_counts())\n",
        "horas_dest_En=list(df_TablaResumen_sm_En.iloc[:,4].mode())\n",
        "print(TablaResumen_En,'\\n')\n",
        "#Resumen de tabla:\n",
        "print('Numero Total de Horas Destacables del mes:',df_TablaResumen_En.iloc[-1,1] )\n",
        "print('Dia más  Destacables del Mes:',mode(df_TablaResumen_En.iloc[:,3]) )\n",
        "print('Numero de Horas  Destacables del mes:',num_horas_dest_En[0] ) \n",
        "print('Hora(s)  Destacables del Mes:',horas_dest_En ) "
      ],
      "execution_count": null,
      "outputs": []
    },
    {
      "cell_type": "code",
      "metadata": {
        "id": "s1cm1Pv_X4Ge"
      },
      "source": [
        "#Gráfica de dispersión de los días de la semana\n",
        "plt.figure(figsize=(15,8))\n",
        "x=year20p[n]['dia_semana']\n",
        "y=year20p[n]['pip']\n",
        "plt.scatter(x,y ,)\n",
        "# plt.grid(axis='both')\n",
        "plt.xticks(range(32))"
      ],
      "execution_count": null,
      "outputs": []
    },
    {
      "cell_type": "code",
      "metadata": {
        "id": "bVTtyE--Yhfo"
      },
      "source": [
        "#Gráfica de dispersión de las horas de la semana\n",
        "plt.figure(figsize=(15,8))\n",
        "x=year20p[n]['hora']\n",
        "y=year20p[n]['pip']\n",
        "plt.scatter(x,y)\n",
        "\n",
        "plt.xticks(range(24))"
      ],
      "execution_count": null,
      "outputs": []
    },
    {
      "cell_type": "markdown",
      "metadata": {
        "id": "QlTo4vjIYlgx"
      },
      "source": [
        "###Resumen del Comportamiento de la Tendencia alcista del mes\n"
      ]
    },
    {
      "cell_type": "code",
      "metadata": {
        "id": "0Bka4l8KYpwS"
      },
      "source": [
        "\"\"\"\"\n",
        "Tabla:\n",
        "Comportamiento del mercado durante todos los días  del mes que tuvieron una\n",
        "tendencia alcista superior a 120 puntos  con sus horas referenciadas.\n",
        "\"\"\"\n",
        "\n",
        "TablaResumen_En_m=pd.pivot_table(year20p[n] ,index=['dia_semana','dia_nombre','hora'], values= ['pip'],aggfunc=['count' ,max    ], margins=True)\n",
        "TablaResumen_sm_En_m=pd.pivot_table(year20p[n] ,index=['dia_semana','dia_nombre','hora'], values= ['pip'],aggfunc=['count' ,max  ])\n",
        "df_TablaResumen_En_m=pd.DataFrame(TablaResumen_En_m)\n",
        "df_TablaResumen_sm_En_m=pd.DataFrame(TablaResumen_En_m)#sin margenes\n",
        "print(df_TablaResumen_En_m,'\\n')#Tabla pivote\n",
        "# print(df_TablaResumen_En_m)#Tabla pivote\n",
        "df_TablaResumen_En_m.reset_index(inplace=True)\n",
        "df_TablaResumen_En_m_d=pd.DataFrame(df_TablaResumen_En_m.loc[:,[('dia_nombre',    '')]].mode())\n",
        "df_TablaResumen_En_m_h_c=list(df_TablaResumen_En_m.loc[:,[(      'hora',    '')]].mode().count())\n",
        "df_TablaResumen_En_m_h=df_TablaResumen_En_m.loc[:,[(      'hora',    '')]].mode()\n",
        "#Resumen de Tabla\n",
        "print('Dia más  destacables del mes:',list(df_TablaResumen_En_m_d['dia_nombre'])[0])\n",
        "print('Numero de horas  destacables del mes:',df_TablaResumen_En_m_h_c[0]) \n",
        "print('Hora(s) destacable(s) del mes:',list(df_TablaResumen_En_m_h['hora'])[:]) "
      ],
      "execution_count": null,
      "outputs": []
    },
    {
      "cell_type": "markdown",
      "metadata": {
        "id": "0oC879OrsMUu"
      },
      "source": [
        "####Análisis por Numero de operaciones por Dia\n"
      ]
    },
    {
      "cell_type": "code",
      "metadata": {
        "id": "xFX3vaj9sttc"
      },
      "source": [
        "#El objetivo : buscar días potenciales de inversión.\n",
        "dia_operaciones=pd.pivot_table(year20p[n] ,index=['dia_semana','dia_nombre'], values= ['pip'],aggfunc=['count',sum])\n",
        "\n",
        "df_dia_operaciones=pd.DataFrame( dia_operaciones)\n",
        "df_dia_operaciones.reset_index(inplace=True)\n",
        "df_dia_operaciones=df_dia_operaciones[df_dia_operaciones.iloc[:,2]>2]\n",
        "df_dia_operaciones.columns.set_levels(['Horas Potenciales','Beneficio Pip','Nombre',  'Dia del Mes'],level=0,inplace=True)\n",
        "df_dia_operaciones[ 'Total Benef vol(2)']=df_dia_operaciones.iloc[:,3]*0.82*2\n",
        "df_dia_operaciones[ 'Total Benef vol(1)']=df_dia_operaciones.iloc[:,3]*0.82*1\n",
        "df_dia_operaciones[ 'Total Benef vol(0.5)']=df_dia_operaciones.iloc[:,3]*0.82*0.5\n",
        "df_dia_operaciones.columns.set_levels(['',' ' ],level=1,inplace=True)\n",
        "df_dia_operaciones"
      ],
      "execution_count": null,
      "outputs": []
    },
    {
      "cell_type": "markdown",
      "metadata": {
        "id": "KBwfQeGFYuNz"
      },
      "source": [
        "##Puntos Acumulados por Lote\n"
      ]
    },
    {
      "cell_type": "code",
      "metadata": {
        "id": "ClaLwQ_2Y1un"
      },
      "source": [
        "lote_120_239=year20p[n][(year20p[n]['pip']>=120)&(year20p[n]['pip']<240)]\n",
        "lote_240_359=year20p[n][(year20p[n]['pip']>=240)&(year20p[n]['pip']<360)]\n",
        "lote_360_inf=year20p[n][(year20p[n]['pip']>=360)]\n",
        "\n",
        "TablaResumen_En_d=pd.pivot_table(lote_120_239 ,index=['dia_semana',], values= ['dia_nombre','hora','pip' ],aggfunc=['count' ,max,  sum  ], margins=True)\n",
        "TablaResumen_sm_En_d=pd.pivot_table(lote_120_239 ,index=['dia_semana'], values= ['dia_nombre','hora','pip'],aggfunc=['count' ,max,  sum  ])\n",
        "df_TablaResumen_En_d=pd.DataFrame(TablaResumen_En_d)\n",
        "df_TablaResumen_sm_En_d=pd.DataFrame(TablaResumen_En_d)#sin margenes\n",
        "num_horas_dest_En_d=list(df_TablaResumen_En_d.iloc[:,4].mode().value_counts().value_counts())\n",
        "horas_dest_En_d=list(df_TablaResumen_sm_En_d.iloc[:,4].mode())"
      ],
      "execution_count": null,
      "outputs": []
    },
    {
      "cell_type": "markdown",
      "metadata": {
        "id": "Z8wmcgApY4yi"
      },
      "source": [
        "###Puntos Acumulados entre 120 y 239\n",
        "\n",
        "\n"
      ]
    },
    {
      "cell_type": "code",
      "metadata": {
        "id": "qurph2qFZHT-"
      },
      "source": [
        "print(TablaResumen_En_d,'\\n')\n",
        "print('Numero Total de horas destacables del mes:',df_TablaResumen_En_d.iloc[-1,0] )\n",
        "print('Dia más  destacables del mes:',list((df_TablaResumen_En_d.iloc[:,3].mode())))\n",
        "print('Numero de horas  destacables del mes:',num_horas_dest_En_d[0] ) \n",
        "print('Hora(s)  destacables del mes:',horas_dest_En_d ) "
      ],
      "execution_count": null,
      "outputs": []
    },
    {
      "cell_type": "markdown",
      "metadata": {
        "id": "lYkI11zTZMna"
      },
      "source": [
        "###Puntos Acumulados entre 240 y 359 "
      ]
    },
    {
      "cell_type": "code",
      "metadata": {
        "id": "-Y8Bg6tmZR0Z"
      },
      "source": [
        "TablaResumen_En_d=pd.pivot_table(lote_240_359 ,index=['dia_semana',], values= ['dia_nombre','hora','pip' ],aggfunc=['count' ,max,  sum  ], margins=True)\n",
        "TablaResumen_sm_En_d=pd.pivot_table(lote_240_359 ,index=['dia_semana'], values= ['dia_nombre','hora','pip'],aggfunc=['count' ,max,  sum  ])\n",
        "df_TablaResumen_En_d=pd.DataFrame(TablaResumen_En_d)\n",
        "df_TablaResumen_sm_En_d=pd.DataFrame(TablaResumen_En_d)#sin margenes\n",
        "num_horas_dest_En_d=list(df_TablaResumen_En_d.iloc[:,4].mode().value_counts().value_counts())\n",
        "horas_dest_En_d=list(df_TablaResumen_sm_En_d.iloc[:,4].mode())\n",
        "print(TablaResumen_En_d,'\\n')\n",
        "print('Numero Total de Horas Destacables del Mes:',df_TablaResumen_En_d.iloc[-1,0] )\n",
        "print('Dia más  Destacables del Mes:',list(df_TablaResumen_En_d.iloc[:,3].mode()) )\n",
        "print('Numero de Horas  Destacables del Mes:',num_horas_dest_En_d[0] ) \n",
        "print('Hora(s)  Destacables del Mes:',horas_dest_En_d ) "
      ],
      "execution_count": null,
      "outputs": []
    },
    {
      "cell_type": "markdown",
      "metadata": {
        "id": "22kDD2shZWmb"
      },
      "source": [
        "###Puntos Acumulados entre 360 e infinito"
      ]
    },
    {
      "cell_type": "code",
      "metadata": {
        "id": "j7H2bLf-ZZK7"
      },
      "source": [
        "try:\n",
        "  TablaResumen_En_d=pd.pivot_table(lote_360_inf ,index=['dia_semana',], values= ['dia_nombre','hora','pip' ],aggfunc=['count' ,max,  sum  ], margins=True)\n",
        "  TablaResumen_sm_En_d=pd.pivot_table(lote_360_inf ,index=['dia_semana'], values= ['dia_nombre','hora','pip'],aggfunc=['count' ,max,  sum  ])\n",
        "  df_TablaResumen_En_d=pd.DataFrame(TablaResumen_En_d)\n",
        "  df_TablaResumen_sm_En_d=pd.DataFrame(TablaResumen_sm_En_d)#sin margenes\n",
        "  num_horas_dest_En_d=list(df_TablaResumen_sm_En_d.iloc[:,4].mode().value_counts().value_counts())\n",
        "  horas_dest_En_d=list(df_TablaResumen_sm_En_d.iloc[:,4].mode())\n",
        "  apto_En=1\n",
        "except:\n",
        "  print('Este mes no Supero los 360 Puntos por Hora\\n')\n",
        "  apto_En=0\n",
        "\n",
        "\n",
        "\n",
        "if apto_En==1:\n",
        "  print(TablaResumen_En_d,'\\n')\n",
        "else:\n",
        "  print('Este Mes no Supero los 360 Puntos , No  hay Tabla\\n')\n",
        "\n",
        "\n",
        "if apto_En==1:\n",
        "  print('Numero Total de Horas Destacables del mes:',df_TablaResumen_En_d.iloc[-1,0] )\n",
        "  print('Dia más  Destacables del Mes:',list(df_TablaResumen_sm_En_d.iloc[:,3].mode()) )\n",
        "  print('Numero de Horas  destacables del Mes:',num_horas_dest_En_d[0] ) \n",
        "  print('Hora(s)  Destacables del Mes:',horas_dest_En_d ) \n",
        "else:\n",
        "  print('Este Mes no Supero los 360 puntos , No  hay Resumen')"
      ],
      "execution_count": null,
      "outputs": []
    },
    {
      "cell_type": "markdown",
      "metadata": {
        "id": "R-uNNMS_b2KO"
      },
      "source": [
        "#Diciembre del 2020"
      ]
    },
    {
      "cell_type": "code",
      "metadata": {
        "id": "k64x4oxvcGeu"
      },
      "source": [
        "##Matriz de Correlación del Mes\n",
        "n=12# numero mes\n",
        "ax= plt.subplots(figsize=(6,5))\n",
        "corr=year20p[n].loc[:,['semana_numero', 'hora',  'pip']].corr()\n",
        "sns.heatmap(corr,cmap='Greens', annot=True, fmt='.2f', linewidths=1, linecolor='black')"
      ],
      "execution_count": null,
      "outputs": []
    },
    {
      "cell_type": "markdown",
      "metadata": {
        "id": "wgyk7OKTcJtU"
      },
      "source": [
        "##Análisis del Mes: Semanal, diario, por horas"
      ]
    },
    {
      "cell_type": "code",
      "metadata": {
        "id": "es0HLEfdcOQP"
      },
      "source": [
        "# Gráfica de dispersión: Semanas del Mes\n",
        "plt.figure(figsize=(5,5))\n",
        "x=year20p[n]['semana_numero']\n",
        "y=year20p[n]['pip']\n",
        "\n",
        "plt.scatter(x,y, c='g')\n",
        "plt.xticks(range(49,54))"
      ],
      "execution_count": null,
      "outputs": []
    },
    {
      "cell_type": "code",
      "metadata": {
        "id": "iVUkYfV9cjMv"
      },
      "source": [
        "#Máximos Puntos Acumulados del Mes\n",
        "# obtención de la máxima cantidad de puntos acumulados en 1 hora\n",
        "\n",
        "TablaResumen_En=pd.pivot_table(year20p[n] ,index=['semana_numero'], values= ['pip',\"dia_nombre\",'hora'],aggfunc=['count' ,max,  np.mean  ], margins=True)\n",
        "TablaResumen_sm_En=pd.pivot_table(year20p[n] ,index=['semana_numero'], values= ['pip',\"dia_nombre\",'hora'],aggfunc=['count' ,max,  np.mean  ])\n",
        "df_TablaResumen_En=pd.DataFrame(TablaResumen_En)\n",
        "df_TablaResumen_sm_En=pd.DataFrame(TablaResumen_En)#sin margenes\n",
        "num_horas_dest_En=list(df_TablaResumen_sm_En.iloc[:,4].mode().value_counts().value_counts())\n",
        "horas_dest_En=list(df_TablaResumen_sm_En.iloc[:,4].mode())\n",
        "print(TablaResumen_En,'\\n')\n",
        "#Resumen de tabla:\n",
        "print('Numero Total de Horas Destacables del mes:',df_TablaResumen_En.iloc[-1,1] )\n",
        "print('Dia más  Destacables del Mes:',mode(df_TablaResumen_En.iloc[:,3]) )\n",
        "print('Numero de Horas  Destacables del mes:',num_horas_dest_En[0] ) \n",
        "print('Hora(s)  Destacables del Mes:',horas_dest_En ) "
      ],
      "execution_count": null,
      "outputs": []
    },
    {
      "cell_type": "code",
      "metadata": {
        "id": "kHFuCbrbcqJK"
      },
      "source": [
        "#Gráfica de dispersión de los días de la semana\n",
        "plt.figure(figsize=(15,8))\n",
        "x=year20p[n]['dia_semana']\n",
        "y=year20p[n]['pip']\n",
        "plt.scatter(x,y ,)\n",
        "# plt.grid(axis='both')\n",
        "plt.xticks(range(32))"
      ],
      "execution_count": null,
      "outputs": []
    },
    {
      "cell_type": "code",
      "metadata": {
        "id": "EbE0XwZrc3IZ"
      },
      "source": [
        "#Gráfica de dispersión de las horas de la semana\n",
        "plt.figure(figsize=(15,8))\n",
        "x=year20p[n]['hora']\n",
        "y=year20p[n]['pip']\n",
        "plt.scatter(x,y)\n",
        "\n",
        "plt.xticks(range(24))"
      ],
      "execution_count": null,
      "outputs": []
    },
    {
      "cell_type": "markdown",
      "metadata": {
        "id": "K4kknZFyc895"
      },
      "source": [
        "###Resumen del Comportamiento de la Tendencia alcista del mes\n"
      ]
    },
    {
      "cell_type": "code",
      "metadata": {
        "id": "Qcy-Jv8ZdA07"
      },
      "source": [
        "\"\"\"\"\n",
        "Tabla:\n",
        "Comportamiento del mercado durante todos los días  del mes que tuvieron una\n",
        "tendencia alcista superior a 120 puntos  con sus horas referenciadas.\n",
        "\"\"\"\n",
        "\n",
        "TablaResumen_En_m=pd.pivot_table(year20p[n] ,index=['dia_semana','dia_nombre','hora'], values= ['pip'],aggfunc=['count' ,max    ], margins=True)\n",
        "TablaResumen_sm_En_m=pd.pivot_table(year20p[n] ,index=['dia_semana','dia_nombre','hora'], values= ['pip'],aggfunc=['count' ,max  ])\n",
        "df_TablaResumen_En_m=pd.DataFrame(TablaResumen_En_m)\n",
        "df_TablaResumen_sm_En_m=pd.DataFrame(TablaResumen_En_m)#sin margenes\n",
        "print(df_TablaResumen_En_m,'\\n')#Tabla pivote\n",
        "# print(df_TablaResumen_En_m)#Tabla pivote\n",
        "df_TablaResumen_En_m.reset_index(inplace=True)\n",
        "df_TablaResumen_En_m_d=pd.DataFrame(df_TablaResumen_En_m.loc[:,[('dia_nombre',    '')]].mode())\n",
        "df_TablaResumen_En_m_h_c=list(df_TablaResumen_En_m.loc[:,[(      'hora',    '')]].mode().count())\n",
        "df_TablaResumen_En_m_h=df_TablaResumen_En_m.loc[:,[(      'hora',    '')]].mode()\n",
        "#Resumen de Tabla\n",
        "print('Dia más  destacables del mes:',list(df_TablaResumen_En_m_d['dia_nombre'])[0])\n",
        "print('Numero de horas  destacables del mes:',df_TablaResumen_En_m_h_c[0]) \n",
        "print('Hora(s) destacable(s) del mes:',list(df_TablaResumen_En_m_h['hora'])[:]) "
      ],
      "execution_count": null,
      "outputs": []
    },
    {
      "cell_type": "markdown",
      "metadata": {
        "id": "FnjzNLd4sOmN"
      },
      "source": [
        "####Análisis por Numero de operaciones por Dia\n"
      ]
    },
    {
      "cell_type": "code",
      "metadata": {
        "id": "LWRAu4eGswDJ"
      },
      "source": [
        "#El objetivo : buscar días potenciales de inversión.\n",
        "dia_operaciones=pd.pivot_table(year20p[n] ,index=['dia_semana','dia_nombre'], values= ['pip'],aggfunc=['count',sum])\n",
        "\n",
        "df_dia_operaciones=pd.DataFrame( dia_operaciones)\n",
        "df_dia_operaciones.reset_index(inplace=True)\n",
        "df_dia_operaciones=df_dia_operaciones[df_dia_operaciones.iloc[:,2]>2]\n",
        "df_dia_operaciones.columns.set_levels(['Horas Potenciales','Beneficio Pip','Nombre',  'Dia del Mes'],level=0,inplace=True)\n",
        "df_dia_operaciones[ 'Total Benef vol(2)']=df_dia_operaciones.iloc[:,3]*0.82*2\n",
        "df_dia_operaciones[ 'Total Benef vol(1)']=df_dia_operaciones.iloc[:,3]*0.82*1\n",
        "df_dia_operaciones[ 'Total Benef vol(0.5)']=df_dia_operaciones.iloc[:,3]*0.82*0.5\n",
        "df_dia_operaciones.columns.set_levels(['',' ' ],level=1,inplace=True)\n",
        "df_dia_operaciones"
      ],
      "execution_count": null,
      "outputs": []
    },
    {
      "cell_type": "markdown",
      "metadata": {
        "id": "jyFY1cfpdFFo"
      },
      "source": [
        "##Puntos Acumulados por Lote\n"
      ]
    },
    {
      "cell_type": "code",
      "metadata": {
        "id": "oH8JhFdad0SX"
      },
      "source": [
        "lote_120_239=year20p[n][(year20p[n]['pip']>=120)&(year20p[n]['pip']<240)]\n",
        "lote_240_359=year20p[n][(year20p[n]['pip']>=240)&(year20p[n]['pip']<360)]\n",
        "lote_360_inf=year20p[n][(year20p[n]['pip']>=360)]\n",
        "\n",
        "TablaResumen_En_d=pd.pivot_table(lote_120_239 ,index=['dia_semana',], values= ['dia_nombre','hora','pip' ],aggfunc=['count' ,max,  sum  ], margins=True)\n",
        "TablaResumen_sm_En_d=pd.pivot_table(lote_120_239 ,index=['dia_semana'], values= ['dia_nombre','hora','pip'],aggfunc=['count' ,max,  sum  ])\n",
        "df_TablaResumen_En_d=pd.DataFrame(TablaResumen_En_d)\n",
        "df_TablaResumen_sm_En_d=pd.DataFrame(TablaResumen_En_d)#sin margenes\n",
        "num_horas_dest_En_d=list(df_TablaResumen_En_d.iloc[:,4].mode().value_counts().value_counts())\n",
        "horas_dest_En_d=list(df_TablaResumen_sm_En_d.iloc[:,4].mode())"
      ],
      "execution_count": null,
      "outputs": []
    },
    {
      "cell_type": "markdown",
      "metadata": {
        "id": "hB7zZv3md-rF"
      },
      "source": [
        "###Puntos Acumulados entre 120 y 239"
      ]
    },
    {
      "cell_type": "code",
      "metadata": {
        "id": "nqS2vMR6eLYu"
      },
      "source": [
        "print(TablaResumen_En_d,'\\n')\n",
        "print('Numero Total de horas destacables del mes:',df_TablaResumen_En_d.iloc[-1,0] )\n",
        "print('Dia más  destacables del mes:',list((df_TablaResumen_En_d.iloc[:,3].mode())))\n",
        "print('Numero de horas  destacables del mes:',num_horas_dest_En_d[0] ) \n",
        "print('Hora(s)  destacables del mes:',horas_dest_En_d ) "
      ],
      "execution_count": null,
      "outputs": []
    },
    {
      "cell_type": "markdown",
      "metadata": {
        "id": "TFS3ddDeeOWf"
      },
      "source": [
        "###Puntos Acumulados entre 240 y 359 "
      ]
    },
    {
      "cell_type": "code",
      "metadata": {
        "id": "Buo6vwnZeRIS"
      },
      "source": [
        "TablaResumen_En_d=pd.pivot_table(lote_240_359 ,index=['dia_semana',], values= ['dia_nombre','hora','pip' ],aggfunc=['count' ,max,  sum  ], margins=True)\n",
        "TablaResumen_sm_En_d=pd.pivot_table(lote_240_359 ,index=['dia_semana'], values= ['dia_nombre','hora','pip'],aggfunc=['count' ,max,  sum  ])\n",
        "df_TablaResumen_En_d=pd.DataFrame(TablaResumen_En_d)\n",
        "df_TablaResumen_sm_En_d=pd.DataFrame(TablaResumen_En_d)#sin margenes\n",
        "num_horas_dest_En_d=list(df_TablaResumen_En_d.iloc[:,4].mode().value_counts().value_counts())\n",
        "horas_dest_En_d=list(df_TablaResumen_sm_En_d.iloc[:,4].mode())\n",
        "print(TablaResumen_En_d,'\\n')\n",
        "print('Numero Total de Horas Destacables del Mes:',df_TablaResumen_En_d.iloc[-1,0] )\n",
        "print('Dia más  Destacables del Mes:',list(df_TablaResumen_En_d.iloc[:,3].mode()) )\n",
        "print('Numero de Horas  Destacables del Mes:',num_horas_dest_En_d[0] ) \n",
        "print('Hora(s)  Destacables del Mes:',horas_dest_En_d ) "
      ],
      "execution_count": null,
      "outputs": []
    },
    {
      "cell_type": "markdown",
      "metadata": {
        "id": "Wj9_rELleVLN"
      },
      "source": [
        "###Puntos Acumulados entre 360 e infinito"
      ]
    },
    {
      "cell_type": "code",
      "metadata": {
        "id": "2WN8sAmveX_U"
      },
      "source": [
        "try:\n",
        "  TablaResumen_En_d=pd.pivot_table(lote_360_inf ,index=['dia_semana',], values= ['dia_nombre','hora','pip' ],aggfunc=['count' ,max,  sum  ], margins=True)\n",
        "  TablaResumen_sm_En_d=pd.pivot_table(lote_360_inf ,index=['dia_semana'], values= ['dia_nombre','hora','pip'],aggfunc=['count' ,max,  sum  ])\n",
        "  df_TablaResumen_En_d=pd.DataFrame(TablaResumen_En_d)\n",
        "  df_TablaResumen_sm_En_d=pd.DataFrame(TablaResumen_sm_En_d)#sin margenes\n",
        "  num_horas_dest_En_d=list(df_TablaResumen_sm_En_d.iloc[:,4].mode().value_counts().value_counts())\n",
        "  horas_dest_En_d=list(df_TablaResumen_sm_En_d.iloc[:,4].mode())\n",
        "  apto_En=1\n",
        "except:\n",
        "  print('Este mes no Supero los 360 Puntos por Hora\\n')\n",
        "  apto_En=0\n",
        "\n",
        "\n",
        "\n",
        "if apto_En==1:\n",
        "  print(TablaResumen_En_d,'\\n')\n",
        "else:\n",
        "  print('Este Mes no Supero los 360 Puntos , No  hay Tabla\\n')\n",
        "\n",
        "\n",
        "if apto_En==1:\n",
        "  print('Numero Total de Horas Destacables del mes:',df_TablaResumen_En_d.iloc[-1,0] )\n",
        "  print('Dia más  Destacables del Mes:',list(df_TablaResumen_sm_En_d.iloc[:,3].mode()) )\n",
        "  print('Numero de Horas  destacables del Mes:',num_horas_dest_En_d[0] ) \n",
        "  print('Hora(s)  Destacables del Mes:',horas_dest_En_d ) \n",
        "else:\n",
        "  print('Este Mes no Supero los 360 puntos , No  hay Resumen')"
      ],
      "execution_count": null,
      "outputs": []
    },
    {
      "cell_type": "markdown",
      "metadata": {
        "id": "H4CWlLYsXaq0"
      },
      "source": [
        "Transdormación a PDF"
      ]
    },
    {
      "cell_type": "code",
      "metadata": {
        "id": "iLI5E437XMn6"
      },
      "source": [
        "!ls"
      ],
      "execution_count": null,
      "outputs": []
    },
    {
      "cell_type": "code",
      "metadata": {
        "id": "PORKlGcqXgJE"
      },
      "source": [
        "!pwd"
      ],
      "execution_count": null,
      "outputs": []
    },
    {
      "cell_type": "code",
      "metadata": {
        "id": "xBFvYrl4XiQ_"
      },
      "source": [
        "%cd /content/drive/MyDrive/"
      ],
      "execution_count": null,
      "outputs": []
    },
    {
      "cell_type": "code",
      "metadata": {
        "id": "Cvkw8pK7XkXu"
      },
      "source": [
        "!ls"
      ],
      "execution_count": null,
      "outputs": []
    },
    {
      "cell_type": "code",
      "metadata": {
        "id": "F8CHP2SUXmx5"
      },
      "source": [
        "# !sudo apt-get install texlive-xetex texlive-fonts-recommended texlive-generic-recommended\n"
      ],
      "execution_count": null,
      "outputs": []
    },
    {
      "cell_type": "code",
      "metadata": {
        "id": "0kOFwWxfXozr"
      },
      "source": [
        "\n",
        "!jupyter nbconvert --to pdf EURUSD.ipynb"
      ],
      "execution_count": null,
      "outputs": []
    }
  ]
}